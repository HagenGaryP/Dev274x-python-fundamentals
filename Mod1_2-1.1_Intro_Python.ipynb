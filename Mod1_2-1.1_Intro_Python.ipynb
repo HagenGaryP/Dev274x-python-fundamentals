{
  "cells": [
    {
      "metadata": {},
      "cell_type": "markdown",
      "source": "# 2-1.1 Intro Python\n## Sequence: String\n- **Accessing String Characters with index**\n- Accessing sub-strings with index slicing\n- Iterating through Characters of a String\n- More String Methods\n\n----- \n\n><font size=\"5\" color=\"#00A0B2\"  face=\"verdana\"> <B>Student will be able to</B></font>  \n- **Work with String Characters by index\n**\n- Slice strings into substrings\n- Iterate through String Characters\n- Use String Methods"
    },
    {
      "metadata": {
        "collapsed": true
      },
      "cell_type": "markdown",
      "source": "# &nbsp;\n<font size=\"6\" color=\"#00A0B2\"  face=\"verdana\"> <B>Concepts</B></font>\n## Accessing a single String Character\n[![view video](https://iajupyterprodblobs.blob.core.windows.net/imagecontainer/common/play_video.png)]( http://edxinteractivepage.blob.core.windows.net/edxpages/f7cff1a7-5601-48a1-95a6-fd1fdfabd20e.html?details=[{\"src\":\"http://jupyternootbookwams.streaming.mediaservices.windows.net/a8044252-4f2f-4960-b37b-70da8fe4769a/Unit2_Section1.1a-String_Index_Address.ism/manifest\",\"type\":\"application/vnd.ms-sstr+xml\"}],[{\"src\":\"http://jupyternootbookwams.streaming.mediaservices.windows.net/a8044252-4f2f-4960-b37b-70da8fe4769a/Unit2_Section1.1a-String_Index_Address.vtt\",\"srclang\":\"en\",\"kind\":\"subtitles\",\"label\":\"english\"}])\n### addressing a string index\nStrings are sequences of characters.  Another common sequence type used in this course is a **list**.  Sequences index items counting from 0 for the first item.\n\n![string with index for each letter](https://iajupyterprodblobs.blob.core.windows.net/imagecontainer/string_indexes.PNG)  \n\n```python\n# assign string to student_name\nstudent_name = \"Alton\"\n# first character is at index 0\nstudent_name[0]\n```  \n"
    },
    {
      "metadata": {},
      "cell_type": "markdown",
      "source": "# &nbsp;\n<font size=\"6\" color=\"#00A0B2\"  face=\"verdana\"> <B>Examples</B></font>"
    },
    {
      "metadata": {
        "trusted": true
      },
      "cell_type": "code",
      "source": "# [ ] review and run example - note the first element is always index = 0\nstudent_name = \"Alton\"\nprint(student_name[0], \"<-- first character at index 0\")\nprint(student_name[1])\nprint(student_name[2])\nprint(student_name[3])\nprint(student_name[4])",
      "execution_count": 1,
      "outputs": [
        {
          "output_type": "stream",
          "text": "A <-- first character at index 0\nl\nt\no\nn\n",
          "name": "stdout"
        }
      ]
    },
    {
      "metadata": {
        "trusted": true
      },
      "cell_type": "code",
      "source": "# [ ] review and run example\nstudent_name = \"Jin\"\nif student_name[0].lower() == \"a\":\n    print('Winner! Name starts with A:', student_name)\nelif student_name[0].lower() == \"j\":\n    print('Winner! Name starts with J:', student_name)\nelse:\n    print('Not a match, try again tomorrow:', student_name)",
      "execution_count": 2,
      "outputs": [
        {
          "output_type": "stream",
          "text": "Winner! Name starts with J: Jin\n",
          "name": "stdout"
        }
      ]
    },
    {
      "metadata": {
        "trusted": true
      },
      "cell_type": "code",
      "source": "# [ ] review and run ERROR example\n# cannot index out of range\nstudent_name = \"Tobias\"\nprint(student_name[6])",
      "execution_count": 3,
      "outputs": [
        {
          "output_type": "error",
          "ename": "IndexError",
          "evalue": "string index out of range",
          "traceback": [
            "\u001b[0;31m---------------------------------------------------------------------------\u001b[0m",
            "\u001b[0;31mIndexError\u001b[0m                                Traceback (most recent call last)",
            "\u001b[0;32m<ipython-input-3-8c616a470dcf>\u001b[0m in \u001b[0;36m<module>\u001b[0;34m()\u001b[0m\n\u001b[1;32m      2\u001b[0m \u001b[0;31m# cannot index out of range\u001b[0m\u001b[0;34m\u001b[0m\u001b[0;34m\u001b[0m\u001b[0m\n\u001b[1;32m      3\u001b[0m \u001b[0mstudent_name\u001b[0m \u001b[0;34m=\u001b[0m \u001b[0;34m\"Tobias\"\u001b[0m\u001b[0;34m\u001b[0m\u001b[0m\n\u001b[0;32m----> 4\u001b[0;31m \u001b[0mprint\u001b[0m\u001b[0;34m(\u001b[0m\u001b[0mstudent_name\u001b[0m\u001b[0;34m[\u001b[0m\u001b[0;36m6\u001b[0m\u001b[0;34m]\u001b[0m\u001b[0;34m)\u001b[0m\u001b[0;34m\u001b[0m\u001b[0m\n\u001b[0m",
            "\u001b[0;31mIndexError\u001b[0m: string index out of range"
          ]
        }
      ]
    },
    {
      "metadata": {
        "collapsed": true
      },
      "cell_type": "markdown",
      "source": "# &nbsp;\n<font size=\"6\" color=\"#B24C00\"  face=\"verdana\"> <B>Task 1</B></font>\n\n## Work with individual string characters  \n\n|                                                                 |\n|-----------------------------------------------------------------|\n|  **Remember:** the first character in a string is at **index 0**|\n|                                                                 |\n"
    },
    {
      "metadata": {
        "trusted": true
      },
      "cell_type": "code",
      "source": "# [ ] assign a string 5 or more letters long to the variable: street_name\n# [ ] print the 1st, 3rd and 5th characters\nstreet_name = \"Madison\"\n\nprint(street_name[0])\nprint(street_name[2])\nprint(street_name[4])",
      "execution_count": 5,
      "outputs": [
        {
          "output_type": "stream",
          "text": "M\nd\ns\n",
          "name": "stdout"
        }
      ]
    },
    {
      "metadata": {
        "trusted": true
      },
      "cell_type": "code",
      "source": "# [ ] Create an input variable: team_name - ask that second letter = \"i\", \"o\", or \"u\"\n# [ ] Test if team_name 2nd character = \"i\", \"o\", or \"u\" and print a message\n# note: use if, elif and else\nletter = \"i, o, u\"\nteam_name = input('Enter team name that has its 2nd letter as \"i\", \"o\", or \"u\"')\nif team_name[1] in letter:\n    print(team_name, 'has \"i\", \"o\", or \"u\" as its 2nd letter!')\nelse:\n    print(team_name, 'does not have \"i\", \"o\", or \"u\" as its 2nd letter!')\n",
      "execution_count": 7,
      "outputs": [
        {
          "output_type": "stream",
          "name": "stdout",
          "text": "Enter team name that has its 2nd letter as \"i\", \"o\", or \"u\"hagen\nhagen does not have \"i\", \"o\", or \"u\" as its 2nd letter!\n"
        }
      ]
    },
    {
      "metadata": {},
      "cell_type": "markdown",
      "source": "# &nbsp;\n<font size=\"6\" color=\"#00A0B2\"  face=\"verdana\"> <B>Concepts</B></font>\n## Using a negative index \n[![view video](https://iajupyterprodblobs.blob.core.windows.net/imagecontainer/common/play_video.png)](http://edxinteractivepage.blob.core.windows.net/edxpages/f7cff1a7-5601-48a1-95a6-fd1fdfabd20e.html?details=[{\"src\":\"http://jupyternootbookwams.streaming.mediaservices.windows.net/28da3b48-538d-4412-ae7b-ce95e9892ce9/Unit2_Section1.1b-Using_a_Negative_Index.ism/manifest\",\"type\":\"application/vnd.ms-sstr+xml\"}],[{\"src\":\"http://jupyternootbookwams.streaming.mediaservices.windows.net/28da3b48-538d-4412-ae7b-ce95e9892ce9/Unit2_Section1.1b-Using_a_Negative_Index.vtt\",\"srclang\":\"en\",\"kind\":\"subtitles\",\"label\":\"english\"}])\n### Access the end of a string using -1\nStrings assign an **index** number address to each string character\n\n- first character in a string is index 0\n- last character in a string is index **-1**\n\n![negative string index counts from the end](https://iajupyterprodblobs.blob.core.windows.net/imagecontainer/string_neg_index.PNG)\n\nTo access the last character in a string\n```python\nstudent_name[-1]\n```\n"
    },
    {
      "metadata": {},
      "cell_type": "markdown",
      "source": "### &nbsp;\n<font size=\"6\" color=\"#00A0B2\"  face=\"verdana\"> <B>Examples</B></font>\n\n"
    },
    {
      "metadata": {},
      "cell_type": "markdown",
      "source": "#### access the last character with the -1 index\nnegative index counts back from the last character in a string  "
    },
    {
      "metadata": {
        "trusted": true
      },
      "cell_type": "code",
      "source": "# [ ] review and run example\nstudent_name = \"Joana\"\n\n# get last letter\nend_letter = student_name[-1]\nprint(student_name,\"ends with\", \"'\" + end_letter + \"'\")",
      "execution_count": 8,
      "outputs": [
        {
          "output_type": "stream",
          "text": "Joana ends with 'a'\n",
          "name": "stdout"
        }
      ]
    },
    {
      "metadata": {
        "trusted": true
      },
      "cell_type": "code",
      "source": "# [ ] review and run example\n# get second to last letter\nsecond_last_letter = student_name[-2]\nprint(student_name,\"has 2nd to last letter of\", \"'\" + second_last_letter + \"'\")",
      "execution_count": 9,
      "outputs": [
        {
          "output_type": "stream",
          "text": "Joana has 2nd to last letter of 'n'\n",
          "name": "stdout"
        }
      ]
    },
    {
      "metadata": {
        "trusted": true
      },
      "cell_type": "code",
      "source": "# [ ] review and run example\n# you can get to the same letter with index counting + or -\nprint(\"for\", student_name)\nprint(\"index 3 =\", \"'\" + student_name[3] + \"'\")\nprint(\"index -2 =\",\"'\" + student_name[-2] + \"'\")",
      "execution_count": 10,
      "outputs": [
        {
          "output_type": "stream",
          "text": "for Joana\nindex 3 = 'n'\nindex -2 = 'n'\n",
          "name": "stdout"
        }
      ]
    },
    {
      "metadata": {
        "collapsed": true
      },
      "cell_type": "markdown",
      "source": "# &nbsp;\n<font size=\"6\" color=\"#B24C00\"  face=\"verdana\"> <B>Task 2</B></font>\n"
    },
    {
      "metadata": {
        "trusted": true
      },
      "cell_type": "code",
      "source": "# [ ] assign a string 5 or more letters long to the variable: street_name\n# [ ] print the last 3 characters of street_name\n\nstreet_name = \"Madison\"\nprint(street_name[-1])\nprint(street_name[-2])\nprint(street_name[-3])",
      "execution_count": 11,
      "outputs": [
        {
          "output_type": "stream",
          "text": "n\no\ns\n",
          "name": "stdout"
        }
      ]
    },
    {
      "metadata": {
        "trusted": true
      },
      "cell_type": "code",
      "source": "# [ ] create and assign string variable: first_name\nfirst_name = \"Gary\"\n# [ ] print the first and last letters of name\nprint(first_name[0])\nprint(first_name[-1])\n",
      "execution_count": 12,
      "outputs": [
        {
          "output_type": "stream",
          "text": "G\ny\n",
          "name": "stdout"
        }
      ]
    },
    {
      "metadata": {
        "collapsed": true
      },
      "cell_type": "markdown",
      "source": "# &nbsp;\n<font size=\"6\" color=\"#B24C00\"  face=\"verdana\"> <B>Task 3</B></font>  \n## Fix the Errors"
    },
    {
      "metadata": {
        "trusted": true
      },
      "cell_type": "code",
      "source": "# [ ] Review, Run, Fix the error using string index\nshoe = \"tennis\"\n# print the last letter\nprint(shoe[-1])\n\n",
      "execution_count": 14,
      "outputs": [
        {
          "output_type": "stream",
          "text": "s\n",
          "name": "stdout"
        }
      ]
    },
    {
      "metadata": {},
      "cell_type": "markdown",
      "source": "[Terms of use](http://go.microsoft.com/fwlink/?LinkID=206977) &nbsp; [Privacy & cookies](https://go.microsoft.com/fwlink/?LinkId=521839) &nbsp; © 2017 Microsoft"
    }
  ],
  "metadata": {
    "anaconda-cloud": {},
    "kernelspec": {
      "name": "python3",
      "display_name": "Python 3",
      "language": "python"
    },
    "language_info": {
      "mimetype": "text/x-python",
      "nbconvert_exporter": "python",
      "name": "python",
      "pygments_lexer": "ipython3",
      "version": "3.5.4",
      "file_extension": ".py",
      "codemirror_mode": {
        "version": 3,
        "name": "ipython"
      }
    }
  },
  "nbformat": 4,
  "nbformat_minor": 1
}