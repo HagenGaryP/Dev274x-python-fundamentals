{
  "cells": [
    {
      "metadata": {},
      "cell_type": "markdown",
      "source": "# 2-1.2 Intro Python\n## Sequence: String\n- Accessing String Character with index\n- **Accessing sub-strings with index slicing**\n- Iterating through Characters of a String\n- More String Methods\n\n----- \n\n><font size=\"5\" color=\"#00A0B2\"  face=\"verdana\"> <B>Student will be able to</B></font>  \n- Work with String Characters\n- **Slice strings into substrings**\n- Iterate through String Characters\n- Use String Methods"
    },
    {
      "metadata": {},
      "cell_type": "markdown",
      "source": "# &nbsp;\n<font size=\"6\" color=\"#00A0B2\"  face=\"verdana\"> <B>Concepts</B></font>\n## Accessing sub-strings \n[![view video](https://iajupyterprodblobs.blob.core.windows.net/imagecontainer/common/play_video.png)]( http://edxinteractivepage.blob.core.windows.net/edxpages/f7cff1a7-5601-48a1-95a6-fd1fdfabd20e.html?details=[{\"src\":\"http://jupyternootbookwams.streaming.mediaservices.windows.net/251ad8c1-588b-47de-8638-a5bcd0f29800/Unit2_Section1.2a-Index_Slicing-Substrings.ism/manifest\",\"type\":\"application/vnd.ms-sstr+xml\"}],[{\"src\":\"http://jupyternootbookwams.streaming.mediaservices.windows.net/251ad8c1-588b-47de-8638-a5bcd0f29800/Unit2_Section1.2a-Index_Slicing-Substrings.vtt\",\"srclang\":\"en\",\"kind\":\"subtitles\",\"label\":\"english\"}])\n### Index Slicing [start:stop]\nString slicing returns a string section by addressing the start and stop indexes\n\n```python\n# assign string to student_name\nstudent_name = \"Colette\"\n# addressing the 3rd, 4th and 5th characters\nstudent_name[2:5]\n```\nThe slice starts at index 2 and ends at index 5 (but does not include index 5)"
    },
    {
      "metadata": {},
      "cell_type": "markdown",
      "source": "# &nbsp;\n<font size=\"6\" color=\"#00A0B2\"  face=\"verdana\"> <B>Examples</B></font>"
    },
    {
      "metadata": {
        "trusted": true
      },
      "cell_type": "code",
      "source": "# [ ] review and run example\n# assign string to student_name\nstudent_name = \"Colette\"\n\n# addressing the 3rd, 4th and 5th characters using a slice\nprint(\"slice student_name[2:5]:\",student_name[2:5])",
      "execution_count": 1,
      "outputs": [
        {
          "output_type": "stream",
          "text": "slice student_name[2:5]: let\n",
          "name": "stdout"
        }
      ]
    },
    {
      "metadata": {
        "trusted": true
      },
      "cell_type": "code",
      "source": "# [ ] review and run example\n# assign string to student_name\nstudent_name = \"Colette\"\n\n# addressing the 3rd, 4th and 5th characters individually\nprint(\"index 2, 3 & 4 of student_name:\", student_name[2] + student_name[3] + student_name[4])",
      "execution_count": 2,
      "outputs": [
        {
          "output_type": "stream",
          "text": "index 2, 3 & 4 of student_name: let\n",
          "name": "stdout"
        }
      ]
    },
    {
      "metadata": {
        "trusted": true
      },
      "cell_type": "code",
      "source": "# [ ] review and run example\nlong_word = 'Acknowledgement'\nprint(long_word[2:11])\nprint(long_word[2:11], \"is the 3rd char through the 11th char\")\nprint(long_word[2:11], \"is the index 2, \\\"\" + long_word[2] + \"\\\",\", \"through index 10, \\\"\" + long_word[10] + \"\\\"\")",
      "execution_count": 3,
      "outputs": [
        {
          "output_type": "stream",
          "text": "knowledge\nknowledge is the 3rd char through the 11th char\nknowledge is the index 2, \"k\", through index 10, \"e\"\n",
          "name": "stdout"
        }
      ]
    },
    {
      "metadata": {
        "collapsed": true
      },
      "cell_type": "markdown",
      "source": "# &nbsp;\n<font size=\"6\" color=\"#B24C00\"  face=\"verdana\"> <B>Task 1</B></font>\n\n## slice a string\n### start & stop index"
    },
    {
      "metadata": {
        "trusted": true
      },
      "cell_type": "code",
      "source": "# [ ] slice long_word to print \"act\" and to print \"tic\"\nlong_word = \"characteristics\"\n\nprint(long_word[4:7])\nprint(long_word[11:14])\n\n",
      "execution_count": 8,
      "outputs": [
        {
          "output_type": "stream",
          "text": "act\ntic\n",
          "name": "stdout"
        }
      ]
    },
    {
      "metadata": {
        "trusted": true
      },
      "cell_type": "code",
      "source": "# [ ] slice long_word to print \"sequence\"\nlong_word = \"Consequences\"\n\nprint(long_word[3:11])",
      "execution_count": 9,
      "outputs": [
        {
          "output_type": "stream",
          "text": "sequence\n",
          "name": "stdout"
        }
      ]
    },
    {
      "metadata": {},
      "cell_type": "markdown",
      "source": "# &nbsp;\n<font size=\"6\" color=\"#00A0B2\"  face=\"verdana\"> <B>Concepts</B></font>\n## Accessing beginning of sub-strings \n[![view video](https://iajupyterprodblobs.blob.core.windows.net/imagecontainer/common/play_video.png)]( http://edxinteractivepage.blob.core.windows.net/edxpages/f7cff1a7-5601-48a1-95a6-fd1fdfabd20e.html?details=[{\"src\":\"http://jupyternootbookwams.streaming.mediaservices.windows.net/368b352f-6061-488c-80a4-d75e455f4416/Unit2_Section1.2b-Index_Slicing_Beginnings.ism/manifest\",\"type\":\"application/vnd.ms-sstr+xml\"}],[{\"src\":\"http://jupyternootbookwams.streaming.mediaservices.windows.net/368b352f-6061-488c-80a4-d75e455f4416/Unit2_Section1.2b-Index_Slicing_Beginnings.vtt\",\"srclang\":\"en\",\"kind\":\"subtitles\",\"label\":\"english\"}])\n### Index Slicing [:stop]\nString slicing returns a string section from index 0 by addressing only the stop index\n\n```python\nstudent_name = \"Colette\"\n# addressing the 1st, 2nd & 3rd characters\nstudent_name[:3]\n```\n**default start for a slice is index 0**"
    },
    {
      "metadata": {},
      "cell_type": "markdown",
      "source": "### &nbsp;\n<font size=\"6\" color=\"#00A0B2\"  face=\"verdana\"> <B>Example</B></font>"
    },
    {
      "metadata": {
        "trusted": true
      },
      "cell_type": "code",
      "source": "# [ ] review and run example\nstudent_name = \"Colette\"\n# addressing the 1st, 2nd & 3rd characters\nprint(student_name[:3])",
      "execution_count": 10,
      "outputs": [
        {
          "output_type": "stream",
          "text": "Col\n",
          "name": "stdout"
        }
      ]
    },
    {
      "metadata": {
        "collapsed": true
      },
      "cell_type": "markdown",
      "source": "# &nbsp;\n<font size=\"6\" color=\"#B24C00\"  face=\"verdana\"> <B>Task 2</B></font>\n"
    },
    {
      "metadata": {
        "trusted": true
      },
      "cell_type": "code",
      "source": "# [ ] print the first half of the long_word\nlong_word = \"Consequences\"\n\nprint(long_word[:6])\n",
      "execution_count": 13,
      "outputs": [
        {
          "output_type": "stream",
          "text": "Conseq\n",
          "name": "stdout"
        }
      ]
    },
    {
      "metadata": {},
      "cell_type": "markdown",
      "source": "# &nbsp;\n<font size=\"6\" color=\"#00A0B2\"  face=\"verdana\"> <B>Concepts</B></font>\n## Accessing ending of sub-strings \n[![view video](https://iajupyterprodblobs.blob.core.windows.net/imagecontainer/common/play_video.png)]( http://edxinteractivepage.blob.core.windows.net/edxpages/f7cff1a7-5601-48a1-95a6-fd1fdfabd20e.html?details=[{\"src\":\"http://jupyternootbookwams.streaming.mediaservices.windows.net/29beb75a-aee7-43df-9569-e9ad22cffac4/Unit2_Section1.2c-Index_Slicing_Endings.ism/manifest\",\"type\":\"application/vnd.ms-sstr+xml\"}],[{\"src\":\"http://jupyternootbookwams.streaming.mediaservices.windows.net/29beb75a-aee7-43df-9569-e9ad22cffac4/Unit2_Section1.2c-Index_Slicing_Endings.vtt\",\"srclang\":\"en\",\"kind\":\"subtitles\",\"label\":\"english\"}])\n### Index Slicing [start:]\nString slicing returns a string section including by addressing only the start index\n\n```python\nstudent_name = \"Colette\"\n# addressing the 4th, 5th and 6th characters\nstudent_name[3:]\n```\n**default end index returns up to and including the last string character**"
    },
    {
      "metadata": {},
      "cell_type": "markdown",
      "source": "### &nbsp;\n<font size=\"6\" color=\"#00A0B2\"  face=\"verdana\"> <B>Example</B></font>"
    },
    {
      "metadata": {
        "trusted": true
      },
      "cell_type": "code",
      "source": "# [ ] review and run example\nstudent_name = \"Colette\"\n#  4th, 5th, 6th and 7th characters\nstudent_name[3:]",
      "execution_count": 14,
      "outputs": [
        {
          "output_type": "execute_result",
          "execution_count": 14,
          "data": {
            "text/plain": "'ette'"
          },
          "metadata": {}
        }
      ]
    },
    {
      "metadata": {
        "collapsed": true
      },
      "cell_type": "markdown",
      "source": "# &nbsp;\n<font size=\"6\" color=\"#B24C00\"  face=\"verdana\"> <B>Task 3</B></font>\n"
    },
    {
      "metadata": {
        "trusted": true
      },
      "cell_type": "code",
      "source": "# [ ] print the second half of the long_word\nlong_word = \"Consequences\"\n\nprint(long_word[6:])",
      "execution_count": 16,
      "outputs": [
        {
          "output_type": "stream",
          "text": "uences\n",
          "name": "stdout"
        }
      ]
    },
    {
      "metadata": {},
      "cell_type": "markdown",
      "source": "# &nbsp;\n<font size=\"6\" color=\"#00A0B2\"  face=\"verdana\"> <B>Concepts</B></font>\n## accessing sub-strings by step size\n[![view video](https://iajupyterprodblobs.blob.core.windows.net/imagecontainer/common/play_video.png)]( http://edxinteractivepage.blob.core.windows.net/edxpages/f7cff1a7-5601-48a1-95a6-fd1fdfabd20e.html?details=[{\"src\":\"http://jupyternootbookwams.streaming.mediaservices.windows.net/62c65917-4979-4d26-9a05-09e1ed02cc51/Unit2_Section1.2d-Index_Slicing-Step_Sizes.ism/manifest\",\"type\":\"application/vnd.ms-sstr+xml\"}],[{\"src\":\"http://jupyternootbookwams.streaming.mediaservices.windows.net/62c65917-4979-4d26-9a05-09e1ed02cc51/Unit2_Section1.2d-Index_Slicing-Step_Sizes.vtt\",\"srclang\":\"en\",\"kind\":\"subtitles\",\"label\":\"english\"}])\n### Index Slicing [:], [::2]\n- **[:]** returns the entire string\n- **[::2]** returns the first char and then steps to every other char in the string\n- **[1::3]** returns the second char and then steps to every third char in the string  \n\nthe number **2**, in the print statement below, represents the **step** \n\n```python\nprint(long_word[::2])\n```"
    },
    {
      "metadata": {},
      "cell_type": "markdown",
      "source": "### &nbsp;\n<font size=\"6\" color=\"#00A0B2\"  face=\"verdana\"> <B>Examples</B></font>"
    },
    {
      "metadata": {
        "trusted": true
      },
      "cell_type": "code",
      "source": "# [ ] review and run example\nstudent_name = \"Colette\"\n# return all\nprint(student_name[:])",
      "execution_count": 17,
      "outputs": [
        {
          "output_type": "stream",
          "text": "Colette\n",
          "name": "stdout"
        }
      ]
    },
    {
      "metadata": {
        "trusted": true
      },
      "cell_type": "code",
      "source": "# [ ] review and run example\nstudent_name = \"Colette\"\n# return every other\nprint(student_name[::2])",
      "execution_count": 18,
      "outputs": [
        {
          "output_type": "stream",
          "text": "Clte\n",
          "name": "stdout"
        }
      ]
    },
    {
      "metadata": {
        "trusted": true
      },
      "cell_type": "code",
      "source": "# [ ] review and run example\nstudent_name = \"Colette\"\n# return every third, starting at 2nd character\nprint(student_name[1::2])",
      "execution_count": 19,
      "outputs": [
        {
          "output_type": "stream",
          "text": "oet\n",
          "name": "stdout"
        }
      ]
    },
    {
      "metadata": {
        "trusted": true
      },
      "cell_type": "code",
      "source": "# [ ] review and run example\nlong_word = \"Consequences\"\n# starting at 2nd char (index 1) to 9th character, return every other character\nprint(long_word[1:9:2])",
      "execution_count": 20,
      "outputs": [
        {
          "output_type": "stream",
          "text": "osqe\n",
          "name": "stdout"
        }
      ]
    },
    {
      "metadata": {
        "collapsed": true
      },
      "cell_type": "markdown",
      "source": "# &nbsp;\n<font size=\"6\" color=\"#B24C00\"  face=\"verdana\"> <B>Task 4</B></font>\n"
    },
    {
      "metadata": {
        "trusted": true
      },
      "cell_type": "code",
      "source": "# [ ] print the 1st and every 3rd letter of long_word\nlong_word = \"Acknowledgement\"\n\nprint(long_word[0::2])",
      "execution_count": 21,
      "outputs": [
        {
          "output_type": "stream",
          "text": "Akoldeet\n",
          "name": "stdout"
        }
      ]
    },
    {
      "metadata": {
        "trusted": true
      },
      "cell_type": "code",
      "source": "# [ ] print every other character of long_word starting at the 3rd character\nlong_word = \"Acknowledgement\"\nprint(long_word[2::2])",
      "execution_count": 22,
      "outputs": [
        {
          "output_type": "stream",
          "text": "koldeet\n",
          "name": "stdout"
        }
      ]
    },
    {
      "metadata": {},
      "cell_type": "markdown",
      "source": "<font size=\"6\" color=\"#00A0B2\"  face=\"verdana\"> <B>Concepts</B></font>  \n\n## Accessing sub-strings  continued  \n[![view video](https://iajupyterprodblobs.blob.core.windows.net/imagecontainer/common/play_video.png)]( http://edxinteractivepage.blob.core.windows.net/edxpages/f7cff1a7-5601-48a1-95a6-fd1fdfabd20e.html?details=[{\"src\":\"http://jupyternootbookwams.streaming.mediaservices.windows.net/2e59f526-fadb-434e-822e-afe3732f75df/Unit2_Section1.2e-Index_Slicing-Reverse.ism/manifest\",\"type\":\"application/vnd.ms-sstr+xml\"}],[{\"src\":\"http://jupyternootbookwams.streaming.mediaservices.windows.net/2e59f526-fadb-434e-822e-afe3732f75df/Unit2_Section1.2e-Index_Slicing-Reverse.vtt\",\"srclang\":\"en\",\"kind\":\"subtitles\",\"label\":\"english\"}])\n### stepping backwards \n\n```python\nprint(long_word[::-1])\n```  \n\nuse **[::-1]** to reverse a string  "
    },
    {
      "metadata": {},
      "cell_type": "markdown",
      "source": "### &nbsp;\n<font size=\"6\" color=\"#00A0B2\"  face=\"verdana\"> <B>Example</B></font>"
    },
    {
      "metadata": {
        "scrolled": true,
        "trusted": true
      },
      "cell_type": "code",
      "source": "# [ ] review and run example of stepping backwards using [::-1]\nlong_word = \"characteristics\"\n# make the step increment -1 to step backwards\nprint(long_word[::-1])",
      "execution_count": 23,
      "outputs": [
        {
          "output_type": "stream",
          "text": "scitsiretcarahc\n",
          "name": "stdout"
        }
      ]
    },
    {
      "metadata": {
        "trusted": true
      },
      "cell_type": "code",
      "source": "# [ ] review and run example of stepping backwards using [6::-1]\nlong_word = \"characteristics\"\n# start at the 7th letter backwards to start\nprint(long_word[6::-1])",
      "execution_count": 24,
      "outputs": [
        {
          "output_type": "stream",
          "text": "tcarahc\n",
          "name": "stdout"
        }
      ]
    },
    {
      "metadata": {
        "collapsed": true
      },
      "cell_type": "markdown",
      "source": "# &nbsp;\n<font size=\"6\" color=\"#B24C00\"  face=\"verdana\"> <B>Task 5</B></font>  \nuse slicing"
    },
    {
      "metadata": {
        "trusted": true
      },
      "cell_type": "code",
      "source": "# [ ] reverse long_word\nlong_word = \"stressed\"\n\nprint(long_word[::-1])\n",
      "execution_count": 27,
      "outputs": [
        {
          "output_type": "stream",
          "text": "desserts\n",
          "name": "stdout"
        }
      ]
    },
    {
      "metadata": {
        "trusted": true
      },
      "cell_type": "code",
      "source": "# [ ] print the first 5 letters of long_word in reverse\nlong_word = \"characteristics\"\n\nprint(long_word[4::-1])",
      "execution_count": 28,
      "outputs": [
        {
          "output_type": "stream",
          "text": "arahc\n",
          "name": "stdout"
        }
      ]
    },
    {
      "metadata": {
        "collapsed": true
      },
      "cell_type": "markdown",
      "source": "# &nbsp;\n<font size=\"6\" color=\"#B24C00\"  face=\"verdana\"> <B>Task 6</B></font>  \nuse slicing"
    },
    {
      "metadata": {
        "trusted": true
      },
      "cell_type": "code",
      "source": "# [ ] print the first 4 letters of long_word\n# [ ] print the first 4 letters of long_word in reverse\n# [ ] print the last 4 letters of long_word in reverse\n# [ ] print the letters spanning indexes 3 to 6 of long_word in Reverse\nlong_word = \"timeline\"\n\nprint(long_word[:3])\nprint(long_word[3::-1])\nprint(long_word[7:3:-1])\nprint(long_word[6:2:-1])",
      "execution_count": 46,
      "outputs": [
        {
          "output_type": "stream",
          "text": "tim\nemit\nenil\nnile\n",
          "name": "stdout"
        }
      ]
    },
    {
      "metadata": {},
      "cell_type": "markdown",
      "source": "[Terms of use](http://go.microsoft.com/fwlink/?LinkID=206977) &nbsp; [Privacy & cookies](https://go.microsoft.com/fwlink/?LinkId=521839) &nbsp; © 2017 Microsoft"
    }
  ],
  "metadata": {
    "anaconda-cloud": {},
    "kernelspec": {
      "name": "python3",
      "display_name": "Python 3",
      "language": "python"
    },
    "language_info": {
      "mimetype": "text/x-python",
      "nbconvert_exporter": "python",
      "name": "python",
      "pygments_lexer": "ipython3",
      "version": "3.5.4",
      "file_extension": ".py",
      "codemirror_mode": {
        "version": 3,
        "name": "ipython"
      }
    }
  },
  "nbformat": 4,
  "nbformat_minor": 1
}