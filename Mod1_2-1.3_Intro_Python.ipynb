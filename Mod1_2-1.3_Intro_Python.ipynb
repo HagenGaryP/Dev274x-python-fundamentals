{
  "cells": [
    {
      "metadata": {},
      "cell_type": "markdown",
      "source": "# 2-1.3 Intro Python\n## Sequence: String\n- Accessing String Character with index\n- Accessing sub-strings with index slicing\n- **Iterating through Characters of a String**\n- More String Methods\n\n----- \n\n><font size=\"5\" color=\"#00A0B2\"  face=\"verdana\"> <B>Student will be able to</B></font>  \n- Work with String Characters\n- Slice strings into substrings\n- **Iterate through String Characters**\n- Use String Methods"
    },
    {
      "metadata": {},
      "cell_type": "markdown",
      "source": "# &nbsp;\n<font size=\"6\" color=\"#00A0B2\"  face=\"verdana\"> <B>Concepts</B></font>\n## Iterate a String: 1 character at a time\n[![view video](https://iajupyterprodblobs.blob.core.windows.net/imagecontainer/common/play_video.png)]( http://edxinteractivepage.blob.core.windows.net/edxpages/f7cff1a7-5601-48a1-95a6-fd1fdfabd20e.html?details=[{\"src\":\"http://jupyternootbookwams.streaming.mediaservices.windows.net/edd3631b-bceb-45a1-82bb-addf532aba4d/Unit2_Section1.3a-Iterate_a_String.ism/manifest\",\"type\":\"application/vnd.ms-sstr+xml\"}],[{\"src\":\"http://jupyternootbookwams.streaming.mediaservices.windows.net/edd3631b-bceb-45a1-82bb-addf532aba4d/Unit2_Section1.3a-Iterate_a_String.vtt\",\"srclang\":\"en\",\"kind\":\"subtitles\",\"label\":\"english\"}])\n### `for letter in word:`\nPython provides powerful sequence iteration features.  Below, **`for letter in word:`** loops through each letter in *word*.\n\n```python\nword = \"cello\"\n\nfor letter in word:\n    print(letter)\n```  \n\nThe variable **`letter`** is an arbitrary variable name .  Any valid variable name can be used.\n"
    },
    {
      "metadata": {},
      "cell_type": "markdown",
      "source": "# &nbsp;\n<font size=\"6\" color=\"#00A0B2\"  face=\"verdana\"> <B>Examples</B></font>"
    },
    {
      "metadata": {
        "trusted": true
      },
      "cell_type": "code",
      "source": "# [ ] review and run example\nword = \"cello\"\n\nfor letter in word:\n    print(letter)",
      "execution_count": 1,
      "outputs": [
        {
          "output_type": "stream",
          "text": "c\ne\nl\nl\no\n",
          "name": "stdout"
        }
      ]
    },
    {
      "metadata": {
        "trusted": true
      },
      "cell_type": "code",
      "source": "# [ ] review and run example\n# note: the variable 'letter' changed to 'item'\nword = \"trumpet\"\n\nfor item in word:\n    print(item)",
      "execution_count": 2,
      "outputs": [
        {
          "output_type": "stream",
          "text": "t\nr\nu\nm\np\ne\nt\n",
          "name": "stdout"
        }
      ]
    },
    {
      "metadata": {
        "trusted": true
      },
      "cell_type": "code",
      "source": "# [ ] review and run example\n# note: variable is now 'xyz' \n# using 'xyz', 'item' or 'letter' are all the same result\nword = \"piano\"\n\nfor xyz in word:\n    print(xyz)",
      "execution_count": 3,
      "outputs": [
        {
          "output_type": "stream",
          "text": "p\ni\na\nn\no\n",
          "name": "stdout"
        }
      ]
    },
    {
      "metadata": {
        "trusted": true
      },
      "cell_type": "code",
      "source": "# [ ] review and run example\n# creates a new string (new_name) adding a letter (ltr) each loop\n# Q?: how many times will the loop run?\nstudent_name = \"Skye\"\nnew_name = \"\"\n\nfor ltr in student_name:\n    if ltr.lower() == \"y\":\n        new_name += ltr.upper()\n    else:\n        new_name += ltr\nprint(student_name,\"to\",new_name)",
      "execution_count": 4,
      "outputs": [
        {
          "output_type": "stream",
          "text": "Skye to SkYe\n",
          "name": "stdout"
        }
      ]
    },
    {
      "metadata": {
        "collapsed": true
      },
      "cell_type": "markdown",
      "source": "# &nbsp;\n<font size=\"6\" color=\"#B24C00\"  face=\"verdana\"> <B>Task 1</B></font>\n\n## iterate a String\n### one character at a time"
    },
    {
      "metadata": {
        "trusted": true
      },
      "cell_type": "code",
      "source": "# [ ] Get user input for first_name\n# [ ] iterate through letters in first_name \n#    - print each letter on a new line\n\nfirst_name = input(\"Enter your first name: \")\n\nfor letter in first_name:\n    print(letter)\n",
      "execution_count": 5,
      "outputs": [
        {
          "output_type": "stream",
          "name": "stdout",
          "text": "Enter your first name: Gary\nG\na\nr\ny\n"
        }
      ]
    },
    {
      "metadata": {},
      "cell_type": "markdown",
      "source": "# &nbsp;\n<font size=\"6\" color=\"#B24C00\"  face=\"verdana\"> <B>Task 2</B></font>\n\n## Program: capitalize-io\n- get user input for first_name\n- create an empty string variable: new_name\n- iterate through letters in first_name \n  -  add each letter in new_name\n  - capitalize if letter is an \"i\" or \"o\" *(hint: if, elif, else)\n- print new_name"
    },
    {
      "metadata": {
        "trusted": true
      },
      "cell_type": "code",
      "source": "# [ ] Create capitalize-io\n\nfirst_name = input(\"Enter your first name: \")\nnew_name = \"\"\n\nfor letter in first_name:\n    if letter.lower() == \"i\" or letter.lower() == \"o\":\n        new_name += letter.upper()\n    else:\n        new_name += letter\n\nprint(new_name)\n",
      "execution_count": 7,
      "outputs": [
        {
          "output_type": "stream",
          "name": "stdout",
          "text": "Enter your first name: hippityhoppity\nhIppItyhOppIty\n"
        }
      ]
    },
    {
      "metadata": {},
      "cell_type": "markdown",
      "source": "# &nbsp;\n<font size=\"6\" color=\"#00A0B2\"  face=\"verdana\"> <B>Concepts</B></font>\n## Iterate sub-strings \n[![view video](https://iajupyterprodblobs.blob.core.windows.net/imagecontainer/common/play_video.png)]( http://edxinteractivepage.blob.core.windows.net/edxpages/f7cff1a7-5601-48a1-95a6-fd1fdfabd20e.html?details=[{\"src\":\"http://jupyternootbookwams.streaming.mediaservices.windows.net/257ed101-c530-406a-ba20-6d437d88e529/Unit2_Section1.3b-Iterate-Substrings.ism/manifest\",\"type\":\"application/vnd.ms-sstr+xml\"}],[{\"src\":\"http://jupyternootbookwams.streaming.mediaservices.windows.net/257ed101-c530-406a-ba20-6d437d88e529/Unit2_Section1.3b-Iterate-Substrings.vtt\",\"srclang\":\"en\",\"kind\":\"subtitles\",\"label\":\"english\"}])\nCombine String slicing and iteration\n\n```python\nstudent_name = \"Skye\"\n\nfor letter in student_name[:3]:\n    print(letter)\n```  \n\nIterate backwards using: **`student_name[::-1]`**"
    },
    {
      "metadata": {},
      "cell_type": "markdown",
      "source": "### &nbsp;\n<font size=\"6\" color=\"#00A0B2\"  face=\"verdana\"> <B>Example</B></font>"
    },
    {
      "metadata": {
        "trusted": true
      },
      "cell_type": "code",
      "source": "# [ ] review and run example\nstudent_name = \"Skye\"\n\nfor letter in student_name[:3]:\n    print(letter)",
      "execution_count": 8,
      "outputs": [
        {
          "output_type": "stream",
          "text": "S\nk\ny\n",
          "name": "stdout"
        }
      ]
    },
    {
      "metadata": {
        "trusted": true
      },
      "cell_type": "code",
      "source": "# Iterate BACKWARDS\n# [ ] review and run example\nstudent_name = \"Skye\"\n\n# start at \"y\" (student_name[2]), iterate backwards\nfor letter in student_name[2::-1]:\n    print(letter)",
      "execution_count": 9,
      "outputs": [
        {
          "output_type": "stream",
          "text": "y\nk\nS\n",
          "name": "stdout"
        }
      ]
    },
    {
      "metadata": {
        "collapsed": true
      },
      "cell_type": "markdown",
      "source": "# &nbsp;\n<font size=\"6\" color=\"#B24C00\"  face=\"verdana\"> <B>Task 3</B></font>\n###  String slicing and iteration"
    },
    {
      "metadata": {
        "trusted": true
      },
      "cell_type": "code",
      "source": "# [ ] create & print a variable, other_word, made of every other letter in long_word\nlong_word = \"juxtaposition\"\n\nother_word = \"\"\n\nfor letter in long_word[::2]:\n    other_word += letter\n    \nprint(other_word)\n    ",
      "execution_count": 12,
      "outputs": [
        {
          "output_type": "stream",
          "text": "jxaoiin\n",
          "name": "stdout"
        }
      ]
    },
    {
      "metadata": {
        "trusted": true
      },
      "cell_type": "code",
      "source": "# Mirror Color\n# [ ] get user input, fav_color\n# [ ] print fav_color backwards + fav_color\n# example: \"Red\" prints \"deRRed\"\n\nfav_color = input(\"What's your favorite color?: \")\nprint(fav_color[::-1]+fav_color)",
      "execution_count": 14,
      "outputs": [
        {
          "output_type": "stream",
          "name": "stdout",
          "text": "What's your favorite color?: Blues!\n!seulBBlues!\n"
        }
      ]
    },
    {
      "metadata": {},
      "cell_type": "markdown",
      "source": "[Terms of use](http://go.microsoft.com/fwlink/?LinkID=206977) &nbsp; [Privacy & cookies](https://go.microsoft.com/fwlink/?LinkId=521839) &nbsp; © 2017 Microsoft"
    }
  ],
  "metadata": {
    "anaconda-cloud": {},
    "kernelspec": {
      "name": "python3",
      "display_name": "Python 3",
      "language": "python"
    },
    "language_info": {
      "mimetype": "text/x-python",
      "nbconvert_exporter": "python",
      "name": "python",
      "pygments_lexer": "ipython3",
      "version": "3.5.4",
      "file_extension": ".py",
      "codemirror_mode": {
        "version": 3,
        "name": "ipython"
      }
    }
  },
  "nbformat": 4,
  "nbformat_minor": 1
}