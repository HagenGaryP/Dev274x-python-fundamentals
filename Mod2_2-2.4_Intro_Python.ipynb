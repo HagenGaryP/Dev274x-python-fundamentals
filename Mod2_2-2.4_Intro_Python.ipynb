{
  "cells": [
    {
      "metadata": {},
      "cell_type": "markdown",
      "source": "# 2-2.4 Intro Python\n## Lists \n- List Creation\n- List Access\n- List Append\n- List Insert\n- **List Delete (`del`, `.pop()` & `.remove()`)**\n\n----- \n\n><font size=\"5\" color=\"#00A0B2\"  face=\"verdana\"> <B>Student will be able to</B></font>  \n- Create Lists\n- Access items in a list\n- Add Items to the end of a list\n- Insert items into a list\n- **Delete items from a list with `del`, `.pop()` & `.remove()`**"
    },
    {
      "metadata": {},
      "cell_type": "markdown",
      "source": "# &nbsp;\n<font size=\"6\" color=\"#00A0B2\"  face=\"verdana\"> <B>Concepts</B></font>\n## Delete a specific List index\n[![view video](https://iajupyterprodblobs.blob.core.windows.net/imagecontainer/common/play_video.png)]( http://edxinteractivepage.blob.core.windows.net/edxpages/f7cff1a7-5601-48a1-95a6-fd1fdfabd20e.html?details=[{\"src\":\"http://jupyternootbookwams.streaming.mediaservices.windows.net/072d8761-7811-438e-a77f-72c9634c0f8c/Unit2_Section2.4a-Deleting_Specific_Index.ism/manifest\",\"type\":\"application/vnd.ms-sstr+xml\"}],[{\"src\":\"http://jupyternootbookwams.streaming.mediaservices.windows.net/072d8761-7811-438e-a77f-72c9634c0f8c/Unit2_Section2.4a-Deleting_Specific_Index.vtt\",\"srclang\":\"en\",\"kind\":\"subtitles\",\"label\":\"english\"}])\n### `del ` statement  \n```python\ndel party_list[2]\n```"
    },
    {
      "metadata": {},
      "cell_type": "markdown",
      "source": "# &nbsp;\n<font size=\"6\" color=\"#00A0B2\"  face=\"verdana\"> <B>Examples</B></font>"
    },
    {
      "metadata": {
        "trusted": true
      },
      "cell_type": "code",
      "source": "# [ ] review and run example\n# the list before delete\nsample_list = [11, 21, 13, 14, 51, 161, 117, 181]\nprint(\"sample_list before: \", sample_list)\n\ndel sample_list[1]\n# the list after delete\nprint(\"sample_list after:  \", sample_list)",
      "execution_count": 1,
      "outputs": [
        {
          "output_type": "stream",
          "text": "sample_list before:  [11, 21, 13, 14, 51, 161, 117, 181]\nsample_list after:   [11, 13, 14, 51, 161, 117, 181]\n",
          "name": "stdout"
        }
      ]
    },
    {
      "metadata": {
        "trusted": true
      },
      "cell_type": "code",
      "source": "# [ ] review and run example Multiple Times\n# [ ] consider how to reset the list values?\nprint(\"sample_list before:\", sample_list)\ndel sample_list[0]\nprint(\"sample_list after:\", sample_list)",
      "execution_count": 2,
      "outputs": [
        {
          "output_type": "stream",
          "text": "sample_list before: [11, 13, 14, 51, 161, 117, 181]\nsample_list after: [13, 14, 51, 161, 117, 181]\n",
          "name": "stdout"
        }
      ]
    },
    {
      "metadata": {
        "trusted": true
      },
      "cell_type": "code",
      "source": "# [ ] review and run example\nmixed_types = [1, \"cat\"]\n# append number\nmixed_types.append(3)\nprint(\"mixed_types list: \", mixed_types)\n\n# append string\nmixed_types.append(\"turtle\")\nprint(\"mixed_types list: \", mixed_types)",
      "execution_count": 3,
      "outputs": [
        {
          "output_type": "stream",
          "text": "mixed_types list:  [1, 'cat', 3]\nmixed_types list:  [1, 'cat', 3, 'turtle']\n",
          "name": "stdout"
        }
      ]
    },
    {
      "metadata": {
        "collapsed": true
      },
      "cell_type": "markdown",
      "source": "# &nbsp;\n<font size=\"6\" color=\"#B24C00\"  face=\"verdana\"> <B>Task 1</B></font>\n\n## `del` statement"
    },
    {
      "metadata": {
        "trusted": true
      },
      "cell_type": "code",
      "source": "# [ ] print ft_bones list\n# [ ] delete \"cuboid\" from ft_bones\n# [ ] reprint list\nft_bones = [\"calcaneus\", \"talus\", \"cuboid\", \"navicular\", \"lateral cuneiform\", \n            \"intermediate cuneiform\", \"medial cuneiform\"]\n\nprint(ft_bones)\n\ndel ft_bones[2]\n\nprint(ft_bones)",
      "execution_count": 5,
      "outputs": [
        {
          "output_type": "stream",
          "text": "['calcaneus', 'talus', 'cuboid', 'navicular', 'lateral cuneiform', 'intermediate cuneiform', 'medial cuneiform']\n['calcaneus', 'talus', 'navicular', 'lateral cuneiform', 'intermediate cuneiform', 'medial cuneiform']\n",
          "name": "stdout"
        }
      ]
    },
    {
      "metadata": {},
      "cell_type": "markdown",
      "source": "# &nbsp;\n<font size=\"6\" color=\"#B24C00\"  face=\"verdana\"> <B>Task 2</B></font>  \n## multiple `del` statements "
    },
    {
      "metadata": {
        "trusted": true
      },
      "cell_type": "code",
      "source": "# [ ] print ft_bones list\n# [ ] delete \"cuboid\" from ft_bones\n# [ ] delete \"navicular\" from list\n# [ ] reprint list\n# [ ] check for deletion of \"cuboid\" and \"navicular\"\nft_bones = [\"calcaneus\", \"talus\", \"cuboid\", \"navicular\", \"lateral cuneiform\", \n            \"intermediate cuneiform\", \"medial cuneiform\"]\n\nprint(ft_bones)\n\ndel ft_bones[2]\ndel ft_bones[2]\n\nprint(ft_bones)\n",
      "execution_count": 6,
      "outputs": [
        {
          "output_type": "stream",
          "text": "['calcaneus', 'talus', 'cuboid', 'navicular', 'lateral cuneiform', 'intermediate cuneiform', 'medial cuneiform']\n['calcaneus', 'talus', 'lateral cuneiform', 'intermediate cuneiform', 'medial cuneiform']\n",
          "name": "stdout"
        }
      ]
    },
    {
      "metadata": {},
      "cell_type": "markdown",
      "source": "# &nbsp;\n<font size=\"6\" color=\"#00A0B2\"  face=\"verdana\"> <B>Concepts</B></font>\n## .pop() gets and deletes item in list\n[![view video](https://iajupyterprodblobs.blob.core.windows.net/imagecontainer/common/play_video.png)]( http://edxinteractivepage.blob.core.windows.net/edxpages/f7cff1a7-5601-48a1-95a6-fd1fdfabd20e.html?details=[{\"src\":\"http://jupyternootbookwams.streaming.mediaservices.windows.net/67b83f30-a92c-4d1f-a7a3-ca257dd4db4e/Unit2_Section2.4b-List_Pop_Method.ism/manifest\",\"type\":\"application/vnd.ms-sstr+xml\"}],[{\"src\":\"http://jupyternootbookwams.streaming.mediaservices.windows.net/67b83f30-a92c-4d1f-a7a3-ca257dd4db4e/Unit2_Section2.4b-List_Pop_Method.vtt\",\"srclang\":\"en\",\"kind\":\"subtitles\",\"label\":\"english\"}])\n### `.pop()`  method default is last item in a list\n```python\nlast_item = party_list.pop()\nfirst_item = party_list.pop(0)\n```"
    },
    {
      "metadata": {},
      "cell_type": "markdown",
      "source": "# &nbsp;\n<font size=\"6\" color=\"#00A0B2\"  face=\"verdana\"> <B>Examples</B></font>"
    },
    {
      "metadata": {
        "trusted": true
      },
      "cell_type": "code",
      "source": "# [ ] review and run example\n# pop() gets the last item by default\nparty_list = [\"Joana\", \"Alton\", \"Tobias\"]\nprint(party_list)\nprint(\"Hello,\", party_list.pop())\n\nprint(\"\\n\", party_list)\nprint(\"Hello,\", party_list.pop())\n\nprint(\"\\n\", party_list)\nprint(\"Hello,\", party_list.pop())\n\nprint(\"\\n\", party_list)",
      "execution_count": 7,
      "outputs": [
        {
          "output_type": "stream",
          "text": "['Joana', 'Alton', 'Tobias']\nHello, Tobias\n\n ['Joana', 'Alton']\nHello, Alton\n\n ['Joana']\nHello, Joana\n\n []\n",
          "name": "stdout"
        }
      ]
    },
    {
      "metadata": {
        "trusted": true
      },
      "cell_type": "code",
      "source": "# [ ] review and run example\n# can pop specific index like pop(3)\nnumber_list = [11, 21, 13, 14, 51, 161, 117, 181]\nprint(\"before:\", number_list)\nnumber_list.pop(3)\nprint(\"after :\", number_list)\n",
      "execution_count": 8,
      "outputs": [
        {
          "output_type": "stream",
          "text": "before: [11, 21, 13, 14, 51, 161, 117, 181]\nafter : [11, 21, 13, 51, 161, 117, 181]\n",
          "name": "stdout"
        }
      ]
    },
    {
      "metadata": {
        "trusted": true
      },
      "cell_type": "code",
      "source": "# [ ] review and run example\n# set a variable to a poped value\nnumber_list = [11, 21, 13, 14, 51, 161, 117, 181]\nprint(\"list before:\", number_list)\nnum_1 = number_list.pop()\nnum_2 = number_list.pop()\nprint(\"list after :\", number_list)\nprint(\"add the popped values:\", num_1, \"+\", num_2, \"=\", num_1 + num_2)",
      "execution_count": 9,
      "outputs": [
        {
          "output_type": "stream",
          "text": "list before: [11, 21, 13, 14, 51, 161, 117, 181]\nlist after : [11, 21, 13, 14, 51, 161]\nadd the popped values: 181 + 117 = 298\n",
          "name": "stdout"
        }
      ]
    },
    {
      "metadata": {
        "collapsed": true
      },
      "cell_type": "markdown",
      "source": "# &nbsp;\n<font size=\"6\" color=\"#B24C00\"  face=\"verdana\"> <B>Task 3</B></font>  \n## `pop()`"
    },
    {
      "metadata": {
        "trusted": true
      },
      "cell_type": "code",
      "source": "# [ ] pop() and print the first and last items from the ft_bones list\nft_bones = [\"calcaneus\", \"talus\", \"cuboid\", \"navicular\", \"lateral cuneiform\", \n            \"intermediate cuneiform\", \"medial cuneiform\"]\nprint(ft_bones.pop())\nprint(ft_bones.pop(0))\n# [ ] print the remaining list\nprint(ft_bones)\n",
      "execution_count": 10,
      "outputs": [
        {
          "output_type": "stream",
          "text": "medial cuneiform\ncalcaneus\n['talus', 'cuboid', 'navicular', 'lateral cuneiform', 'intermediate cuneiform']\n",
          "name": "stdout"
        }
      ]
    },
    {
      "metadata": {},
      "cell_type": "markdown",
      "source": "# &nbsp;\n<font size=\"6\" color=\"#00A0B2\"  face=\"verdana\"> <B>Concepts</B></font>\n## an empty list is False\n[![view video](https://iajupyterprodblobs.blob.core.windows.net/imagecontainer/common/play_video.png)]( http://edxinteractivepage.blob.core.windows.net/edxpages/f7cff1a7-5601-48a1-95a6-fd1fdfabd20e.html?details=[{\"src\":\"http://jupyternootbookwams.streaming.mediaservices.windows.net/20e00a13-a9d2-4a35-b75d-f6533fa15cbd/Unit2_Section2.4c-Empty_List_is_False.ism/manifest\",\"type\":\"application/vnd.ms-sstr+xml\"}],[{\"src\":\"http://jupyternootbookwams.streaming.mediaservices.windows.net/20e00a13-a9d2-4a35-b75d-f6533fa15cbd/Unit2_Section2.4c-Empty_List_is_False.vtt\",\"srclang\":\"en\",\"kind\":\"subtitles\",\"label\":\"english\"}])\n### in a conditional an empty list will evaluate `False`\nThis allows creating a while loop that runs until a list is empty\n```python\nwhile dog_types: \n```"
    },
    {
      "metadata": {},
      "cell_type": "markdown",
      "source": "# &nbsp;\n<font size=\"6\" color=\"#00A0B2\"  face=\"verdana\"> <B>Example</B></font>"
    },
    {
      "metadata": {
        "trusted": true
      },
      "cell_type": "code",
      "source": "dog_types = [\"Lab\", \"Pug\", \"Poodle\"]\n\nwhile dog_types: \n    print(dog_types.pop())",
      "execution_count": 11,
      "outputs": [
        {
          "output_type": "stream",
          "text": "Poodle\nPug\nLab\n",
          "name": "stdout"
        }
      ]
    },
    {
      "metadata": {},
      "cell_type": "markdown",
      "source": "# &nbsp;\n<font size=\"6\" color=\"#B24C00\"  face=\"verdana\"> <B>Task 4 pt 1</B></font>\n# Cash Register Input\n- create a empty list `purchase_amounts`\n- populate the list with user input for the price of items\n- continue adding to list with `while` until \"done\" is entered\n  - can use `while True:` with `break`\n- print `purchase_amounts`\n- continue to pt 2"
    },
    {
      "metadata": {
        "trusted": true
      },
      "cell_type": "code",
      "source": "#[ ] complete the Register Input task above\npurchase_amounts = []\n\nprice = input(\"Enter price of item: \")\n\npurchase_amounts.append(price)\n\nwhile purchase_amounts:\n    price = input('Enter price of item or \"done\" when finished: ')\n    if price.lower().startswith(\"d\"):\n        break\n    elif price.isalpha():\n        print(\"Invalid Entry\")\n    else:\n        purchase_amounts.append(price)\n\nprint(purchase_amounts)",
      "execution_count": 14,
      "outputs": [
        {
          "output_type": "stream",
          "name": "stdout",
          "text": "Enter price of item: $1\nEnter price of item or \"done\" when finished: $2\nEnter price of item or \"done\" when finished: $3\nEnter price of item or \"done\" when finished: $4\nEnter price of item or \"done\" when finished: $hi\nInvalid Entry\nEnter price of item or \"done\" when finished: $yes\nInvalid Entry\nEnter price of item or \"done\" when finished: $d\n['1', '2', '3', '4']\n"
        }
      ]
    },
    {
      "metadata": {},
      "cell_type": "markdown",
      "source": "# &nbsp;\n<font size=\"6\" color=\"#B24C00\"  face=\"verdana\"> <B>Task 4 pt 2</B></font>\n# Cash Register Total\n- create a **`subtotal`** variable = 0\ncreate a while loop that runs **`while`** purchase_amount (is not empty)\n- inside the loop \n  - **`pop()`** the last list value cast as a float type\n  - add the float value to a **`subtotal`** variable\n- after exiting the loop print **`subtotal`**  \n  \n  *be sure to populate purchase_amounts by running pt 1 above*"
    },
    {
      "metadata": {
        "trusted": true
      },
      "cell_type": "code",
      "source": "# [ ] complete the Register Total task above\npurchase_amounts = []\nsubtotal = 0\nprice = input(\"Enter price of item: \")\n\npurchase_amounts.append(price)\nsubtotal += float(price)\n\nwhile purchase_amounts:\n    price = input('Enter price of item or \"done\" when finished: ')\n    if price.lower().startswith(\"d\"):\n        break\n    elif price.isalpha():\n        print(\"Invalid Entry\")\n    else:\n        purchase_amounts.append(price)\n        subtotal += float(price)\n\nprint(subtotal)\n",
      "execution_count": 18,
      "outputs": [
        {
          "output_type": "stream",
          "name": "stdout",
          "text": "Enter price of item: 1\nEnter price of item or \"done\" when finished: 2\nEnter price of item or \"done\" when finished: 3\nEnter price of item or \"done\" when finished: 4\nEnter price of item or \"done\" when finished: 5\nEnter price of item or \"done\" when finished: d\n15.0\n"
        }
      ]
    },
    {
      "metadata": {},
      "cell_type": "markdown",
      "source": "# &nbsp;\n<font size=\"6\" color=\"#00A0B2\"  face=\"verdana\"> <B>Concepts</B></font>\n## Delete a specific object from a list with `.remove()`\n[![view video](https://iajupyterprodblobs.blob.core.windows.net/imagecontainer/common/play_video.png)]( http://edxinteractivepage.blob.core.windows.net/edxpages/f7cff1a7-5601-48a1-95a6-fd1fdfabd20e.html?details=[{\"src\":\"http://jupyternootbookwams.streaming.mediaservices.windows.net/31fadf38-670c-4ba9-aa68-1934db459c4d/Unit2_Section2.4d-Removing_Object_from_List.ism/manifest\",\"type\":\"application/vnd.ms-sstr+xml\"}],[{\"src\":\"http://jupyternootbookwams.streaming.mediaservices.windows.net/31fadf38-670c-4ba9-aa68-1934db459c4d/Unit2_Section2.4d-Removing_Object_from_List.vtt\",\"srclang\":\"en\",\"kind\":\"subtitles\",\"label\":\"english\"}])\n### `.remove(object)` removes the 1st item that matches\n\n```python\ndog_types.remove(\"Pug\")\n```\n>**`ValueError`** occurs if the object is not available to be removed  "
    },
    {
      "metadata": {},
      "cell_type": "markdown",
      "source": "# &nbsp;\n<font size=\"6\" color=\"#00A0B2\"  face=\"verdana\"> <B>Examples</B></font>"
    },
    {
      "metadata": {
        "trusted": true
      },
      "cell_type": "code",
      "source": "# [ ] review and run example\ndog_types = [\"Lab\", \"Pug\", \"Poodle\"]\n\nif \"Pug\" in dog_types:\n    dog_types.remove(\"Pug\")\nelse:\n    print(\"no Pug found\")\nprint(dog_types)",
      "execution_count": 19,
      "outputs": [
        {
          "output_type": "stream",
          "text": "['Lab', 'Poodle']\n",
          "name": "stdout"
        }
      ]
    },
    {
      "metadata": {
        "trusted": true
      },
      "cell_type": "code",
      "source": "# [ ] review and run example\ndogs = [\"Lab\", \"Pug\", \"Poodle\", \"Poodle\", \"Pug\", \"Poodle\"]\n\nprint(dogs)\nwhile \"Poodle\" in dogs:\n    dogs.remove(\"Poodle\")\n    print(dogs)",
      "execution_count": 20,
      "outputs": [
        {
          "output_type": "stream",
          "text": "['Lab', 'Pug', 'Poodle', 'Poodle', 'Pug', 'Poodle']\n['Lab', 'Pug', 'Poodle', 'Pug', 'Poodle']\n['Lab', 'Pug', 'Pug', 'Poodle']\n['Lab', 'Pug', 'Pug']\n",
          "name": "stdout"
        }
      ]
    },
    {
      "metadata": {},
      "cell_type": "markdown",
      "source": "### ValueError"
    },
    {
      "metadata": {
        "trusted": true
      },
      "cell_type": "code",
      "source": "# [ ] review and run example\n# Change to \"Lab\", etc... to fix error\ndogs.remove(\"Collie\")\nprint(dogs)",
      "execution_count": 21,
      "outputs": [
        {
          "output_type": "error",
          "ename": "ValueError",
          "evalue": "list.remove(x): x not in list",
          "traceback": [
            "\u001b[0;31m---------------------------------------------------------------------------\u001b[0m",
            "\u001b[0;31mValueError\u001b[0m                                Traceback (most recent call last)",
            "\u001b[0;32m<ipython-input-21-da7832011059>\u001b[0m in \u001b[0;36m<module>\u001b[0;34m()\u001b[0m\n\u001b[1;32m      1\u001b[0m \u001b[0;31m# [ ] review and run example\u001b[0m\u001b[0;34m\u001b[0m\u001b[0;34m\u001b[0m\u001b[0m\n\u001b[1;32m      2\u001b[0m \u001b[0;31m# Change to \"Lab\", etc... to fix error\u001b[0m\u001b[0;34m\u001b[0m\u001b[0;34m\u001b[0m\u001b[0m\n\u001b[0;32m----> 3\u001b[0;31m \u001b[0mdogs\u001b[0m\u001b[0;34m.\u001b[0m\u001b[0mremove\u001b[0m\u001b[0;34m(\u001b[0m\u001b[0;34m\"Collie\"\u001b[0m\u001b[0;34m)\u001b[0m\u001b[0;34m\u001b[0m\u001b[0m\n\u001b[0m\u001b[1;32m      4\u001b[0m \u001b[0mprint\u001b[0m\u001b[0;34m(\u001b[0m\u001b[0mdogs\u001b[0m\u001b[0;34m)\u001b[0m\u001b[0;34m\u001b[0m\u001b[0m\n",
            "\u001b[0;31mValueError\u001b[0m: list.remove(x): x not in list"
          ]
        }
      ]
    },
    {
      "metadata": {
        "collapsed": true
      },
      "cell_type": "markdown",
      "source": "# &nbsp;\n<font size=\"6\" color=\"#B24C00\"  face=\"verdana\"> <B>Task 5</B></font>  \n## `.remove()`"
    },
    {
      "metadata": {
        "trusted": true
      },
      "cell_type": "code",
      "source": "# [ ] remove one \"Poodle\" from the list: dogs , or print \"no Poodle found\"\n# [ ] print list before and after\ndogs = [\"Lab\", \"Pug\", \"Poodle\", \"Poodle\", \"Pug\", \"Poodle\"]\nprint(dogs)\nif \"Poodle\" in dogs:      # instructions said remove one, so that's how I would do it.\n    dogs.remove(\"Poodle\")\nelse:\n    print(\"No Poodle found\")\n\nprint(dogs)  \n",
      "execution_count": 22,
      "outputs": [
        {
          "output_type": "stream",
          "text": "['Lab', 'Pug', 'Poodle', 'Poodle', 'Pug', 'Poodle']\n['Lab', 'Pug', 'Poodle', 'Pug', 'Poodle']\n",
          "name": "stdout"
        }
      ]
    },
    {
      "metadata": {},
      "cell_type": "markdown",
      "source": "[Terms of use](http://go.microsoft.com/fwlink/?LinkID=206977) &nbsp; [Privacy & cookies](https://go.microsoft.com/fwlink/?LinkId=521839) &nbsp; © 2017 Microsoft"
    }
  ],
  "metadata": {
    "anaconda-cloud": {},
    "kernelspec": {
      "name": "python3",
      "display_name": "Python 3",
      "language": "python"
    },
    "language_info": {
      "mimetype": "text/x-python",
      "nbconvert_exporter": "python",
      "name": "python",
      "file_extension": ".py",
      "version": "3.5.4",
      "pygments_lexer": "ipython3",
      "codemirror_mode": {
        "version": 3,
        "name": "ipython"
      }
    }
  },
  "nbformat": 4,
  "nbformat_minor": 1
}