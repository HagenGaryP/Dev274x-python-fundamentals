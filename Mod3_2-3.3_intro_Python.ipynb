{
  "cells": [
    {
      "metadata": {},
      "cell_type": "markdown",
      "source": "# 2-3.3 Intro Python\n# The Power of List Iteration\n- for in: **`for`** loop using **`in`**\n- for range: **`for range(start,stop,step)`** \n- **more list methods: `.extend()`, `+, .reverse(), .sort()`**   \n- strings to lists, **`.split()`**, and list to strings, **`.join()`**     \n\n\n----- \n\n><font size=\"5\" color=\"#00A0B2\"  face=\"verdana\"> <B>Student will be able to</B></font>  \n- Iterate through Lists using **`for`** with **`in`**\n- Use **`for range()`** in looping operations \n- **Use list methods `.extend()`, `+, .reverse(), .sort()`**  \n- convert between lists and strings using  **`.split()`** and **`.join()`**"
    },
    {
      "metadata": {},
      "cell_type": "markdown",
      "source": "# &nbsp;\n<font size=\"6\" color=\"#00A0B2\"  face=\"verdana\"> <B>Concepts</B></font>\n## Combine Lists\n[![view video](https://iajupyterprodblobs.blob.core.windows.net/imagecontainer/common/play_video.png)](http://edxinteractivepage.blob.core.windows.net/edxpages/f7cff1a7-5601-48a1-95a6-fd1fdfabd20e.html?details=[{\"src\":\"http://jupyternootbookwams.streaming.mediaservices.windows.net/249a8d33-1e69-47e1-ab59-a8cf93f3fa8b/Unit2_Section3.3a_concatenate_lists.ism/manifest\",\"type\":\"application/vnd.ms-sstr+xml\"}],[{\"src\":\"http://jupyternootbookwams.streaming.mediaservices.windows.net/249a8d33-1e69-47e1-ab59-a8cf93f3fa8b/Unit2_Section3.3a_concatenate_lists.vtt\",\"srclang\":\"en\",\"kind\":\"subtitles\",\"label\":\"english\"}])\n## `+`  list addition\n##  `.extend()` list method   \n\n### combine lists with `+` and `.extend()`\n```python\nvisited_cities = [\"New York\", \"Shanghai\", \"Munich\", \"Toyko\", \"Dubai\", \"Mexico City\", \"São Paulo\", \"Hyderabad\"]\nwish_cities = [\"Reykjavík\", \"Moscow\", \"Beijing\", \"Lamu\"]\n# combine in a new list\nall_cities = visited_cities + wish_cities\n\n# add a list to an existing list\nvisitied_cities.extend(wish_cities)\n```"
    },
    {
      "metadata": {},
      "cell_type": "markdown",
      "source": "# &nbsp;\n<font size=\"6\" color=\"#00A0B2\"  face=\"verdana\"> <B>Examples</B></font>"
    },
    {
      "metadata": {
        "trusted": true
      },
      "cell_type": "code",
      "source": "# [ ] review and run example\nvisited_cities = [\"New York\", \"Shanghai\", \"Munich\", \"Toyko\", \"Dubai\", \"Mexico City\", \"São Paulo\", \"Hyderabad\"]\nwish_cities = [\"Reykjavík\", \"Moscow\", \"Beijing\", \"Lamu\"]\n\n# .extend() \n# extending visited_cities list (IN PLACE) by concatenating wish_cities\nvisited_cities.extend(wish_cities)\nprint(\"ALL CITIES\",visited_cities)",
      "execution_count": 1,
      "outputs": [
        {
          "output_type": "stream",
          "text": "ALL CITIES ['New York', 'Shanghai', 'Munich', 'Toyko', 'Dubai', 'Mexico City', 'São Paulo', 'Hyderabad', 'Reykjavík', 'Moscow', 'Beijing', 'Lamu']\n",
          "name": "stdout"
        }
      ]
    },
    {
      "metadata": {
        "trusted": true
      },
      "cell_type": "code",
      "source": "# [ ] review and run example\nvisited_cities = [\"New York\", \"Shanghai\", \"Munich\", \"Toyko\", \"Dubai\", \"Mexico City\", \"São Paulo\", \"Hyderabad\"]\nwish_cities = [\"Reykjavík\", \"Moscow\", \"Beijing\", \"Lamu\"]\n\n# (+) Addition operator for lists creates a (NEW) combined List\nall_cities = visited_cities + wish_cities\n\nprint(\"ALL CITIES\")\nfor city in all_cities:\n    print(city)",
      "execution_count": 2,
      "outputs": [
        {
          "output_type": "stream",
          "text": "ALL CITIES\nNew York\nShanghai\nMunich\nToyko\nDubai\nMexico City\nSão Paulo\nHyderabad\nReykjavík\nMoscow\nBeijing\nLamu\n",
          "name": "stdout"
        }
      ]
    },
    {
      "metadata": {
        "trusted": true
      },
      "cell_type": "code",
      "source": "# [ ] review and run example\nteam_a = [0,2,2,2,4,4,4,5,6,6,6]\nteam_b = [0,0,0,1,1,2,3,3,3,6,8]\nprint(\"Team A:\", team_a, \"\\nTeam B:\",team_b)\n\n# (+) Addition operator \nteam_totals = team_a + team_b\nprint(\"Team Totals\", team_totals)",
      "execution_count": 3,
      "outputs": [
        {
          "output_type": "stream",
          "text": "Team A: [0, 2, 2, 2, 4, 4, 4, 5, 6, 6, 6] \nTeam B: [0, 0, 0, 1, 1, 2, 3, 3, 3, 6, 8]\nTeam Totals [0, 2, 2, 2, 4, 4, 4, 5, 6, 6, 6, 0, 0, 0, 1, 1, 2, 3, 3, 3, 6, 8]\n",
          "name": "stdout"
        }
      ]
    },
    {
      "metadata": {
        "trusted": true
      },
      "cell_type": "code",
      "source": "# [ ] review and run example after running cell above\n# .extend() \nteam_a.extend(team_b)\nprint(\"Team_a extended\", team_a)\n\n# what happens if you keep running this cell?",
      "execution_count": 4,
      "outputs": [
        {
          "output_type": "stream",
          "text": "Team_a extended [0, 2, 2, 2, 4, 4, 4, 5, 6, 6, 6, 0, 0, 0, 1, 1, 2, 3, 3, 3, 6, 8]\n",
          "name": "stdout"
        }
      ]
    },
    {
      "metadata": {
        "collapsed": true
      },
      "cell_type": "markdown",
      "source": "# &nbsp;\n<font size=\"6\" color=\"#B24C00\"  face=\"verdana\"> <B>Task 1</B></font>\n\n### combine lists"
    },
    {
      "metadata": {
        "trusted": true
      },
      "cell_type": "code",
      "source": "# [ ] extend the list common_birds with list birds_seen which you must create\ncommon_birds = [\"chicken\", \"blue jay\", \"crow\", \"pigeon\"]\nbirds_seen = [\"cardinal\", \"dove\"]\n\ncommon_birds.extend(birds_seen)\nprint(common_birds)",
      "execution_count": 5,
      "outputs": [
        {
          "output_type": "stream",
          "text": "['chicken', 'blue jay', 'crow', 'pigeon', 'cardinal', 'dove']\n",
          "name": "stdout"
        }
      ]
    },
    {
      "metadata": {
        "trusted": true
      },
      "cell_type": "code",
      "source": "# [ ] Create 2 lists zero_nine and ten_onehundred that contain 1-9, and 10 - 100 by 10's.\n# [ ] use list addition to concatenate the lists into all_num and print\n\nzero_nine = list(range(1,10))\nten_onehundred = list(range(10, 101, 10))\nall_num = zero_nine + ten_onehundred\n\nprint(all_num)",
      "execution_count": 8,
      "outputs": [
        {
          "output_type": "stream",
          "text": "[1, 2, 3, 4, 5, 6, 7, 8, 9, 10, 20, 30, 40, 50, 60, 70, 80, 90, 100]\n",
          "name": "stdout"
        }
      ]
    },
    {
      "metadata": {},
      "cell_type": "markdown",
      "source": "# &nbsp;\n<font size=\"6\" color=\"#00A0B2\"  face=\"verdana\"> <B>Concepts</B></font>\n## .reverse() : reverse a list in place\n[![view video](https://iajupyterprodblobs.blob.core.windows.net/imagecontainer/common/play_video.png)](http://edxinteractivepage.blob.core.windows.net/edxpages/f7cff1a7-5601-48a1-95a6-fd1fdfabd20e.html?details=[{\"src\":\"http://jupyternootbookwams.streaming.mediaservices.windows.net/cde2807d-9151-4515-aa05-e83640c57712/Unit2_Section3.3b_reverse_lists.ism/manifest\",\"type\":\"application/vnd.ms-sstr+xml\"}],[{\"src\":\"http://jupyternootbookwams.streaming.mediaservices.windows.net/cde2807d-9151-4515-aa05-e83640c57712/Unit2_Section3.3b_reverse_lists.vtt\",\"srclang\":\"en\",\"kind\":\"subtitles\",\"label\":\"english\"}])\n\n```python\ncities_1 = [\"Dubai\", \"Mexico City\", \"São Paulo\", \"Hyderabad\"]\n\nprint(\"regular\", cities_1)\ncities_1.reverse()\nprint(\"reversed\", cities_1)\n```\n"
    },
    {
      "metadata": {},
      "cell_type": "markdown",
      "source": "### &nbsp;\n<font size=\"6\" color=\"#00A0B2\"  face=\"verdana\"> <B>Examples</B></font>"
    },
    {
      "metadata": {
        "trusted": true
      },
      "cell_type": "code",
      "source": "# [ ] review and run example\ncities_1 = [\"Dubai\", \"Mexico City\", \"São Paulo\", \"Hyderabad\"]\n\nprint(\"regular\", cities_1)\ncities_1.reverse()\nprint(\"reversed\", cities_1)",
      "execution_count": 9,
      "outputs": [
        {
          "output_type": "stream",
          "text": "regular ['Dubai', 'Mexico City', 'São Paulo', 'Hyderabad']\nreversed ['Hyderabad', 'São Paulo', 'Mexico City', 'Dubai']\n",
          "name": "stdout"
        }
      ]
    },
    {
      "metadata": {
        "trusted": true
      },
      "cell_type": "code",
      "source": "# [ ] review and run example\nall_num = [0, 1, 2, 3, 4, 5, 6, 7, 8, 9, 10, 20, 30, 40, 50, 60, 70, 80, 90, 100]\nprint(\"regular list\",all_num, \"\\n\")\nall_num.reverse()\nprint(\"reverse list\",all_num, \"\\n\")\nnum_len = len(all_num)\n\nprint(\"Three Multiple\")\nfor num in all_num:\n    if num/3 == int(num/3):\n        print(num)\n    else:\n        pass\n    ",
      "execution_count": 10,
      "outputs": [
        {
          "output_type": "stream",
          "text": "regular list [0, 1, 2, 3, 4, 5, 6, 7, 8, 9, 10, 20, 30, 40, 50, 60, 70, 80, 90, 100] \n\nreverse list [100, 90, 80, 70, 60, 50, 40, 30, 20, 10, 9, 8, 7, 6, 5, 4, 3, 2, 1, 0] \n\nThree Multiple\n90\n60\n30\n9\n6\n3\n0\n",
          "name": "stdout"
        }
      ]
    },
    {
      "metadata": {
        "trusted": true
      },
      "cell_type": "code",
      "source": "# [ ] review and run example\n# create a list of  numbers by casting a range \ncount_list = list(range(21))\nprint(\"before list\", count_list)\n\n# and reverse\ncount_list.reverse()\nprint(\"after list\", count_list)",
      "execution_count": 11,
      "outputs": [
        {
          "output_type": "stream",
          "text": "before list [0, 1, 2, 3, 4, 5, 6, 7, 8, 9, 10, 11, 12, 13, 14, 15, 16, 17, 18, 19, 20]\nafter list [20, 19, 18, 17, 16, 15, 14, 13, 12, 11, 10, 9, 8, 7, 6, 5, 4, 3, 2, 1, 0]\n",
          "name": "stdout"
        }
      ]
    },
    {
      "metadata": {
        "collapsed": true
      },
      "cell_type": "markdown",
      "source": "# &nbsp;\n<font size=\"6\" color=\"#B24C00\"  face=\"verdana\"> <B>Task 2</B></font>\n\n## .reverse()"
    },
    {
      "metadata": {
        "trusted": true
      },
      "cell_type": "code",
      "source": "# [ ] create and  print a list of multiples of 5 from 5 to 100\n# { ] reverse the list and print\nmult_5 = list(range(5, 101, 5))\n\nprint(mult_5)\n\nmult_5.reverse()\nprint(mult_5)\n",
      "execution_count": 13,
      "outputs": [
        {
          "output_type": "stream",
          "text": "[5, 10, 15, 20, 25, 30, 35, 40, 45, 50, 55, 60, 65, 70, 75, 80, 85, 90, 95, 100]\n[100, 95, 90, 85, 80, 75, 70, 65, 60, 55, 50, 45, 40, 35, 30, 25, 20, 15, 10, 5]\n",
          "name": "stdout"
        }
      ]
    },
    {
      "metadata": {
        "trusted": true
      },
      "cell_type": "code",
      "source": "# [ ] Create two lists: fours & more_fours containing multiples of four from 4 to 44\n# [ ] combine and print so that the output is mirrored [44, 40,...8, 4, 4, 8, ...40, 44]\n\nfours = list(range(4, 45,4))\nmore_fours = list(range(44, 3, -4))\n\nmore_fours.extend(fours)\nprint(more_fours)\n",
      "execution_count": 15,
      "outputs": [
        {
          "output_type": "stream",
          "text": "[44, 40, 36, 32, 28, 24, 20, 16, 12, 8, 4, 4, 8, 12, 16, 20, 24, 28, 32, 36, 40, 44]\n",
          "name": "stdout"
        }
      ]
    },
    {
      "metadata": {},
      "cell_type": "markdown",
      "source": "# &nbsp;\n<font size=\"6\" color=\"#00A0B2\"  face=\"verdana\"> <B>Concepts</B></font>  \n\n## .sort() and sorted()\n[![view video](https://iajupyterprodblobs.blob.core.windows.net/imagecontainer/common/play_video.png)](http://edxinteractivepage.blob.core.windows.net/edxpages/f7cff1a7-5601-48a1-95a6-fd1fdfabd20e.html?details=[{\"src\":\"http://jupyternootbookwams.streaming.mediaservices.windows.net/375c6bd9-9f91-4a3c-9a67-c01c35ea64ff/Unit2_Section3.3c_sort_sorted.ism/manifest\",\"type\":\"application/vnd.ms-sstr+xml\"}],[{\"src\":\"http://jupyternootbookwams.streaming.mediaservices.windows.net/375c6bd9-9f91-4a3c-9a67-c01c35ea64ff/Unit2_Section3.3c_Sort_Sorted.vtt\",\"srclang\":\"en\",\"kind\":\"subtitles\",\"label\":\"english\"}])\n\n \n\n### .sort() in place  \n**.sort()** - orders a list in place \n```python\nquiz_scores = [20, 19, 20, 15, 20, 20, 20, 18, 18, 18, 19]\nquiz_scores.sort()\n```  \n\n### sorted() copy\n**sorted()** - creates an ordered list copy \n```python\ngame_points = [3, 14, 0, 8, 21, 1, 3, 8]\nsorted_points = sorted(game_points)\n```"
    },
    {
      "metadata": {},
      "cell_type": "markdown",
      "source": "# &nbsp;\n<font size=\"6\" color=\"#00A0B2\"  face=\"verdana\"> <B>Examples</B></font>  \n### .sort() and sorted()"
    },
    {
      "metadata": {
        "trusted": true
      },
      "cell_type": "code",
      "source": "# [ ] review and run example\nquiz_scores = [20, 19, 20, 15, 20, 20, 20, 18, 18, 18, 19]\n\n# use .sort()\nquiz_scores.sort()\n\nprint(\"quiz_scores:\", quiz_scores)",
      "execution_count": 21,
      "outputs": [
        {
          "output_type": "stream",
          "text": "quiz_scores: [15, 18, 18, 18, 19, 19, 20, 20, 20, 20, 20]\n",
          "name": "stdout"
        }
      ]
    },
    {
      "metadata": {
        "trusted": true
      },
      "cell_type": "code",
      "source": "# [ ] review and run example\ngame_points = [3, 14, 0, 8, 21, 1, 3, 8]\n\n# use sorted()\nsorted_points = sorted(game_points)\n\nprint(\"game_points:\", game_points)\nprint(\"sorted_points:\", sorted_points)",
      "execution_count": 22,
      "outputs": [
        {
          "output_type": "stream",
          "text": "game_points: [3, 14, 0, 8, 21, 1, 3, 8]\nsorted_points: [0, 1, 3, 3, 8, 8, 14, 21]\n",
          "name": "stdout"
        }
      ]
    },
    {
      "metadata": {
        "trusted": true
      },
      "cell_type": "code",
      "source": "# [ ] review and run example\ncities_1 = [\"Dubai\", \"Mexico City\", \"São Paulo\", \"Hyderabad\"]\n\nprint(\"Unsorted\", cities_1)\ncities_1.sort()\nprint(\"Sorted\", cities_1)",
      "execution_count": 23,
      "outputs": [
        {
          "output_type": "stream",
          "text": "Unsorted ['Dubai', 'Mexico City', 'São Paulo', 'Hyderabad']\nSorted ['Dubai', 'Hyderabad', 'Mexico City', 'São Paulo']\n",
          "name": "stdout"
        }
      ]
    },
    {
      "metadata": {
        "collapsed": true
      },
      "cell_type": "markdown",
      "source": "# &nbsp;\n<font size=\"6\" color=\"#B24C00\"  face=\"verdana\"> <B>Task 3</B></font>  \n## .sort() & sorted()"
    },
    {
      "metadata": {
        "trusted": true
      },
      "cell_type": "code",
      "source": "# [ ] print cites from visited_cities list in alphbetical order using .sort()\n# [ ] only print cities that names start \"Q\" or earlier\nvisited_cities = [\"New York\", \"Shanghai\", \"Munich\", \"Toyko\", \"Dubai\", \"Mexico City\", \"São Paulo\", \"Hyderabad\"]\n\nvisited_cities.sort()\nprint(visited_cities)\n\nfor city in visited_cities:\n    if city <= \"Q\":\n        print(city)\n",
      "execution_count": 34,
      "outputs": [
        {
          "output_type": "stream",
          "text": "['Dubai', 'Hyderabad', 'Mexico City', 'Munich', 'New York', 'Shanghai', 'São Paulo', 'Toyko']\nDubai\nHyderabad\nMexico City\nMunich\nNew York\n",
          "name": "stdout"
        }
      ]
    },
    {
      "metadata": {
        "trusted": true
      },
      "cell_type": "code",
      "source": "# [ ] make a sorted copy (sorted_cities) of visited_cities list\n# [ ] remove city names 5 characters or less from sorted_cities \n# [ ] print visitied cites and sorted cities\nvisited_cities = [\"New York\", \"Shanghai\", \"Munich\", \"Toyko\", \"Dubai\", \"Mexico City\", \"São Paulo\", \"Hyderabad\"]\n\nvisited_cities.sort()\n\nfor city in visited_cities:\n    if len(city) <= 5:\n        visited_cities.remove(city)\n        \nprint(visited_cities)",
      "execution_count": 32,
      "outputs": [
        {
          "output_type": "stream",
          "text": "['Hyderabad', 'Mexico City', 'Munich', 'New York', 'Shanghai', 'São Paulo']\n",
          "name": "stdout"
        }
      ]
    },
    {
      "metadata": {
        "collapsed": true
      },
      "cell_type": "markdown",
      "source": "# &nbsp;\n<font size=\"6\" color=\"#B24C00\"  face=\"verdana\"> <B>Task 4</B></font>  \n## Program: Merge & Sort Animals\nCreate a program that \n- takes user to build a list: add_animals \n- merges add_anmials with exisiting list: anmimals\n- provides a sorted list to view in alpa or reverse alpha order"
    },
    {
      "metadata": {},
      "cell_type": "markdown",
      "source": "\n<font size=\"4\" color=\"#B24C00\"  face=\"verdana\"> <B>step 1 </B></font> get user input to build add_animals list\n"
    },
    {
      "metadata": {
        "trusted": true
      },
      "cell_type": "code",
      "source": "# [ ] build a list (add_animals) using a while loop, stop adding when an empty string is entered\nadd_animals = []\n\n\nwhile True:    \n    user = input('Enter an animal to add to list or \"Quit\" to exit: ')\n    \n    if user.lower() == \"quit\":\n        break\n    elif user.isalpha():\n        add_animals.append(user.capitalize())\n    else:\n        print(\"Invalid Entry\")\n\nprint(add_animals)",
      "execution_count": 43,
      "outputs": [
        {
          "output_type": "stream",
          "name": "stdout",
          "text": "Enter an animal to add to list or \"Quit\" to exit: hii\nEnter an animal to add to list or \"Quit\" to exit: monkey\nEnter an animal to add to list or \"Quit\" to exit: quit\n['Hii', 'Monkey']\n"
        }
      ]
    },
    {
      "metadata": {},
      "cell_type": "markdown",
      "source": "\n<font size=\"4\" color=\"#B24C00\"  face=\"verdana\"> <B>step 2 </B></font> Merge the lists: add_animals into animals\n"
    },
    {
      "metadata": {
        "trusted": true
      },
      "cell_type": "code",
      "source": "# [ ] extend the lists into animals, then sort \nanimals = [\"Chimpanzee\", \"Panther\", \"Wolf\", \"Armadillo\"]\n\nanimals.extend(add_animals)\nanimals.sort()\n\nprint(animals)",
      "execution_count": 44,
      "outputs": [
        {
          "output_type": "stream",
          "text": "['Armadillo', 'Chimpanzee', 'Hii', 'Monkey', 'Panther', 'Wolf']\n",
          "name": "stdout"
        }
      ]
    },
    {
      "metadata": {},
      "cell_type": "markdown",
      "source": "\n<font size=\"4\" color=\"#B24C00\"  face=\"verdana\"> <B>step 3 </B></font> Allow animals list to be viewed alpha or reverse alpha order\n"
    },
    {
      "metadata": {
        "trusted": true
      },
      "cell_type": "code",
      "source": "# [ ] get input if list should be viewed alpha or reverse alpha and display list\n\nwhile True:\n    \n    alpha = input('List in alphabetical order or reverse alphabetical order? ')\n\n    if alpha.lower().startswith(\"a\"):\n        animals.sort()\n        print(animals)\n        break\n    elif alpha.lower().startswith(\"r\"):\n        animals.reverse()\n        print(animals)\n        break\n    else:\n        print(\"Invalid Entry\")\n    ",
      "execution_count": 47,
      "outputs": [
        {
          "output_type": "stream",
          "name": "stdout",
          "text": "List in alphabetical order or reverse alphabetical order? hi\nInvalid Entry\nList in alphabetical order or reverse alphabetical order? what?\nInvalid Entry\nList in alphabetical order or reverse alphabetical order? really?\n['Wolf', 'Panther', 'Monkey', 'Hii', 'Chimpanzee', 'Armadillo']\n"
        }
      ]
    },
    {
      "metadata": {
        "trusted": true
      },
      "cell_type": "code",
      "source": "scores = [ 0, 5, 2, 11, 1, 9, 7]\n\nprint(sorted(scores))",
      "execution_count": 49,
      "outputs": [
        {
          "output_type": "stream",
          "text": "[0, 1, 2, 5, 7, 9, 11]\n",
          "name": "stdout"
        }
      ]
    },
    {
      "metadata": {
        "collapsed": true
      },
      "cell_type": "markdown",
      "source": "[Terms of use](http://go.microsoft.com/fwlink/?LinkID=206977) &nbsp; [Privacy & cookies](https://go.microsoft.com/fwlink/?LinkId=521839) &nbsp; © 2017 Microsoft"
    }
  ],
  "metadata": {
    "anaconda-cloud": {},
    "kernelspec": {
      "name": "python3",
      "display_name": "Python 3",
      "language": "python"
    },
    "language_info": {
      "mimetype": "text/x-python",
      "nbconvert_exporter": "python",
      "name": "python",
      "pygments_lexer": "ipython3",
      "version": "3.5.4",
      "file_extension": ".py",
      "codemirror_mode": {
        "version": 3,
        "name": "ipython"
      }
    }
  },
  "nbformat": 4,
  "nbformat_minor": 1
}