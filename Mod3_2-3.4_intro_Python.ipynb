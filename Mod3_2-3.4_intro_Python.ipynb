{
  "cells": [
    {
      "metadata": {},
      "cell_type": "markdown",
      "source": "# 2-3.4 Intro Python\n# The Power of List Iteration\n- for in: **`for`** loop using **`in`**\n- for range: **`for range(start,stop,step)`** \n- more list methods: **`.extend()`, `+, .reverse(), .sort()`**     \n- **strings to lists,`.split()`, and list to strings, `.join()`** \n- **list cast & `print(\"hello\", end='')`**\n\n\n----- \n\n><font size=\"5\" color=\"#00A0B2\"  face=\"verdana\"> <B>Student will be able to</B></font>  \n- Iterate through Lists using **`for`** with **`in`**\n- Use **`for range()`** in looping operations  \n- Use list methods **`.extend()`, `+, .reverse(), .sort()`**  \n- **convert between lists and strings using  `.split()` and `.join()`**\n- **cast strings to lists / direct multiple print outputs to a single line**"
    },
    {
      "metadata": {},
      "cell_type": "markdown",
      "source": "# &nbsp;\n<font size=\"6\" color=\"#00A0B2\"  face=\"verdana\"> <B>Concepts</B></font>\n## Converting a string to a list with `.split()`\n[![view video](https://iajupyterprodblobs.blob.core.windows.net/imagecontainer/common/play_video.png)]( http://edxinteractivepage.blob.core.windows.net/edxpages/f7cff1a7-5601-48a1-95a6-fd1fdfabd20e.html?details=[{\"src\":\"http://jupyternootbookwams.streaming.mediaservices.windows.net/1a076a9c-842f-455f-91bf-48db837842e8/Unit2_Section3.4a-Split_on_Breaks.ism/manifest\",\"type\":\"application/vnd.ms-sstr+xml\"}],[{\"src\":\"http://jupyternootbookwams.streaming.mediaservices.windows.net/1a076a9c-842f-455f-91bf-48db837842e8/Unit2_Section3.4a-Split_on_Breaks.vtt\",\"srclang\":\"en\",\"kind\":\"subtitles\",\"label\":\"english\"}])\n### `.split()`  by default, splits a string at spaces (\" \") to create a list\n```python\ntip = \"Notebooks can be exported as .pdf\"\ntip_words = tip.split()\n\nfor word in tip_words:\n    print(word)\n```"
    },
    {
      "metadata": {},
      "cell_type": "markdown",
      "source": "# &nbsp;\n<font size=\"6\" color=\"#00A0B2\"  face=\"verdana\"> <B>Examples</B></font>"
    },
    {
      "metadata": {
        "trusted": true
      },
      "cell_type": "code",
      "source": "# [ ] review and run example\ntip = \"Notebooks can be exported as .pdf\"\ntip_words = tip.split()\n\nprint(\"STRING:\", tip)\nprint(\"LIST:\", tip_words, \"\\n\")\n\nfor word in tip_words:\n    print(word)",
      "execution_count": 1,
      "outputs": [
        {
          "output_type": "stream",
          "text": "STRING: Notebooks can be exported as .pdf\nLIST: ['Notebooks', 'can', 'be', 'exported', 'as', '.pdf'] \n\nNotebooks\ncan\nbe\nexported\nas\n.pdf\n",
          "name": "stdout"
        }
      ]
    },
    {
      "metadata": {
        "trusted": true
      },
      "cell_type": "code",
      "source": "# [ ] review and run example\nrhyme = \"London bridge is falling down\"\n\nrhyme_words = rhyme.split()\n\nrhyme_words.reverse()\n\nfor word in rhyme_words:\n    print(word)",
      "execution_count": 2,
      "outputs": [
        {
          "output_type": "stream",
          "text": "down\nfalling\nis\nbridge\nLondon\n",
          "name": "stdout"
        }
      ]
    },
    {
      "metadata": {
        "collapsed": true
      },
      "cell_type": "markdown",
      "source": "# &nbsp;\n<font size=\"6\" color=\"#B24C00\"  face=\"verdana\"> <B>Task 1</B></font>\n\n### using `.split()`"
    },
    {
      "metadata": {
        "trusted": true
      },
      "cell_type": "code",
      "source": "# [ ] split the string(rhyme) into a list of words (rhyme_words)\n# [ ] print each word on it's own line\nrhyme = 'Jack and Jill went up the hill To fetch a pail of water' \n\nrhyme_words = rhyme.split()\n\nprint(rhyme_words)\n",
      "execution_count": 4,
      "outputs": [
        {
          "output_type": "stream",
          "text": "['Jack', 'and', 'Jill', 'went', 'up', 'the', 'hill', 'To', 'fetch', 'a', 'pail', 'of', 'water']\n",
          "name": "stdout"
        }
      ]
    },
    {
      "metadata": {
        "trusted": true
      },
      "cell_type": "code",
      "source": "# [ ] split code_tip into a list and print the first and every other word\ncode_tip = \"Python uses spaces for indentation\"\n\nprint(code_tip.split())",
      "execution_count": 5,
      "outputs": [
        {
          "output_type": "stream",
          "text": "['Python', 'uses', 'spaces', 'for', 'indentation']\n",
          "name": "stdout"
        }
      ]
    },
    {
      "metadata": {},
      "cell_type": "markdown",
      "source": "# &nbsp;\n<font size=\"6\" color=\"#00A0B2\"  face=\"verdana\"> <B>Concepts</B></font>\n## `.split('-')`\n[![view video](https://iajupyterprodblobs.blob.core.windows.net/imagecontainer/common/play_video.png)]( http://edxinteractivepage.blob.core.windows.net/edxpages/f7cff1a7-5601-48a1-95a6-fd1fdfabd20e.html?details=[{\"src\":\"http://jupyternootbookwams.streaming.mediaservices.windows.net/55d37e65-fb49-4bf5-87f8-fb987d3ce7a4/Unit2_Section3.4b-Split_on_Strings.ism/manifest\",\"type\":\"application/vnd.ms-sstr+xml\"}],[{\"src\":\"http://jupyternootbookwams.streaming.mediaservices.windows.net/55d37e65-fb49-4bf5-87f8-fb987d3ce7a4/Unit2_Section3.4b-Split_on_Strings.vtt\",\"srclang\":\"en\",\"kind\":\"subtitles\",\"label\":\"english\"}])\n### to split on characters other than \" \" (space), provide `.split()` a string argument to use as break points\n```python \ncode_tip = \"Python-uses-spaces-for-indentation\"\ntip_words = code_tip.split('-')\n```"
    },
    {
      "metadata": {},
      "cell_type": "markdown",
      "source": "### &nbsp;\n<font size=\"6\" color=\"#00A0B2\"  face=\"verdana\"> <B>Examples</B></font>  \n### `.split('-') : split with an argument"
    },
    {
      "metadata": {
        "trusted": true
      },
      "cell_type": "code",
      "source": "# [ ] review and run example\ncode_tip = \"Python-uses-spaces-for-indentation\"\ntip_words = code_tip.split('-')\n\nprint(tip_words)",
      "execution_count": 6,
      "outputs": [
        {
          "output_type": "stream",
          "text": "['Python', 'uses', 'spaces', 'for', 'indentation']\n",
          "name": "stdout"
        }
      ]
    },
    {
      "metadata": {
        "trusted": true
      },
      "cell_type": "code",
      "source": "# [ ] review and run example - study the list print output\ncode_tip = \"Python uses spaces for indentation\"\n\n# split on \"a\"\ntip_words = code_tip.split('a')\nprint(code_tip)\nprint(tip_words)",
      "execution_count": 7,
      "outputs": [
        {
          "output_type": "stream",
          "text": "Python uses spaces for indentation\n['Python uses sp', 'ces for indent', 'tion']\n",
          "name": "stdout"
        }
      ]
    },
    {
      "metadata": {
        "trusted": true
      },
      "cell_type": "code",
      "source": "# [ ] review and run example\n# triple quotes ''' ''' preserve formatting such as spaces and line breaks\nbig_quote = \"\"\"Jack and Jill went up the hill\nTo fetch a pail of water\nJack fell down and broke his crown\nAnd Jill came tumbling after\"\"\"\n\n# split on line breaks (\\n)\nquote_lines = big_quote.split('\\n')\nprint(quote_lines, '\\n')\n\n# print the list in reverse with index slicing\nfor line in quote_lines[::-1]:\n    print(line)\n",
      "execution_count": 8,
      "outputs": [
        {
          "output_type": "stream",
          "text": "['Jack and Jill went up the hill', 'To fetch a pail of water', 'Jack fell down and broke his crown', 'And Jill came tumbling after'] \n\nAnd Jill came tumbling after\nJack fell down and broke his crown\nTo fetch a pail of water\nJack and Jill went up the hill\n",
          "name": "stdout"
        }
      ]
    },
    {
      "metadata": {
        "collapsed": true
      },
      "cell_type": "markdown",
      "source": "# &nbsp;\n<font size=\"6\" color=\"#B24C00\"  face=\"verdana\"> <B>Task 2</B></font>\n\n## `.split()`"
    },
    {
      "metadata": {
        "trusted": true
      },
      "cell_type": "code",
      "source": "# [ ] split poem into a list of phrases by splitting on \"*\" a\n# [ ] print each phrase on a new line in title case\npoem = \"Write code frequently*Save code frequently*Comment code frequently*Study code frequently*\"\n\nphrases = poem.split(\"*\")\n\nfor word in phrases:\n    print(word)",
      "execution_count": 10,
      "outputs": [
        {
          "output_type": "stream",
          "text": "Write code frequently\nSave code frequently\nComment code frequently\nStudy code frequently\n\n",
          "name": "stdout"
        }
      ]
    },
    {
      "metadata": {},
      "cell_type": "markdown",
      "source": "# &nbsp;\n<font size=\"6\" color=\"#00A0B2\"  face=\"verdana\"> <B>Concepts</B></font>  \n\n## `.join()` &nbsp; build a string from a list\n[![view video](https://iajupyterprodblobs.blob.core.windows.net/imagecontainer/common/play_video.png)]( http://edxinteractivepage.blob.core.windows.net/edxpages/f7cff1a7-5601-48a1-95a6-fd1fdfabd20e.html?details=[{\"src\":\"http://jupyternootbookwams.streaming.mediaservices.windows.net/57decc97-801f-4f7e-8ab6-69a47cf1be7b/Unit2_Section3.4c-Build_using_Join_Sequence.ism/manifest\",\"type\":\"application/vnd.ms-sstr+xml\"}],[{\"src\":\"http://jupyternootbookwams.streaming.mediaservices.windows.net/57decc97-801f-4f7e-8ab6-69a47cf1be7b/Unit2_Section3.4c-Build_using_Join_Sequence.vtt\",\"srclang\":\"en\",\"kind\":\"subtitles\",\"label\":\"english\"}])\n### `.join()` is a method applied to a separator string and iterates through its argument\n```python\ntip_words = ['Notebooks', 'can', 'be', 'exported', 'as', '.pdf'] \n\n\" \".join(tip_words)\n```\na space (\" \") is the separator that gets injected between the objects in the argument (the list \"tip_words\")"
    },
    {
      "metadata": {},
      "cell_type": "markdown",
      "source": "# &nbsp;\n<font size=\"6\" color=\"#00A0B2\"  face=\"verdana\"> <B>Examples</B></font>  \n## `.join()`"
    },
    {
      "metadata": {
        "trusted": true
      },
      "cell_type": "code",
      "source": "# [ ] review and run example\ntip_words = ['Notebooks', 'can', 'be', 'exported', 'as', '.pdf'] \n\n# join tip_words objects with spaces\nprint(\" \".join(tip_words))",
      "execution_count": 11,
      "outputs": [
        {
          "output_type": "stream",
          "text": "Notebooks can be exported as .pdf\n",
          "name": "stdout"
        }
      ]
    },
    {
      "metadata": {
        "trusted": true
      },
      "cell_type": "code",
      "source": "# [ ] review and run example\nno_space = \"\"\nletters = [\"P\", \"y\", \"t\", \"h\", \"o\", \"n\"]\nprint(no_space.join(letters))",
      "execution_count": 12,
      "outputs": [
        {
          "output_type": "stream",
          "text": "Python\n",
          "name": "stdout"
        }
      ]
    },
    {
      "metadata": {
        "trusted": true
      },
      "cell_type": "code",
      "source": "# [ ] review and run example - .join() iterates through sequences\ndash = \"-\"\nspace = \" \"\nword = \"Iteration\"\nellipises = \"...\"\n\ndash_join = dash.join(word)\nprint(dash_join)\nprint(space.join(word))\nprint(ellipises.join(word))",
      "execution_count": 13,
      "outputs": [
        {
          "output_type": "stream",
          "text": "I-t-e-r-a-t-i-o-n\nI t e r a t i o n\nI...t...e...r...a...t...i...o...n\n",
          "name": "stdout"
        }
      ]
    },
    {
      "metadata": {
        "collapsed": true
      },
      "cell_type": "markdown",
      "source": "# &nbsp;\n<font size=\"6\" color=\"#B24C00\"  face=\"verdana\"> <B>Task 3</B></font>  \n## `.join()`"
    },
    {
      "metadata": {
        "trusted": true
      },
      "cell_type": "code",
      "source": "# [ ] .join() letters list objects with an Asterisk: \"*\"\nletters = [\"A\", \"s\", \"t\", \"e\", \"r\", \"i\", \"s\", \"k\"]\n\nprint(\"*\".join(letters))",
      "execution_count": 18,
      "outputs": [
        {
          "output_type": "error",
          "ename": "TypeError",
          "evalue": "join() takes no keyword arguments",
          "traceback": [
            "\u001b[0;31m---------------------------------------------------------------------------\u001b[0m",
            "\u001b[0;31mTypeError\u001b[0m                                 Traceback (most recent call last)",
            "\u001b[0;32m<ipython-input-18-5b98cb4e4e82>\u001b[0m in \u001b[0;36m<module>\u001b[0;34m()\u001b[0m\n\u001b[1;32m      2\u001b[0m \u001b[0mletters\u001b[0m \u001b[0;34m=\u001b[0m \u001b[0;34m[\u001b[0m\u001b[0;34m\"A\"\u001b[0m\u001b[0;34m,\u001b[0m \u001b[0;34m\"s\"\u001b[0m\u001b[0;34m,\u001b[0m \u001b[0;34m\"t\"\u001b[0m\u001b[0;34m,\u001b[0m \u001b[0;34m\"e\"\u001b[0m\u001b[0;34m,\u001b[0m \u001b[0;34m\"r\"\u001b[0m\u001b[0;34m,\u001b[0m \u001b[0;34m\"i\"\u001b[0m\u001b[0;34m,\u001b[0m \u001b[0;34m\"s\"\u001b[0m\u001b[0;34m,\u001b[0m \u001b[0;34m\"k\"\u001b[0m\u001b[0;34m]\u001b[0m\u001b[0;34m\u001b[0m\u001b[0m\n\u001b[1;32m      3\u001b[0m \u001b[0;34m\u001b[0m\u001b[0m\n\u001b[0;32m----> 4\u001b[0;31m \u001b[0mprint\u001b[0m\u001b[0;34m(\u001b[0m\u001b[0;34m\"*\"\u001b[0m\u001b[0;34m.\u001b[0m\u001b[0mjoin\u001b[0m\u001b[0;34m(\u001b[0m\u001b[0mletters\u001b[0m\u001b[0;34m,\u001b[0m \u001b[0mend\u001b[0m\u001b[0;34m=\u001b[0m \u001b[0;34m\"*\"\u001b[0m\u001b[0;34m)\u001b[0m\u001b[0;34m)\u001b[0m\u001b[0;34m\u001b[0m\u001b[0m\n\u001b[0m",
            "\u001b[0;31mTypeError\u001b[0m: join() takes no keyword arguments"
          ]
        }
      ]
    },
    {
      "metadata": {
        "collapsed": true
      },
      "cell_type": "markdown",
      "source": "# &nbsp;\n<font size=\"6\" color=\"#B24C00\"  face=\"verdana\"> <B>Task 4</B></font>  \n## Program: Choose the separator\n- get user input on what to use to join words (\" \", *, -, etc...) - store in variable: separator\n- join pharse_words with the separator and print"
    },
    {
      "metadata": {
        "trusted": true
      },
      "cell_type": "code",
      "source": "# [ ] complete Choose the separator\nphrase_words = ['Jack', 'and', 'Jill', 'went', 'up', 'the', 'hill', 'To', 'fetch', 'a', 'pail', 'of', 'water']\n\nseparator = input(\"Enter a character to separate the list by: \")\n\nprint(separator.join(phrase_words))",
      "execution_count": 17,
      "outputs": [
        {
          "output_type": "stream",
          "name": "stdout",
          "text": "Enter a character to separate the list by: $hi$\nJack$hi$and$hi$Jill$hi$went$hi$up$hi$the$hi$hill$hi$To$hi$fetch$hi$a$hi$pail$hi$of$hi$water\n"
        }
      ]
    },
    {
      "metadata": {},
      "cell_type": "markdown",
      "source": "# &nbsp;\n<font size=\"6\" color=\"#00A0B2\"  face=\"verdana\"> <B>Concept</B></font>\n## More Python string tools (tricks?)\n[![view video](https://iajupyterprodblobs.blob.core.windows.net/imagecontainer/common/play_video.png)]( http://edxinteractivepage.blob.core.windows.net/edxpages/f7cff1a7-5601-48a1-95a6-fd1fdfabd20e.html?details=[{\"src\":\"http://jupyternootbookwams.streaming.mediaservices.windows.net/aa6eaea3-a3cb-41d8-aee3-280d01a9f4f0/Unit2_Section3.4d-Useful_String_Tricks.ism/manifest\",\"type\":\"application/vnd.ms-sstr+xml\"}],[{\"src\":\"http://jupyternootbookwams.streaming.mediaservices.windows.net/aa6eaea3-a3cb-41d8-aee3-280d01a9f4f0/Unit2_Section3.4d-Useful_String_Tricks.vtt\",\"srclang\":\"en\",\"kind\":\"subtitles\",\"label\":\"english\"}])\n### Cast a string to a list of characters  \n```python\nhello_letters = list(\"Hello\")\n```\n### print to the same line with multiple print statements (`end=`)\nor insert any character as an end in print(\"String\", end=\"+\")\n```python\nprint('Hello', end = '')\nprint('world')\n```"
    },
    {
      "metadata": {},
      "cell_type": "markdown",
      "source": "# &nbsp;\n<font size=\"6\" color=\"#00A0B2\"  face=\"verdana\"> <B>Examples</B></font>"
    },
    {
      "metadata": {
        "trusted": true
      },
      "cell_type": "code",
      "source": "# [ ] review and run example\nhello_letters = list(\"Hello\")\nprint(hello_letters)",
      "execution_count": 19,
      "outputs": [
        {
          "output_type": "stream",
          "text": "['H', 'e', 'l', 'l', 'o']\n",
          "name": "stdout"
        }
      ]
    },
    {
      "metadata": {
        "trusted": true
      },
      "cell_type": "code",
      "source": "# [ ] review and run example\n# cast sting to list\nword_letters = list(\"concatenates\")\n\n# .join() concatenates the list\n# print on same line setting the end character\nprint('~'.join(word_letters))",
      "execution_count": 20,
      "outputs": [
        {
          "output_type": "stream",
          "text": "c~o~n~c~a~t~e~n~a~t~e~s\n",
          "name": "stdout"
        }
      ]
    },
    {
      "metadata": {
        "trusted": true
      },
      "cell_type": "code",
      "source": "# [ ] review and run example\nprint(\"Hello \", end = '')\nprint(\"world\")",
      "execution_count": 21,
      "outputs": [
        {
          "output_type": "stream",
          "text": "Hello world\n",
          "name": "stdout"
        }
      ]
    },
    {
      "metadata": {
        "trusted": true
      },
      "cell_type": "code",
      "source": "# [ ] review and run example\n# This  is the default print end\nprint(\"Hello World!\", end=\"\\n\")\nprint('still something to learn about print()')",
      "execution_count": 22,
      "outputs": [
        {
          "output_type": "stream",
          "text": "Hello World!\nstill something to learn about print()\n",
          "name": "stdout"
        }
      ]
    },
    {
      "metadata": {
        "trusted": true
      },
      "cell_type": "code",
      "source": "# [ ] review and run example\n# end inserts any valid str character: A-z, 0-9,!,@,*,\\n,\\t or ''(empty string)...\nfor letter in \"Concatenation\":\n    print(letter, end='*')",
      "execution_count": 23,
      "outputs": [
        {
          "output_type": "stream",
          "text": "C*o*n*c*a*t*e*n*a*t*i*o*n*",
          "name": "stdout"
        }
      ]
    },
    {
      "metadata": {
        "trusted": true
      },
      "cell_type": "code",
      "source": "for letter in \"Concatenation\":\n    print(letter, end='*\\n')",
      "execution_count": 24,
      "outputs": [
        {
          "output_type": "stream",
          "text": "C*\no*\nn*\nc*\na*\nt*\ne*\nn*\na*\nt*\ni*\no*\nn*\n",
          "name": "stdout"
        }
      ]
    },
    {
      "metadata": {},
      "cell_type": "markdown",
      "source": "# &nbsp;\n<font size=\"6\" color=\"#B24C00\"  face=\"verdana\"> <B>Task 5</B></font>\n## `end=\" \" ` configuration in printing\n`print('The String', end='')`"
    },
    {
      "metadata": {
        "trusted": true
      },
      "cell_type": "code",
      "source": "# [ ] use 3 print() statements to output text to one line \n# [ ] separate the lines by using \"- \" (dash space)\n\nprint(\"Python \", end='')\nprint(\"is \",end='')\nprint(\"fun\")",
      "execution_count": 27,
      "outputs": [
        {
          "output_type": "stream",
          "text": "Python is fun\n",
          "name": "stdout"
        }
      ]
    },
    {
      "metadata": {},
      "cell_type": "markdown",
      "source": "# &nbsp;\n<font size=\"6\" color=\"#B24C00\"  face=\"verdana\"> <B>Task 6</B></font>\n## cast: str to list\n`Msg_characters = list(\"Always test your code\")`"
    },
    {
      "metadata": {
        "trusted": true
      },
      "cell_type": "code",
      "source": "# [ ] create a string (fact) of 20 or more characters and cast to a list (fact_letters)\n# [ ] iterate fact, printing each char on one line, except for spaces print a new line\n\nfact = list(\"Music is a natural way to reduce stress and anxiety.\")\n\n\nfor letter in fact:\n    if letter == ' ':\n        print()\n    else:\n        print(letter)\n        ",
      "execution_count": 28,
      "outputs": [
        {
          "output_type": "stream",
          "text": "M\nu\ns\ni\nc\n\ni\ns\n\na\n\nn\na\nt\nu\nr\na\nl\n\nw\na\ny\n\nt\no\n\nr\ne\nd\nu\nc\ne\n\ns\nt\nr\ne\ns\ns\n\na\nn\nd\n\na\nn\nx\ni\ne\nt\ny\n.\n",
          "name": "stdout"
        }
      ]
    },
    {
      "metadata": {
        "collapsed": true
      },
      "cell_type": "markdown",
      "source": "# &nbsp;  \n<font size=\"6\" color=\"#B24C00\"  face=\"verdana\"> <B>Task 7</B></font>  \n## Program: add the digits\n- create a 20 digit string, and cast to a list\n- then add all the digits as integers\n- print the equation and answer  \n\nHint: use cast to sum the digits, and .join() to create the equation (1+2+3+...)"
    },
    {
      "metadata": {
        "trusted": true
      },
      "cell_type": "code",
      "source": "# [ ] create add the digits\n\ndigits = list(\"27290375407849282834\")\ntotal = 0\n\nfor digit in digits:\n    total += int(digit)\n    \nprint(\"+\".join(digits), \"= \", end= '')\nprint(total)\n    \n",
      "execution_count": 32,
      "outputs": [
        {
          "output_type": "stream",
          "text": "2+7+2+9+0+3+7+5+4+0+7+8+4+9+2+8+2+8+3+4 = 94\n",
          "name": "stdout"
        }
      ]
    },
    {
      "metadata": {
        "collapsed": true
      },
      "cell_type": "markdown",
      "source": "[Terms of use](http://go.microsoft.com/fwlink/?LinkID=206977) &nbsp; [Privacy & cookies](https://go.microsoft.com/fwlink/?LinkId=521839) &nbsp; © 2017 Microsoft"
    },
    {
      "metadata": {
        "trusted": true
      },
      "cell_type": "code",
      "source": "wisdom_list = [\"mistakes\", \"are\", \"a\", \"part\", \"of\", \"learning\"]\nwisdom_string = \"()\".join(wisdom_list)\nprint(wisdom_string)\n\n    ",
      "execution_count": 33,
      "outputs": [
        {
          "output_type": "stream",
          "text": "mistakes()are()a()part()of()learning\n",
          "name": "stdout"
        }
      ]
    },
    {
      "metadata": {
        "trusted": true
      },
      "cell_type": "code",
      "source": "code_tip = \"-PythonO-usesO-spacesO-forO-indentation\"\ntip_words = code_tip.split('O')\nprint(tip_words)\n",
      "execution_count": 34,
      "outputs": [
        {
          "output_type": "stream",
          "text": "['-Python', '-uses', '-spaces', '-for', '-indentation']\n",
          "name": "stdout"
        }
      ]
    },
    {
      "metadata": {
        "trusted": true
      },
      "cell_type": "code",
      "source": "",
      "execution_count": null,
      "outputs": []
    }
  ],
  "metadata": {
    "anaconda-cloud": {},
    "kernelspec": {
      "name": "python3",
      "display_name": "Python 3",
      "language": "python"
    },
    "language_info": {
      "mimetype": "text/x-python",
      "nbconvert_exporter": "python",
      "name": "python",
      "pygments_lexer": "ipython3",
      "version": "3.5.4",
      "file_extension": ".py",
      "codemirror_mode": {
        "version": 3,
        "name": "ipython"
      }
    }
  },
  "nbformat": 4,
  "nbformat_minor": 1
}