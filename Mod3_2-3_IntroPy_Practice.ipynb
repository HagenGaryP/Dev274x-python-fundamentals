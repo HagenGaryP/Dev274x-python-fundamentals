{
  "cells": [
    {
      "metadata": {},
      "cell_type": "markdown",
      "source": "# 2-3 Intro Python Practice  \n## power iteration of sequences\n\n<font size=\"5\" color=\"#00A0B2\"  face=\"verdana\"> <B>Student will be able to</B></font>  \n- Iterate through Lists using **`for`** and **`in`**\n- Use **`for` *`count`* `in range()`** in looping operations  \n- Use list methods **`.extend()`, `+, .reverse(), .sort()`**  \n- convert between lists and strings using  **`.split()`** and **`.join()`**\n- cast strings to lists **/** direct multiple print outputs to a single line.  ** `print(\"hi\", end='')`**"
    },
    {
      "metadata": {},
      "cell_type": "markdown",
      "source": "# &nbsp;\n<font size=\"6\" color=\"#B24C00\"  face=\"verdana\"> <B>Task 1</B></font>\n##  list iteration: `for in`\n### `for item in list:`"
    },
    {
      "metadata": {
        "trusted": true
      },
      "cell_type": "code",
      "source": "# [ ] print out the \"physical states of matter\" (matter_states) in 4 sentences using list iteration\n# each sentence should be of the format: \"Solid - is state of matter #1\" \nmatter_states = ['solid', 'liquid', 'gas', 'plasma']\nindex = 1\n\nfor state in matter_states:\n    print(state.capitalize(), \"\\t- is state of matter #\" + str(index))\n    index += 1",
      "execution_count": 2,
      "outputs": [
        {
          "output_type": "stream",
          "text": "Solid \t- is state of matter #1\nLiquid \t- is state of matter #2\nGas \t- is state of matter #3\nPlasma \t- is state of matter #4\n",
          "name": "stdout"
        }
      ]
    },
    {
      "metadata": {
        "trusted": true
      },
      "cell_type": "code",
      "source": "# [ ] iterate the list (birds) to see any bird names start with \"c\" and remove that item from the list\n# print the birds list before and after removals\nbirds = [\"turkey\", \"hawk\", \"chicken\", \"dove\", \"crow\"]\n\nprint(birds)\n\nfor bird in birds:\n    if bird.startswith(\"c\"):\n        birds.remove(bird)\n        \nprint(birds)",
      "execution_count": 3,
      "outputs": [
        {
          "output_type": "stream",
          "text": "['turkey', 'hawk', 'chicken', 'dove', 'crow']\n['turkey', 'hawk', 'dove']\n",
          "name": "stdout"
        }
      ]
    },
    {
      "metadata": {
        "trusted": true
      },
      "cell_type": "code",
      "source": "# the team makes 1pt, 2pt or 3pt baskets\n# [ ] print the occurace of each type of basket(1pt, 2pt, 3pt) & total points using the list baskets\nbaskets = [2,2,2,1,2,1,3,3,1,2,2,2,2,1,3]\none = 0\ntwo = 0\nthree = 0\ntotal = 0\n\nfor point in baskets:\n    if point == 1:\n        one += 1\n        total += 1\n    elif point == 2:\n        two += 1\n        total += 2\n    else:\n        three += 1\n        total += 3\n\nprint(\"Baskets made\\n\")\nprint(\"1pt:\", one, \"\\n2pt:\", two, \"\\n3pt:\", three)\nprint(\"\\nfor a total of\", total, \"points.\")\n        ",
      "execution_count": 11,
      "outputs": [
        {
          "output_type": "stream",
          "text": "Baskets made\n\n1pt: 4 \n2pt: 8 \n3pt: 3\n\nfor a total of 29 points.\n",
          "name": "stdout"
        }
      ]
    },
    {
      "metadata": {},
      "cell_type": "markdown",
      "source": "# &nbsp;\n<font size=\"6\" color=\"#B24C00\"  face=\"verdana\"> <B>Task 2</B></font>\n##  iteration with `range(start)` & `range(start,stop)`\n"
    },
    {
      "metadata": {
        "trusted": true
      },
      "cell_type": "code",
      "source": "# [ ] using range() print \"hello\" 4 times\n\nfor hello in range(4):\n    print(\"hello\")\n",
      "execution_count": 12,
      "outputs": [
        {
          "output_type": "stream",
          "text": "hello\nhello\nhello\nhello\n",
          "name": "stdout"
        }
      ]
    },
    {
      "metadata": {
        "trusted": true
      },
      "cell_type": "code",
      "source": "# [ ] find spell_list length\n# [ ] use range() to iterate each half of spell_list  \n# [ ] label & print the first and second halves\nspell_list = [\"Tuesday\", \"Wednesday\", \"February\", \"November\", \"Annual\", \"Calendar\", \"Solstice\"]\n\nmid = int(len(spell_list)/2)\n\nhalf_1 = []\nhalf_2 = []\n\nfor word in range(mid):\n    half_1.append(spell_list[word])\n    \nfor word in range(mid, len(spell_list)):\n    half_2.append(spell_list[word])\n\nprint(\"first half: \", half_1)\nprint(\"second half: \", half_2)",
      "execution_count": 17,
      "outputs": [
        {
          "output_type": "stream",
          "text": "first half:  ['Tuesday', 'Wednesday', 'February']\nsecond half:  ['November', 'Annual', 'Calendar', 'Solstice']\n",
          "name": "stdout"
        }
      ]
    },
    {
      "metadata": {
        "trusted": true
      },
      "cell_type": "code",
      "source": "# [ ] build a list of numbers from 20 to 29: twenties \n# append each number to twenties list using range(start,stop) iteration\n# [ ] print twenties\ntwenties = []\n\nfor num in range(20,30):\n    twenties.append(num)\n    \nprint(twenties)",
      "execution_count": 18,
      "outputs": [
        {
          "output_type": "stream",
          "text": "[20, 21, 22, 23, 24, 25, 26, 27, 28, 29]\n",
          "name": "stdout"
        }
      ]
    },
    {
      "metadata": {
        "trusted": true
      },
      "cell_type": "code",
      "source": "# [ ] iterate through the numbers populated in the list twenties and add each number to a variable: total\n# [ ] print total\ntotal = 0\n\nfor num in twenties:\n    total += num\n\nprint(total)",
      "execution_count": 19,
      "outputs": [
        {
          "output_type": "stream",
          "text": "245\n",
          "name": "stdout"
        }
      ]
    },
    {
      "metadata": {
        "trusted": true
      },
      "cell_type": "code",
      "source": "# check your answer above using range(start,stop)\n# [ ] iterate each number from 20 to 29 using range()\n# [ ] add each number to a variable (total) to calculate the sum\n# should match earlier task \ntotal = 0\n\nfor num in range(20, 30):\n    total += num\n\nprint(total)",
      "execution_count": 20,
      "outputs": [
        {
          "output_type": "stream",
          "text": "245\n",
          "name": "stdout"
        }
      ]
    },
    {
      "metadata": {},
      "cell_type": "markdown",
      "source": "# &nbsp;\n<font size=\"6\" color=\"#B24C00\"  face=\"verdana\"> <B>Task 3</B></font>\n##  iteration with `range(start:stop:skip)`\n"
    },
    {
      "metadata": {
        "trusted": true
      },
      "cell_type": "code",
      "source": "# [ ] create a list of odd numbers (odd_nums) from 1 to 25 using range(start,stop,skip)\n# [ ] print odd_nums\n# hint: odd numbers are 2 digits apart\nodd_numbers = list(range(1,26,2))\n\nprint(odd_numbers)",
      "execution_count": 21,
      "outputs": [
        {
          "output_type": "stream",
          "text": "[1, 3, 5, 7, 9, 11, 13, 15, 17, 19, 21, 23, 25]\n",
          "name": "stdout"
        }
      ]
    },
    {
      "metadata": {
        "trusted": true
      },
      "cell_type": "code",
      "source": "# [ ] create a Decending list of odd numbers (odd_nums) from 25 to 1 using range(start,stop,skip)\n# [ ] print odd_nums,  output should resemble [25, 23, ...]\n\nodd_nums = list(range(25, 0, -2))\nprint(odd_nums)\n",
      "execution_count": 23,
      "outputs": [
        {
          "output_type": "stream",
          "text": "[25, 23, 21, 19, 17, 15, 13, 11, 9, 7, 5, 3, 1]\n",
          "name": "stdout"
        }
      ]
    },
    {
      "metadata": {
        "trusted": true
      },
      "cell_type": "code",
      "source": "# the list, elements, contains the names of the first 20 elements in atomic number order\n# [ ] print the even number elements \"2 - Helium, 4 - Beryllium,..\" in the list with the atomic number\nelements = ['Hydrogen', 'Helium', 'Lithium', 'Beryllium', 'Boron', 'Carbon', 'Nitrogen', 'Oxygen', 'Fluorine', \\\n 'Neon', 'Sodium', 'Magnesium', 'Aluminum', 'Silicon', 'Phosphorus', 'Sulfur', 'Chlorine', 'Argon', \\\n 'Potassium', 'Calcium']\n\nfor index in range(1, 21, 2):\n    print(str(index+1) + \":\", elements[index])",
      "execution_count": 36,
      "outputs": [
        {
          "output_type": "stream",
          "text": "2: Helium\n4: Beryllium\n6: Carbon\n8: Oxygen\n10: Neon\n12: Magnesium\n14: Silicon\n16: Sulfur\n18: Argon\n20: Calcium\n",
          "name": "stdout"
        }
      ]
    },
    {
      "metadata": {
        "trusted": true
      },
      "cell_type": "code",
      "source": "# [ ] the list, elements_40, contains the names of the first 40 elements in atomic number order\n# [ ] print the odd number elements \"1 - Hydrogen, 3 - Lithium,..\" in the list with the atomic number elements_40\nelements_40 = ['Hydrogen', \\\n 'Helium', 'Lithium', 'Beryllium', 'Boron', 'Carbon', 'Nitrogen', 'Oxygen', 'Fluorine', \\\n 'Neon', 'Sodium', 'Magnesium', 'Aluminum', 'Silicon', 'Phosphorus', 'Sulfur', 'Chlorine', \\\n 'Argon', 'Potassium', 'Calcium', 'Scandium', 'Titanium', 'Vanadium', 'Chromium', 'Manganese', \\\n 'Iron', 'Cobalt', 'Nickel', 'Copper', 'Zinc', 'Gallium', 'Germanium', 'Arsenic', 'Selenium', \\\n 'Bromine', 'Krypton', 'Rubidium', 'Strontium', 'Yttrium', 'Zirconium']\n\nfor index in range(0, 40, 2):\n    print(str(index+1) + \":\", elements_40[index])\n",
      "execution_count": 38,
      "outputs": [
        {
          "output_type": "stream",
          "text": "1: Hydrogen\n3: Lithium\n5: Boron\n7: Nitrogen\n9: Fluorine\n11: Sodium\n13: Aluminum\n15: Phosphorus\n17: Chlorine\n19: Potassium\n21: Scandium\n23: Vanadium\n25: Manganese\n27: Cobalt\n29: Copper\n31: Gallium\n33: Arsenic\n35: Bromine\n37: Rubidium\n39: Yttrium\n",
          "name": "stdout"
        }
      ]
    },
    {
      "metadata": {
        "trusted": false
      },
      "cell_type": "code",
      "source": "",
      "execution_count": null,
      "outputs": []
    },
    {
      "metadata": {},
      "cell_type": "markdown",
      "source": "# &nbsp;\n<font size=\"6\" color=\"#B24C00\"  face=\"verdana\"> <B>Task 4</B></font>\n## combine lists with `+` and `.extend()`"
    },
    {
      "metadata": {
        "trusted": true
      },
      "cell_type": "code",
      "source": "# [ ] print the combined lists (numbers_1 & numbers_2) using \"+\" operator\nnumbers_1 = [20, 21, 22, 23, 24, 25, 26, 27, 28, 29]\n\n# pythonic casting of a range into a list\nnumbers_2 = list(range(30,50,2))\n\nprint(\"numbers_1:\",numbers_1)\nprint(\"numbers_2:\",numbers_2)\n\nall_numbers = numbers_1 + numbers_2\n\nprint(\"\\nAll numbers:\", all_numbers)\n\n",
      "execution_count": 40,
      "outputs": [
        {
          "output_type": "stream",
          "text": "numbers_1: [20, 21, 22, 23, 24, 25, 26, 27, 28, 29]\nnumbers_2: [30, 32, 34, 36, 38, 40, 42, 44, 46, 48]\n\nAll numbers: [20, 21, 22, 23, 24, 25, 26, 27, 28, 29, 30, 32, 34, 36, 38, 40, 42, 44, 46, 48]\n",
          "name": "stdout"
        }
      ]
    },
    {
      "metadata": {
        "trusted": true
      },
      "cell_type": "code",
      "source": "# [ ] print the combined element lists (first_row & second_row) using \".extend()\" method\nfirst_row = ['Hydrogen', 'Helium']\nsecond_row = ['Lithium', 'Beryllium', 'Boron', 'Carbon', 'Nitrogen', 'Oxygen', 'Fluorine', 'Neon']\n\nprint(\"1st Row:\", first_row)\nprint(\"2nd Row:\", second_row)\n\nfirst_row.extend(second_row)\n\nprint(\"\\nCombined:\", first_row)\n",
      "execution_count": 42,
      "outputs": [
        {
          "output_type": "stream",
          "text": "1st Row: ['Hydrogen', 'Helium']\n2nd Row: ['Lithium', 'Beryllium', 'Boron', 'Carbon', 'Nitrogen', 'Oxygen', 'Fluorine', 'Neon']\n\nCombined: ['Hydrogen', 'Helium', 'Lithium', 'Beryllium', 'Boron', 'Carbon', 'Nitrogen', 'Oxygen', 'Fluorine', 'Neon']\n",
          "name": "stdout"
        }
      ]
    },
    {
      "metadata": {},
      "cell_type": "markdown",
      "source": "## Project: Combine 3 element rows\nChoose to use **\"+\" or \".extend()\" **to build output similar to   \n\n```\nThe 1st three rows of the Period Table of Elements contain:\n['Hydrogen', 'Helium', 'Lithium', 'Beryllium', 'Boron', 'Carbon', 'Nitrogen', 'Oxygen', 'Fluorine', 'Neon', 'Sodium', 'Magnesium', 'Aluminum', 'Silicon', 'Phosphorus', 'Sulfur', 'Chlorine', 'Argon']\n\nThe row breakdown is\nRow 1: Hydrogen, Helium\nRow 2: Lithium, Beryllium, Boron, Carbon, Nitrogen, Oxygen, Fluorine, Neon\nRow 3: Sodium, Magnesium, Aluminum, Silicon, Phosphorus, Sulfur, Chlorine, Argon\n```"
    },
    {
      "metadata": {
        "trusted": true
      },
      "cell_type": "code",
      "source": "# [ ] create the program: combined 3 element rows \n\nelem_1 = ['Hydrogen', 'Helium'] \nelem_2 = ['Lithium', 'Beryllium', 'Boron', 'Carbon', 'Nitrogen', 'Oxygen', 'Fluorine', 'Neon']\nelem_3 = ['Sodium', 'Magnesium', 'Aluminum', 'Silicon', 'Phosphorus', 'Sulfur', 'Chlorine', 'Argon']\n\nelements = elem_1 + elem_2 + elem_3\n\nprint(elements)\n",
      "execution_count": 43,
      "outputs": [
        {
          "output_type": "stream",
          "text": "['Hydrogen', 'Helium', 'Lithium', 'Beryllium', 'Boron', 'Carbon', 'Nitrogen', 'Oxygen', 'Fluorine', 'Neon', 'Sodium', 'Magnesium', 'Aluminum', 'Silicon', 'Phosphorus', 'Sulfur', 'Chlorine', 'Argon']\n",
          "name": "stdout"
        }
      ]
    },
    {
      "metadata": {
        "trusted": true
      },
      "cell_type": "code",
      "source": "# [ ] .extend() jack_jill with \"next_line\" string - print the result\njack_jill = ['Jack', 'and', 'Jill', 'went', 'up', 'the', 'hill']\nnext_line = ['To', 'fetch', 'a', 'pail', 'of', 'water']\n\njack_jill.extend(next_line)\n\nprint(jack_jill)\n",
      "execution_count": 44,
      "outputs": [
        {
          "output_type": "stream",
          "text": "['Jack', 'and', 'Jill', 'went', 'up', 'the', 'hill', 'To', 'fetch', 'a', 'pail', 'of', 'water']\n",
          "name": "stdout"
        }
      ]
    },
    {
      "metadata": {},
      "cell_type": "markdown",
      "source": "# &nbsp;\n<font size=\"6\" color=\"#B24C00\"  face=\"verdana\"> <B>Task 5</B></font>\n## .reverse() : reverse a list in place"
    },
    {
      "metadata": {
        "trusted": true
      },
      "cell_type": "code",
      "source": "# [ ] use .reverse() to print elements starting with \"Calcium\", \"Chlorine\",... in reverse order\nelements = ['Hydrogen', 'Helium', 'Lithium', 'Beryllium', 'Boron', 'Carbon', 'Nitrogen', 'Oxygen', 'Fluorine', \\\n 'Neon', 'Sodium', 'Magnesium', 'Aluminum', 'Silicon', 'Phosphorus', 'Sulfur', 'Chlorine', 'Argon', \\\n 'Potassium', 'Calcium']\n\nelements.reverse()\n\nprint(elements)",
      "execution_count": 46,
      "outputs": [
        {
          "output_type": "stream",
          "text": "['Calcium', 'Potassium', 'Argon', 'Chlorine', 'Sulfur', 'Phosphorus', 'Silicon', 'Aluminum', 'Magnesium', 'Sodium', 'Neon', 'Fluorine', 'Oxygen', 'Nitrogen', 'Carbon', 'Boron', 'Beryllium', 'Lithium', 'Helium', 'Hydrogen']\n",
          "name": "stdout"
        }
      ]
    },
    {
      "metadata": {
        "trusted": true
      },
      "cell_type": "code",
      "source": "# [ ] reverse order of the list... Then print only words that are 8 characters or longer from the now reversed order\nspell_list = [\"Tuesday\", \"Wednesday\", \"February\", \"November\", \"Annual\", \"Calendar\", \"Solstice\"]\n\nspell_list.reverse()\n\nfor word in spell_list:\n    print(word, \"is\", len(word), \"characters long\")\n    if len(word) < 8:\n        spell_list.remove(word)\n        \nprint()    \nprint(spell_list)\n",
      "execution_count": 50,
      "outputs": [
        {
          "output_type": "stream",
          "text": "Solstice is 8 characters long\nCalendar is 8 characters long\nAnnual is 6 characters long\nFebruary is 8 characters long\nWednesday is 9 characters long\nTuesday is 7 characters long\n\n['Solstice', 'Calendar', 'November', 'February', 'Wednesday']\n",
          "name": "stdout"
        }
      ]
    },
    {
      "metadata": {},
      "cell_type": "markdown",
      "source": "# &nbsp;\n<font size=\"6\" color=\"#B24C00\"  face=\"verdana\"> <B>Task 6</B></font>\n## .sort() and sorted()"
    },
    {
      "metadata": {
        "trusted": true
      },
      "cell_type": "code",
      "source": "# [ ] sort the list element, so names are in alphabetical order and print elements\nelements = ['Hydrogen', 'Helium', 'Lithium', 'Beryllium', 'Boron', 'Carbon', 'Nitrogen', 'Oxygen', 'Fluorine', \\\n 'Neon', 'Sodium', 'Magnesium', 'Aluminum', 'Silicon', 'Phosphorus', 'Sulfur', 'Chlorine', 'Argon', \\\n 'Potassium', 'Calcium']\n\nelements.sort()\n\nprint(elements)",
      "execution_count": 51,
      "outputs": [
        {
          "output_type": "stream",
          "text": "['Aluminum', 'Argon', 'Beryllium', 'Boron', 'Calcium', 'Carbon', 'Chlorine', 'Fluorine', 'Helium', 'Hydrogen', 'Lithium', 'Magnesium', 'Neon', 'Nitrogen', 'Oxygen', 'Phosphorus', 'Potassium', 'Silicon', 'Sodium', 'Sulfur']\n",
          "name": "stdout"
        }
      ]
    },
    {
      "metadata": {
        "trusted": true
      },
      "cell_type": "code",
      "source": "# [ ] print the list, numbers, sorted and then below print the original numbers list \nnumbers = [2,2,2,1,2,1,3,3,1,2,2,2,2,1,3]\n\nprint(sorted(numbers))\n\nprint(numbers)",
      "execution_count": 52,
      "outputs": [
        {
          "output_type": "stream",
          "text": "[1, 1, 1, 1, 2, 2, 2, 2, 2, 2, 2, 2, 3, 3, 3]\n[2, 2, 2, 1, 2, 1, 3, 3, 1, 2, 2, 2, 2, 1, 3]\n",
          "name": "stdout"
        }
      ]
    },
    {
      "metadata": {},
      "cell_type": "markdown",
      "source": "# &nbsp;\n<font size=\"6\" color=\"#B24C00\"  face=\"verdana\"> <B>Task 7</B></font>\n## Converting a string to a list with `.split()`"
    },
    {
      "metadata": {
        "trusted": true
      },
      "cell_type": "code",
      "source": "# [ ] split the string, daily_fact, into a list of word strings: fact_words\n# [ ] print each string in fact_words in upper case on its own line\ndaily_fact = \"Did you know that there are 1.4 billion students in the world?\"\n\nfact_words = daily_fact.split()\n\nfor word in fact_words:\n    print(word.upper())",
      "execution_count": 55,
      "outputs": [
        {
          "output_type": "stream",
          "text": "DID\nYOU\nKNOW\nTHAT\nTHERE\nARE\n1.4\nBILLION\nSTUDENTS\nIN\nTHE\nWORLD?\n",
          "name": "stdout"
        }
      ]
    },
    {
      "metadata": {
        "trusted": true
      },
      "cell_type": "code",
      "source": "# [ ] convert the string, code_tip, into a list made from splitting on the letter \"o\"\ncode_tip =\"Read code aloud or explain the code step by step to a peer\"\n\ncode_list = code_tip.split('o')\n\nprint(code_list)\n",
      "execution_count": 59,
      "outputs": [
        {
          "output_type": "stream",
          "text": "['Read c', 'de al', 'ud ', 'r explain the c', 'de step by step t', ' a peer']\n",
          "name": "stdout"
        }
      ]
    },
    {
      "metadata": {
        "trusted": true
      },
      "cell_type": "code",
      "source": "# [ ] split poem on \"b\" to create a list: poem_words\n# [ ] print poem_words by iterating the list\npoem = \"The bright brain, has bran!\"\n\npoem_words = list(poem.split('b'))\n\nfor word in poem_words:\n    print(word)\n",
      "execution_count": 56,
      "outputs": [
        {
          "output_type": "stream",
          "text": "The \nright \nrain, has \nran!\n",
          "name": "stdout"
        }
      ]
    },
    {
      "metadata": {},
      "cell_type": "markdown",
      "source": "# &nbsp;\n<font size=\"6\" color=\"#B24C00\"  face=\"verdana\"> <B>Task 8</B></font>\n## `.join()`\n### build a string from a list"
    },
    {
      "metadata": {
        "trusted": true
      },
      "cell_type": "code",
      "source": "# [ ] print a comma separated string output from the list of Halogen elements using \".join()\"\nhalogens = ['Chlorine', 'Florine', 'Bromine', 'Iodine']\n\nprint(\", \".join(halogens))",
      "execution_count": 58,
      "outputs": [
        {
          "output_type": "stream",
          "text": "Chlorine, Florine, Bromine, Iodine\n",
          "name": "stdout"
        }
      ]
    },
    {
      "metadata": {
        "trusted": true
      },
      "cell_type": "code",
      "source": "# [ ] split the sentence, code_tip, into a words list\n# [ ] print the joined words in the list with no spaces in-between\n# [ ] Bonus: capitalize each word in the list before .join()\ncode_tip =\"Read code aloud or explain the code step by step to a peer\"\n# this task is poorly worded and doesn't make sense.. but I'll try\nwords = code_tip.split()\n\nprint(\"\".join(words))\nprint(words)",
      "execution_count": 62,
      "outputs": [
        {
          "output_type": "stream",
          "text": "Readcodealoudorexplainthecodestepbysteptoapeer\n['Read', 'code', 'aloud', 'or', 'explain', 'the', 'code', 'step', 'by', 'step', 'to', 'a', 'peer']\n",
          "name": "stdout"
        }
      ]
    },
    {
      "metadata": {},
      "cell_type": "markdown",
      "source": "# &nbsp;\n<font size=\"6\" color=\"#B24C00\"  face=\"verdana\"> <B>Task 9</B></font>  \n## `list(string)` & `print(\"hello\",end=' ')`\n\n- **Cast a string to a list** \n- **print to the same line**   "
    },
    {
      "metadata": {
        "trusted": true
      },
      "cell_type": "code",
      "source": "# [ ] cast the long_word into individual letters list \n# [ ] print each letter on a line\nlong_word = 'decelerating'\n\nletters = []\n\nfor letter in long_word:\n    letters.append(letter)\n    print(letter)\n    \nprint()\nprint(letters)",
      "execution_count": 63,
      "outputs": [
        {
          "output_type": "stream",
          "text": "d\ne\nc\ne\nl\ne\nr\na\nt\ni\nn\ng\n\n['d', 'e', 'c', 'e', 'l', 'e', 'r', 'a', 't', 'i', 'n', 'g']\n",
          "name": "stdout"
        }
      ]
    },
    {
      "metadata": {
        "trusted": true
      },
      "cell_type": "code",
      "source": "# [ ] use use end= in print to output each string in questions with a \"?\" and on new lines\nquestions = [\"What's the closest planet to the Sun\", \"How deep do Dolphins swim\", \"What time is it\"]\n\nfor i in questions:\n    print(i, end=\"?\\n\")\n",
      "execution_count": 68,
      "outputs": [
        {
          "output_type": "stream",
          "text": "What's the closest planet to the Sun?\nHow deep do Dolphins swim?\nWhat time is it?\n",
          "name": "stdout"
        }
      ]
    },
    {
      "metadata": {
        "trusted": true
      },
      "cell_type": "code",
      "source": "# [ ] print each item in foot bones \n#    - capitalized, both words if two word name ## i dont think it is correct form to capitalize both, but okay..\n#    - separated by a comma and space\n#    - and keeping on a single print line\nfoot_bones = [\"calcaneus\", \"talus\", \"cuboid\", \"navicular\", \"lateral cuneiform\", \n            \"intermediate cuneiform\", \"medial cuneiform\"]    \nprint(\", \".join(foot_bones))\nbones = \"\"\n\nfor word in foot_bones:\n    bones += word.title() + \", \"   # using .title() to capitalize each word in string, for only first word use .capitalize()\n    \n\n    \nprint(\"\\n\" + bones[:-2]) # slicing the last \",\" off because I forget the right way of doing this",
      "execution_count": 86,
      "outputs": [
        {
          "output_type": "stream",
          "text": "calcaneus, talus, cuboid, navicular, lateral cuneiform, intermediate cuneiform, medial cuneiform\n\nCalcaneus, Talus, Cuboid, Navicular, Lateral Cuneiform, Intermediate Cuneiform, Medial Cuneiform\n",
          "name": "stdout"
        }
      ]
    },
    {
      "metadata": {},
      "cell_type": "markdown",
      "source": "[Terms of use](http://go.microsoft.com/fwlink/?LinkID=206977) &nbsp; [Privacy & cookies](https://go.microsoft.com/fwlink/?LinkId=521839) &nbsp; © 2017 Microsoft"
    }
  ],
  "metadata": {
    "anaconda-cloud": {},
    "kernelspec": {
      "name": "python3",
      "display_name": "Python 3",
      "language": "python"
    },
    "language_info": {
      "mimetype": "text/x-python",
      "nbconvert_exporter": "python",
      "name": "python",
      "pygments_lexer": "ipython3",
      "version": "3.5.4",
      "file_extension": ".py",
      "codemirror_mode": {
        "version": 3,
        "name": "ipython"
      }
    }
  },
  "nbformat": 4,
  "nbformat_minor": 1
}