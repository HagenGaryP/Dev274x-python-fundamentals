{
  "cells": [
    {
      "metadata": {},
      "cell_type": "markdown",
      "source": "# 2-4.1 Intro Python\n## Working with Files\n4.1 **File import in Jupyter Notebooks**  \n4.1 **File `open(`) and `.read()`**  \n4.2 File Read as a list with **`.readlines()`**  \n4.2 File Closing to free resources with **`.close()`**  \n4.3 File Read a line at a time with **`.readline()`**   \n4.3 Remove characters using **`.strip()`**  \n4.4 File **`.write()`**  with **`.seek()`**  \n4.4 File append mode \n\n----- \n\n><font size=\"5\" color=\"#00A0B2\"  face=\"verdana\"> <B>Student will be able to</B></font>  \n4.1 **Import files in Jupyter Notebooks using the curl command **  \n4.1 **`open()` and `.read()` local files in memory**   \n4.1 **`.read()` a specific number of characters**  \n4.2 Use **`.readlines()`** to read data from file as a list of lines  \n4.2 Use **`.close`** to free system resources  \n4.3 Use **`.readline()`** to read data from file a line at a time  \n4.3 Use **`.strip()`** to remove new line characters  \n4.4 **`.write()`** data to a new local file\n4.4 Use **`.seek()`** to set file read or write location  \n4.4 Use file append mode"
    },
    {
      "metadata": {},
      "cell_type": "markdown",
      "source": "# &nbsp;\n<font size=\"6\" color=\"#00A0B2\"  face=\"verdana\"> <B>Concepts</B></font>\n## Import Files to Jupyter\n[![view video](https://iajupyterprodblobs.blob.core.windows.net/imagecontainer/common/play_video.png)]( http://edxinteractivepage.blob.core.windows.net/edxpages/f7cff1a7-5601-48a1-95a6-fd1fdfabd20e.html?details=[{\"src\":\"http://jupyternootbookwams.streaming.mediaservices.windows.net/850e52a7-2082-4cb7-926f-54bf2527cee0/Unit2_Section4.1a-Import_Files_to_Jupyter.ism/manifest\",\"type\":\"application/vnd.ms-sstr+xml\"}],[{\"src\":\"http://jupyternootbookwams.streaming.mediaservices.windows.net/850e52a7-2082-4cb7-926f-54bf2527cee0/Unit2_Section4.1a-Import_Files_to_Jupyter.vtt\",\"srclang\":\"en\",\"kind\":\"subtitles\",\"label\":\"english\"}])\n### curl imports files to Jupyter session from a web address\nbelow is a code using curl to import poem1.txt, the code is in a command line interface syntax\n\n>#### `!curl https://raw.githubusercontent.com/MicrosoftLearning/intropython/master/poem1.txt -o poem1.txt`  \n\nThe table explains each element of the  command above  \n\n| code | meaning |\n|-----|---|\n| **`!`** | runs command interface supporting **curl** | \n| **`curl`** | enables **curl** that can download files |  \n| **`https://raw.githubusercontent.com/...`** | is the address for data file to import |  \n| **`-o`** | tells **`curl`** write data to a file |  \n| ** *`poem1.txt`* ** | name **`curl`** will give the file  |\n"
    },
    {
      "metadata": {},
      "cell_type": "markdown",
      "source": "# &nbsp;\n<font size=\"6\" color=\"#00A0B2\"  face=\"verdana\"> <B>Examples</B></font>"
    },
    {
      "metadata": {
        "trusted": true
      },
      "cell_type": "code",
      "source": "# [ ] review and run example\n!curl https://raw.githubusercontent.com/MicrosoftLearning/intropython/master/poem1.txt -o poem1.txt\n",
      "execution_count": null,
      "outputs": []
    },
    {
      "metadata": {},
      "cell_type": "markdown",
      "source": "# &nbsp;\n<font size=\"6\" color=\"#00A0B2\"  face=\"verdana\"> <B>Concepts</B></font>\n## Opening a Local File in read mode\n>```python\npoem_file = open('poem1.txt', 'r') \n```  \n[![view video](https://iajupyterprodblobs.blob.core.windows.net/imagecontainer/common/play_video.png)]( http://edxinteractivepage.blob.core.windows.net/edxpages/f7cff1a7-5601-48a1-95a6-fd1fdfabd20e.html?details=[{\"src\":\"http://jupyternootbookwams.streaming.mediaservices.windows.net/07e5f863-e416-4534-a45c-df50d0d3df33/Unit2_Section4.1b-Opening_Files_Read_Mode.ism/manifest\",\"type\":\"application/vnd.ms-sstr+xml\"}],[{\"src\":\"http://jupyternootbookwams.streaming.mediaservices.windows.net/07e5f863-e416-4534-a45c-df50d0d3df33/Unit2_Section4.1b-Opening_Files_Read_Mode.vtt\",\"srclang\":\"en\",\"kind\":\"subtitles\",\"label\":\"english\"}])\n### Read  mode &nbsp; `'r'`\n| MODE    |  Description  |\n|:-------:|:--------------|\n| **'r'**  | **read only mode** |\n| 'w'  | write - overwrites file with same name |\n| 'r+' | read and write mode |\n| 'a'  | opens for appending to end of file |\n\n### `open()` creates an object that can be addressed in python code"
    },
    {
      "metadata": {},
      "cell_type": "markdown",
      "source": "### &nbsp;\n<font size=\"6\" color=\"#00A0B2\"  face=\"verdana\"> <B>Examples</B></font>"
    },
    {
      "metadata": {
        "trusted": true
      },
      "cell_type": "code",
      "source": "# [ ]Run to open the file in memory as poem_file\npoem_file = open('poem1.txt', 'r')",
      "execution_count": null,
      "outputs": []
    },
    {
      "metadata": {
        "trusted": true
      },
      "cell_type": "code",
      "source": "# [ ] run and review code to test if open worked \n# should display name='poem1.txt' and no errors\npoem_file",
      "execution_count": null,
      "outputs": []
    },
    {
      "metadata": {
        "collapsed": true
      },
      "cell_type": "markdown",
      "source": "# &nbsp;\n<font size=\"6\" color=\"#B24C00\"  face=\"verdana\"> <B>Task 1</B></font>\n\n## import and open a local file in read mode\n1. **Import a list of cities using curl**  \n  a. git the list from https://raw.githubusercontent.com/MicrosoftLearning/intropython/master/cities  \n  b. name the list cities.txt  \n2. **open cities.txt in read mode using a variable = cities_file**  \n3. **test that cities_file opened cities.txt with a print statement**  "
    },
    {
      "metadata": {
        "trusted": true
      },
      "cell_type": "code",
      "source": "# [ ] import cities.txt\n!curl https://raw.githubusercontent.com/MicrosoftLearning/intropython/master/cities -o cities.txt\n",
      "execution_count": null,
      "outputs": []
    },
    {
      "metadata": {
        "trusted": true
      },
      "cell_type": "code",
      "source": "# [ ] import cities.txt\n!curl https://raw.githubusercontent.com/MicrosoftLearning/intropython/master/cities -o cities.txt\n\n# [ ] open cities.txt as cities_file\n# [ ] test cities.txt was opened \n\ncities_file = open('cities.txt', 'r')\ncities_file",
      "execution_count": null,
      "outputs": []
    },
    {
      "metadata": {},
      "cell_type": "markdown",
      "source": "# &nbsp;\n<font size=\"6\" color=\"#00A0B2\"  face=\"verdana\"> <B>Concepts</B></font>  \n\n## Read a file using `.read()`\n[![view video](https://iajupyterprodblobs.blob.core.windows.net/imagecontainer/common/play_video.png)]( http://edxinteractivepage.blob.core.windows.net/edxpages/f7cff1a7-5601-48a1-95a6-fd1fdfabd20e.html?details=[{\"src\":\"http://jupyternootbookwams.streaming.mediaservices.windows.net/c37a03df-7d95-4339-8fec-8f199b747a08/Unit2_Section4.1c-Reading_Files.ism/manifest\",\"type\":\"application/vnd.ms-sstr+xml\"}],[{\"src\":\"http://jupyternootbookwams.streaming.mediaservices.windows.net/c37a03df-7d95-4339-8fec-8f199b747a08/Unit2_Section4.1c-Reading_Files.vtt\",\"srclang\":\"en\",\"kind\":\"subtitles\",\"label\":\"english\"}])\n### reading text\n```python\npoem_contents = poem_file.read()\n```\n### `.read()` loads the content of the file into memory as a string, including formatting such as new line (`\\n`)"
    },
    {
      "metadata": {},
      "cell_type": "markdown",
      "source": "# &nbsp;\n<font size=\"6\" color=\"#00A0B2\"  face=\"verdana\"> <B>Examples</B></font>\n### examples expect that the cells that import and open of poem1.txt has been run without a read()\nRun the cells that import and open poem1.txt"
    },
    {
      "metadata": {
        "trusted": true
      },
      "cell_type": "code",
      "source": "# [ ] review and run example\npoem_contents = poem_file.read()",
      "execution_count": null,
      "outputs": []
    },
    {
      "metadata": {
        "trusted": true
      },
      "cell_type": "code",
      "source": "# [ ] review and run example\n# shows the file as a string with formatting characters such as \"\\n\", output should be non-blank\npoem_contents",
      "execution_count": null,
      "outputs": []
    },
    {
      "metadata": {
        "trusted": true
      },
      "cell_type": "code",
      "source": "# [ ] review and run example\n# since .read() loaded the file as a string it can be printed\nprint(poem_contents)",
      "execution_count": null,
      "outputs": []
    },
    {
      "metadata": {
        "collapsed": true
      },
      "cell_type": "markdown",
      "source": "# &nbsp;\n<font size=\"6\" color=\"#B24C00\"  face=\"verdana\"> <B>Task 2</B></font>  \n## read a file\n### Read the file cities.text that was imported in task 1\n1. **import cities.txt and open**  \n  a. ensure the code was created and run in **task 1** to import cities.txt  \n  b. create and run code to re-open cities.txt as cities_file  \n2. **read() cities_file into a variable called cities**\n3. Test the read() by displaying the string contained in cities\n4. Test the read() by printing the cities string"
    },
    {
      "metadata": {
        "trusted": true
      },
      "cell_type": "code",
      "source": "# [ ] after import and open of cities.txt in task 1\n# [ ] read cities_file as cities\n# [ ] display the string: cities\ncities = cities_file.read()\n\ncities",
      "execution_count": null,
      "outputs": []
    },
    {
      "metadata": {
        "trusted": true
      },
      "cell_type": "code",
      "source": "# [ ] print the string: cities\n\nprint(cities)",
      "execution_count": null,
      "outputs": []
    },
    {
      "metadata": {
        "collapsed": true
      },
      "cell_type": "markdown",
      "source": "# &nbsp;\n<font size=\"6\" color=\"#00A0B2\"  face=\"verdana\"> <B>Concepts</B></font>  \n\n## reading a file with `.read(n)` where n = number of characters to read\n[![view video](https://iajupyterprodblobs.blob.core.windows.net/imagecontainer/common/play_video.png)]( http://edxinteractivepage.blob.core.windows.net/edxpages/f7cff1a7-5601-48a1-95a6-fd1fdfabd20e.html?details=[{\"src\":\"http://jupyternootbookwams.streaming.mediaservices.windows.net/9960a973-339b-40e1-b5b3-1f7db661934e/Unit2_Section4.1d-Reading_Number_of_Characters.ism/manifest\",\"type\":\"application/vnd.ms-sstr+xml\"}],[{\"src\":\"http://jupyternootbookwams.streaming.mediaservices.windows.net/9960a973-339b-40e1-b5b3-1f7db661934e/Unit2_Section4.1d-Reading_Number_of_Characters.vtt\",\"srclang\":\"en\",\"kind\":\"subtitles\",\"label\":\"english\"}])\n### each time `poem_file.read(10)` runs, the next 10 characters are read.\n\n> **Note:** if .read(10) result is = '' &nbsp;(or empty string with no characters), it is likely that the end of the file has been reached. Perform a fresh **.open()** to reset read() to the beginning of the file."
    },
    {
      "metadata": {},
      "cell_type": "markdown",
      "source": "### &nbsp;\n<font size=\"6\" color=\"#00A0B2\"  face=\"verdana\"> <B>Examples</B></font>\n### examples expect that the cells that import and open of poem1.txt has been run without a read()\nRun the cell at the top of the notebook to ** import poem1.txt**  \neach line is a different approach to reading and displaying 10 characters of the poem"
    },
    {
      "metadata": {
        "trusted": true
      },
      "cell_type": "code",
      "source": "# [ ] review and run example to read poem1.txt 10 characters at a time\npoem_file = open('poem1.txt', 'r')\npoem_10char = poem_file.read(10)\nprint(poem_10char)\npoem_10char",
      "execution_count": null,
      "outputs": []
    },
    {
      "metadata": {
        "trusted": true
      },
      "cell_type": "code",
      "source": "# [ ] review and run example, + 10 more characters\n# reads and displays without storing in a variable\npoem_file.read(10)",
      "execution_count": null,
      "outputs": []
    },
    {
      "metadata": {
        "trusted": true
      },
      "cell_type": "code",
      "source": "# [ ] review and run example, + 10 more characters\n# reads and stores in variable poem_parts\npoem_parts = poem_file.read(10)\nprint(poem_parts)",
      "execution_count": null,
      "outputs": []
    },
    {
      "metadata": {
        "trusted": true
      },
      "cell_type": "code",
      "source": "# [ ] REPEATEDLY RUN this cell,  + 5 more characters each time run are appended using string addition\n# [ ]  consider why no additional text displays after multiple runs\npoem_parts += poem_file.read(5)\nprint(poem_parts)\n",
      "execution_count": null,
      "outputs": []
    },
    {
      "metadata": {
        "collapsed": true
      },
      "cell_type": "markdown",
      "source": "# &nbsp;\n<font size=\"6\" color=\"#B24C00\"  face=\"verdana\"> <B>Task 3</B></font>  \n## digits of pi  \n### read a set number of digits with .read(n)\n### import, open, read, print\n1. import digits_of_pi.txt located at https://raw.githubusercontent.com/MicrosoftLearning/intropython/master/digits_of_pi  \n2. open as **digits_of_pi_text** \n3. read()the first 4 characters of digits_of_pi_text into a variable called pi_digits  \n4. print pi_digits  \n5. add to pi_digits string with string addition  \n  a. add next 4 characters from digits_of_pi obtained from read()  \n  b. run the cell multiple times to get more digits of *pi*  "
    },
    {
      "metadata": {
        "trusted": true
      },
      "cell_type": "code",
      "source": "# [ ] digits of pi\n# 1. import digits_of_pi.txt\n!curl https://raw.githubusercontent.com/MicrosoftLearning/intropython/master/digits_of_pi -o digits_of_pi.txt\n\n",
      "execution_count": null,
      "outputs": []
    },
    {
      "metadata": {
        "trusted": true
      },
      "cell_type": "code",
      "source": "# [ ] digits of pi\n# 2. open as digits_of_pi_text \n# 3. read() 4 char of digits_of_pi_text to pi_digits variable \n# 4. print pi_digits  \n\ndigits_of_pi_text = open('digits_of_pi.txt', 'r')\n\npi_digits = digits_of_pi_text.read(4)\nprint(pi_digits)",
      "execution_count": null,
      "outputs": []
    },
    {
      "metadata": {
        "trusted": true
      },
      "cell_type": "code",
      "source": "# [ ] digits of pi\n# 5. add to pi_digits string with string addition  \n#   a. add next 4 characters from digits_of_pi obtained from read()  \n#   b. run the cell multiple times to get more digits of *pi*\n\npi_digits += digits_of_pi_text.read(4)\nprint(pi_digits)",
      "execution_count": null,
      "outputs": []
    },
    {
      "metadata": {},
      "cell_type": "markdown",
      "source": "# &nbsp;\n<font size=\"6\" color=\"#00A0B2\"  face=\"verdana\"> <B>Concept</B></font>\n## .read() returns a string \n### These strings can be manipulated just like any other string\n[![view video](https://iajupyterprodblobs.blob.core.windows.net/imagecontainer/common/play_video.png)]( http://edxinteractivepage.blob.core.windows.net/edxpages/f7cff1a7-5601-48a1-95a6-fd1fdfabd20e.html?details=[{\"src\":\"http://jupyternootbookwams.streaming.mediaservices.windows.net/f7fb0136-24a3-4a0e-aff2-b1abc2f83029/Unit2_Section4.1e-Read_Returns_a_String.ism/manifest\",\"type\":\"application/vnd.ms-sstr+xml\"}],[{\"src\":\"http://jupyternootbookwams.streaming.mediaservices.windows.net/f7fb0136-24a3-4a0e-aff2-b1abc2f83029/Unit2_Section4.1e-Read_Returns_a_String.vtt\",\"srclang\":\"en\",\"kind\":\"subtitles\",\"label\":\"english\"}])\n### Boolean tests such as:\n- .upper()  \n- .title() \n- string slices, e.g.- `cities[3:9]`  \n- etc..  \n\n### and string methods can be performed such as:\n- .isdigit()  \n- .isalpha()  \n- etc..."
    },
    {
      "metadata": {},
      "cell_type": "markdown",
      "source": "# &nbsp;\n<font size=\"6\" color=\"#00A0B2\"  face=\"verdana\"> <B>Examples</B></font>  \n### examples expect that the cells that import  has been run  \nit may be necessary to run the cell to **import poem1.txt** at top of notebook"
    },
    {
      "metadata": {
        "trusted": true
      },
      "cell_type": "code",
      "source": "# [ ] review and run example\npoem_file = open('poem1.txt', 'r')\npoem_part = poem_file.read(15).upper()\nprint(poem_part)",
      "execution_count": null,
      "outputs": []
    },
    {
      "metadata": {
        "trusted": true
      },
      "cell_type": "code",
      "source": "# [ ] review and run example\npoem_part = poem_file.read(6).title()\nprint(poem_part)",
      "execution_count": null,
      "outputs": []
    },
    {
      "metadata": {
        "trusted": true
      },
      "cell_type": "code",
      "source": "# [ ] review and run example\npoem_part = poem_file.read(6)\nprint(poem_part)\nprint(poem_part.isalpha(), \"isalpha() because of `\\\\n`\")\npoem_part",
      "execution_count": null,
      "outputs": []
    },
    {
      "metadata": {
        "trusted": true
      },
      "cell_type": "code",
      "source": "# [ ] review and run example\npoem_file = open('poem1.txt', 'r')\npoem_text = poem_file.read()\nprint(poem_text[8:26])",
      "execution_count": null,
      "outputs": []
    },
    {
      "metadata": {},
      "cell_type": "markdown",
      "source": "# &nbsp;\n<font size=\"6\" color=\"#B24C00\"  face=\"verdana\"> <B>Task 4</B></font>\n## City Initials\n### Read the file cities.text that was imported in task 1\n1. ensure the code was created and run in **task 1** to import cities.txt  \n2. create and run code to re-open cities.txt as cities_file  \n3. **`read()`** cities_file into a variable called cities  \n4. iterate through the characters in cities \n  a. test if .isupper(), if True append the character to a string variable: initials\n  c. else if (elif) character is \"\\n\", if True append the \"\\n\" to initials  \n5. print initials"
    },
    {
      "metadata": {
        "trusted": true
      },
      "cell_type": "code",
      "source": "# [ ] import cities.txt\n!curl https://raw.githubusercontent.com/MicrosoftLearning/intropython/master/cities -o cities.txt",
      "execution_count": 1,
      "outputs": [
        {
          "output_type": "stream",
          "text": "  % Total    % Received % Xferd  Average Speed   Time    Time     Time  Current\n                                 Dload  Upload   Total   Spent    Left  Speed\n100    56  100    56    0     0    416      0 --:--:-- --:--:-- --:--:--   427\n",
          "name": "stdout"
        }
      ]
    },
    {
      "metadata": {
        "trusted": true
      },
      "cell_type": "code",
      "source": "# [ ] open cities.txt as cities_file\n# [ ] test cities.txt was opened \n\ncities_file = open('cities.txt', 'r')\ncities_file",
      "execution_count": 2,
      "outputs": [
        {
          "output_type": "execute_result",
          "execution_count": 2,
          "data": {
            "text/plain": "<_io.TextIOWrapper name='cities.txt' mode='r' encoding='UTF-8'>"
          },
          "metadata": {}
        }
      ]
    },
    {
      "metadata": {
        "trusted": true
      },
      "cell_type": "code",
      "source": "# [ ] compelete the task\ncities = cities_file.read()\ninitials = \"\"\n\nprint(cities)",
      "execution_count": 3,
      "outputs": [
        {
          "output_type": "stream",
          "text": "Beijing\nCairo\nLondon\nNairobi\nNew York City\nSydney\nTokyo\n\n",
          "name": "stdout"
        }
      ]
    },
    {
      "metadata": {
        "trusted": true
      },
      "cell_type": "code",
      "source": "\nfor letter in cities:\n    if letter.isupper():\n        initials += letter\n    elif letter == \"\\n\":\n        initials += \"\\n\"\n        \nprint(initials)",
      "execution_count": 4,
      "outputs": [
        {
          "output_type": "stream",
          "text": "B\nC\nL\nN\nNYC\nS\nT\n\n",
          "name": "stdout"
        }
      ]
    },
    {
      "metadata": {
        "collapsed": true
      },
      "cell_type": "markdown",
      "source": "[Terms of use](http://go.microsoft.com/fwlink/?LinkID=206977) &nbsp; [Privacy & cookies](https://go.microsoft.com/fwlink/?LinkId=521839) &nbsp; © 2017 Microsoft"
    }
  ],
  "metadata": {
    "anaconda-cloud": {},
    "kernelspec": {
      "name": "python3",
      "display_name": "Python 3",
      "language": "python"
    },
    "language_info": {
      "mimetype": "text/x-python",
      "nbconvert_exporter": "python",
      "name": "python",
      "pygments_lexer": "ipython3",
      "version": "3.5.4",
      "file_extension": ".py",
      "codemirror_mode": {
        "version": 3,
        "name": "ipython"
      }
    }
  },
  "nbformat": 4,
  "nbformat_minor": 1
}