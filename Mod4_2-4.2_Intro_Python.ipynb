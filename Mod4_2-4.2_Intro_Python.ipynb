{
  "cells": [
    {
      "metadata": {},
      "cell_type": "markdown",
      "source": "# 2-4.2 Intro Python\n## Working with Files\n4.1 File import in Jupyter Notebooks  \n4.1 File **`open()`** and **`.read()`**  \n4.2 **File Read as a list with `.readlines()`**  \n4.2 **File Closing to free resources with `.close()`**  \n4.3 Remove characters using **`.strip()`**  \n4.3 File Read a line at a time with **`.readline()`**   \n4.4 File **`.write()`**  with **`.seek()`**  \n4.4 File append mode \n\n----- \n\n><font size=\"5\" color=\"#00A0B2\"  face=\"verdana\"> <B>Student will be able to</B></font>  \n4.1 Import files in Jupyter Notebooks using the curl command  \n4.1 **`open()`** and **`.read()`** local files in memory   \n4.1 **`.read(`)** a specific number of characters  \n4.2 **Use `.readlines()` to read text from files as a list of lines**  \n4.2 **Use `.close` to free system resources**  \n4.3 Use **`.readline()`** to read data from file a line at a time  \n4.3 Use **`.strip()`** to remove new line characters  \n4.4 **`.write()`** data to a new local file\n4.4 Use **`.seek()`** to set file read or write location  \n4.4 Use file append mode"
    },
    {
      "metadata": {},
      "cell_type": "markdown",
      "source": "# &nbsp;\n<font size=\"6\" color=\"#00A0B2\"  face=\"verdana\"> <B>Concepts</B></font>\n## `.readlines()`\n[![view video](https://iajupyterprodblobs.blob.core.windows.net/imagecontainer/common/play_video.png)]( http://edxinteractivepage.blob.core.windows.net/edxpages/f7cff1a7-5601-48a1-95a6-fd1fdfabd20e.html?details=[{\"src\":\"http://jupyternootbookwams.streaming.mediaservices.windows.net/0cd43d02-5eac-40b5-ba2d-97f078415ddd/Unit2_Section4.2a-Readlines-Open_Text_as_List.ism/manifest\",\"type\":\"application/vnd.ms-sstr+xml\"}],[{\"src\":\"http://jupyternootbookwams.streaming.mediaservices.windows.net/0cd43d02-5eac-40b5-ba2d-97f078415ddd/Unit2_Section4.2a-Readlines-Open_Text_as_List.vtt\",\"srclang\":\"en\",\"kind\":\"subtitles\",\"label\":\"english\"}])\n\n### File read as a list with .readlines() \nconverts the lines of a file into a **list** of strings\n\n```python\npoem_lines = poem1.readlines()\n```"
    },
    {
      "metadata": {},
      "cell_type": "markdown",
      "source": "# &nbsp;\n<font size=\"6\" color=\"#00A0B2\"  face=\"verdana\"> <B>Examples</B></font>"
    },
    {
      "metadata": {
        "scrolled": false,
        "trusted": true
      },
      "cell_type": "code",
      "source": "# [ ] Run to download file to notebook\n!curl https://raw.githubusercontent.com/MicrosoftLearning/intropython/master/poem1.txt -o poem1.txt",
      "execution_count": 1,
      "outputs": [
        {
          "output_type": "stream",
          "text": "  % Total    % Received % Xferd  Average Speed   Time    Time     Time  Current\n                                 Dload  Upload   Total   Spent    Left  Speed\n100    56  100    56    0     0    224      0 --:--:-- --:--:-- --:--:--   226\n",
          "name": "stdout"
        }
      ]
    },
    {
      "metadata": {
        "trusted": true
      },
      "cell_type": "code",
      "source": "# [ ] review and run example\n# open address to file\npoem1 = open('poem1.txt', 'r')\n\n# readlines and print as a list\npoem_lines = poem1.readlines()\npoem_lines",
      "execution_count": 2,
      "outputs": [
        {
          "output_type": "execute_result",
          "execution_count": 2,
          "data": {
            "text/plain": "['Loops I repeat\\n',\n 'loops\\n',\n 'loops\\n',\n 'loops\\n',\n 'I repeat\\n',\n 'until I\\n',\n 'break\\n']"
          },
          "metadata": {}
        }
      ]
    },
    {
      "metadata": {
        "trusted": true
      },
      "cell_type": "code",
      "source": "# [ ] review and run example\nfor line in poem_lines:\n    print(line)",
      "execution_count": 3,
      "outputs": [
        {
          "output_type": "stream",
          "text": "Loops I repeat\n\nloops\n\nloops\n\nloops\n\nI repeat\n\nuntil I\n\nbreak\n\n",
          "name": "stdout"
        }
      ]
    },
    {
      "metadata": {
        "collapsed": true
      },
      "cell_type": "markdown",
      "source": "# &nbsp;\n<font size=\"6\" color=\"#B24C00\"  face=\"verdana\"> <B>Task 1</B></font>\n\n## `.readlines()` \n### open the cities file as a list\n1. **Import a list of cities using curl**  \n  a. git the list from https://raw.githubusercontent.com/MicrosoftLearning/intropython/master/cities  \n  b. name the list cities.txt  \n2. **Open cities.txt in read mode using a variable: cities_file**  \n3. **Read cities_file as a list variable: cities_lines using `.readlines()`**\n4. **Print each line of cities_lines by iterating the list**"
    },
    {
      "metadata": {
        "trusted": true
      },
      "cell_type": "code",
      "source": "# [ ] import cities\n!curl https://raw.githubusercontent.com/MicrosoftLearning/intropython/master/cities -o cities.txt\n",
      "execution_count": 6,
      "outputs": [
        {
          "output_type": "stream",
          "text": "  % Total    % Received % Xferd  Average Speed   Time    Time     Time  Current\n                                 Dload  Upload   Total   Spent    Left  Speed\n100    56  100    56    0     0    324      0 --:--:-- --:--:-- --:--:--   333\n",
          "name": "stdout"
        }
      ]
    },
    {
      "metadata": {
        "trusted": true
      },
      "cell_type": "code",
      "source": "# [ ] open cities.txt as cities_file and read the file as a list: cities_lines\n\ncities_file = open('cities.txt', 'r')\n\ncities_lines = cities_file.readlines()",
      "execution_count": 8,
      "outputs": []
    },
    {
      "metadata": {
        "trusted": true
      },
      "cell_type": "code",
      "source": "# [ ] use list iteration to print each city in cities_lines list\n\nfor line in cities_lines:\n    print(line)",
      "execution_count": 9,
      "outputs": [
        {
          "output_type": "stream",
          "text": "Beijing\n\nCairo\n\nLondon\n\nNairobi\n\nNew York City\n\nSydney\n\nTokyo\n\n",
          "name": "stdout"
        }
      ]
    },
    {
      "metadata": {},
      "cell_type": "markdown",
      "source": "# &nbsp;\n<font size=\"6\" color=\"#00A0B2\"  face=\"verdana\"> <B>Concepts</B></font>  \n\n## working with lists from .readlines()\n[![view video](https://iajupyterprodblobs.blob.core.windows.net/imagecontainer/common/play_video.png)]( http://edxinteractivepage.blob.core.windows.net/edxpages/f7cff1a7-5601-48a1-95a6-fd1fdfabd20e.html?details=[{\"src\":\"http://jupyternootbookwams.streaming.mediaservices.windows.net/ed9b1523-6d69-462c-b18c-01e5423c1e52/Unit2_Section4.2b-Readlines-Remove_Characters.ism/manifest\",\"type\":\"application/vnd.ms-sstr+xml\"}],[{\"src\":\"http://jupyternootbookwams.streaming.mediaservices.windows.net/ed9b1523-6d69-462c-b18c-01e5423c1e52/Unit2_Section4.2b-Readlines-Remove_Characters.vtt\",\"srclang\":\"en\",\"kind\":\"subtitles\",\"label\":\"english\"}])\n###  remove newline characters from lists created using .readlines()\n```python\nfor line in poem_lines:\n    poem_lines[count] = line[:-1]\n    count += 1\n```\n**`line[:-1]`** sets the end point at the last character of the string, the result is the **`'\\n'`** (newline) character is omitted\n\n| list item | list item contents | \n|-----|-----|\n| poem_lines[0] | 'Loops I repeat\\n' |  \n| poem_lines[1] | 'loops\\n' |  \n| poem_lines[2] | 'loops\\n' | \n| poem_lines[3] | 'I repeat\\n' | \n|... | ... | "
    },
    {
      "metadata": {},
      "cell_type": "markdown",
      "source": "### &nbsp;\n<font size=\"6\" color=\"#00A0B2\"  face=\"verdana\"> <B>Examples</B></font>  \nThis example assumes that poem1.txt has been imported in 1st example above"
    },
    {
      "metadata": {
        "trusted": true
      },
      "cell_type": "code",
      "source": "# [ ] review and run examples\n# [ ] re-open file and read file as a list of strings\npoem1 = open('poem1.txt', 'r')\npoem_lines = poem1.readlines()\nprint(poem_lines)",
      "execution_count": 10,
      "outputs": [
        {
          "output_type": "stream",
          "text": "['Loops I repeat\\n', 'loops\\n', 'loops\\n', 'loops\\n', 'I repeat\\n', 'until I\\n', 'break\\n']\n",
          "name": "stdout"
        }
      ]
    },
    {
      "metadata": {
        "trusted": true
      },
      "cell_type": "code",
      "source": "# [ ] print each list item \nfor line in poem_lines:\n    print(line)",
      "execution_count": 11,
      "outputs": [
        {
          "output_type": "stream",
          "text": "Loops I repeat\n\nloops\n\nloops\n\nloops\n\nI repeat\n\nuntil I\n\nbreak\n\n",
          "name": "stdout"
        }
      ]
    },
    {
      "metadata": {
        "trusted": true
      },
      "cell_type": "code",
      "source": "# [ ] remove the last character of each list item, which is \"\\n\"\ncount = 0\n\nfor line in poem_lines:\n    poem_lines[count] = line[:-1]\n    count += 1\n\nprint(poem_lines)",
      "execution_count": 12,
      "outputs": [
        {
          "output_type": "stream",
          "text": "['Loops I repeat', 'loops', 'loops', 'loops', 'I repeat', 'until I', 'break']\n",
          "name": "stdout"
        }
      ]
    },
    {
      "metadata": {
        "trusted": true
      },
      "cell_type": "code",
      "source": "# [ ] print each list item \nfor line in poem_lines:\n    print(line)",
      "execution_count": 13,
      "outputs": [
        {
          "output_type": "stream",
          "text": "Loops I repeat\nloops\nloops\nloops\nI repeat\nuntil I\nbreak\n",
          "name": "stdout"
        }
      ]
    },
    {
      "metadata": {
        "collapsed": true
      },
      "cell_type": "markdown",
      "source": "# &nbsp;\n<font size=\"6\" color=\"#B24C00\"  face=\"verdana\"> <B>Task 2</B></font>\n\n## remove newline characters from cities lists created using .readlines()\n- This task assumes that cites.txt has been imported in Task 1 above\n- In task 1, the cities were printed with a blank line between each city - this task removes the blank lines\n"
    },
    {
      "metadata": {
        "trusted": true
      },
      "cell_type": "code",
      "source": "# [ ] re-open file and read file as a list of strings \n# [ ] open cities.txt as cities_file and read the file as a list: cities_lines\nprint(cities_lines)\n",
      "execution_count": 14,
      "outputs": [
        {
          "output_type": "stream",
          "text": "['Beijing\\n', 'Cairo\\n', 'London\\n', 'Nairobi\\n', 'New York City\\n', 'Sydney\\n', 'Tokyo\\n']\n",
          "name": "stdout"
        }
      ]
    },
    {
      "metadata": {
        "trusted": true
      },
      "cell_type": "code",
      "source": "# [ ] remove the last character, \"\\n\", of each cities_lines list item \ncount = 0\n\nfor line in cities_lines:\n    cities_lines[count] = line[:-1]\n    count += 1\n\nprint(cities_lines)\n",
      "execution_count": 15,
      "outputs": [
        {
          "output_type": "stream",
          "text": "['Beijing', 'Cairo', 'London', 'Nairobi', 'New York City', 'Sydney', 'Tokyo']\n",
          "name": "stdout"
        }
      ]
    },
    {
      "metadata": {
        "trusted": true
      },
      "cell_type": "code",
      "source": "# [ ] print each list item in cities_lines\nfor line in cities_lines:\n    print(line)",
      "execution_count": 16,
      "outputs": [
        {
          "output_type": "stream",
          "text": "Beijing\nCairo\nLondon\nNairobi\nNew York City\nSydney\nTokyo\n",
          "name": "stdout"
        }
      ]
    },
    {
      "metadata": {},
      "cell_type": "markdown",
      "source": "# &nbsp;\n<font size=\"6\" color=\"#00A0B2\"  face=\"verdana\"> <B>Concepts</B></font>  \n\n## `.close()`\n[![view video](https://iajupyterprodblobs.blob.core.windows.net/imagecontainer/common/play_video.png)]( http://edxinteractivepage.blob.core.windows.net/edxpages/f7cff1a7-5601-48a1-95a6-fd1fdfabd20e.html?details=[{\"src\":\"http://jupyternootbookwams.streaming.mediaservices.windows.net/50a925e8-25e2-4bfa-936b-e2d181af36f0/Unit2_Section4.2c-File_Close_Method.ism/manifest\",\"type\":\"application/vnd.ms-sstr+xml\"}],[{\"src\":\"http://jupyternootbookwams.streaming.mediaservices.windows.net/50a925e8-25e2-4bfa-936b-e2d181af36f0/Unit2_Section4.2c-File_Close_Method.vtt\",\"srclang\":\"en\",\"kind\":\"subtitles\",\"label\":\"english\"}])\n### File .close() method frees resources \nflie.close() method removes the reference created from file open() function \n\n```python  \npoem1.close()\n```  "
    },
    {
      "metadata": {},
      "cell_type": "markdown",
      "source": "# &nbsp;\n<font size=\"6\" color=\"#00A0B2\"  face=\"verdana\"> <B>Examples</B></font>  \nThis example assumes that poem1.txt has been imported in 1st example above"
    },
    {
      "metadata": {
        "trusted": true
      },
      "cell_type": "code",
      "source": "# [ ] review and run example: open and readlines of poem1.txt\npoem1 = open('poem1.txt', 'r')",
      "execution_count": 17,
      "outputs": []
    },
    {
      "metadata": {
        "trusted": true
      },
      "cell_type": "code",
      "source": "# [ ] review and run example: readlines breaks if file is no longer open\n\npoem_lines = poem1.readlines()\nprint(poem_lines)",
      "execution_count": 18,
      "outputs": [
        {
          "output_type": "stream",
          "text": "['Loops I repeat\\n', 'loops\\n', 'loops\\n', 'loops\\n', 'I repeat\\n', 'until I\\n', 'break\\n']\n",
          "name": "stdout"
        }
      ]
    },
    {
      "metadata": {
        "trusted": true
      },
      "cell_type": "code",
      "source": "# [ ] review and run example: Close poem1\npoem1.close()\n",
      "execution_count": 19,
      "outputs": []
    },
    {
      "metadata": {
        "collapsed": true
      },
      "cell_type": "markdown",
      "source": "# &nbsp;\n<font size=\"6\" color=\"#B24C00\"  face=\"verdana\"> <B>Task 3</B></font>  \n## File .close() \nwrite each item in it's own cell  \n- open cities.txt as cities_file  \n- read the lines as cities_lines\n- print the cities that **start with the letter \"D\" or greater**  \n- close cities_file\n- test that file is closed"
    },
    {
      "metadata": {
        "trusted": true
      },
      "cell_type": "code",
      "source": "# [ ] open cities.txt as cities_file\n\ncities_file = open('cities.txt', 'r')\ncities_file",
      "execution_count": 20,
      "outputs": [
        {
          "output_type": "execute_result",
          "execution_count": 20,
          "data": {
            "text/plain": "<_io.TextIOWrapper name='cities.txt' mode='r' encoding='UTF-8'>"
          },
          "metadata": {}
        }
      ]
    },
    {
      "metadata": {
        "trusted": true
      },
      "cell_type": "code",
      "source": "# [ ] read the lines as cities_lines\n\ncities_lines = cities_file.readlines()\ncities_lines",
      "execution_count": 21,
      "outputs": [
        {
          "output_type": "execute_result",
          "execution_count": 21,
          "data": {
            "text/plain": "['Beijing\\n',\n 'Cairo\\n',\n 'London\\n',\n 'Nairobi\\n',\n 'New York City\\n',\n 'Sydney\\n',\n 'Tokyo\\n']"
          },
          "metadata": {}
        }
      ]
    },
    {
      "metadata": {
        "trusted": true
      },
      "cell_type": "code",
      "source": "# [ ] print the cities that start with the letter \"D\" or greater\n\nfor line in cities_lines:\n    if line[0] >= \"D\":\n        print(line)",
      "execution_count": 23,
      "outputs": [
        {
          "output_type": "stream",
          "text": "London\n\nNairobi\n\nNew York City\n\nSydney\n\nTokyo\n\n",
          "name": "stdout"
        }
      ]
    },
    {
      "metadata": {
        "trusted": true
      },
      "cell_type": "code",
      "source": "# [ ] test that file is closed\ncities_file.close()\n",
      "execution_count": 24,
      "outputs": []
    },
    {
      "metadata": {
        "trusted": false
      },
      "cell_type": "code",
      "source": "# [ ] close cities_file\n\n",
      "execution_count": null,
      "outputs": []
    },
    {
      "metadata": {
        "collapsed": true
      },
      "cell_type": "markdown",
      "source": "# &nbsp;\n<font size=\"6\" color=\"#B24C00\"  face=\"verdana\"> <B>Task 4</B></font>  \n## readlines() poem2  \nwrite each item in its own cell  \n- import https://raw.githubusercontent.com/MicrosoftLearning/intropython/master/poem2.txt as poem2.txt  \n- open poem2.txt as poem2_file in read mode\n- create a list of strings, called poem2_lines, from each line of poem2_text (use **.readlines()**)  \n- remove the newline character for each list item in poem2_lines  \n- print the poem2 lines in reverse order  "
    },
    {
      "metadata": {
        "trusted": true
      },
      "cell_type": "code",
      "source": "# [ ] import https://raw.githubusercontent.com/MicrosoftLearning/intropython/master/poem2.txt as poem2.txt\n\n!curl https://raw.githubusercontent.com/MicrosoftLearning/intropython/master/poem2.txt -o poem2.txt",
      "execution_count": 25,
      "outputs": [
        {
          "output_type": "stream",
          "text": "  % Total    % Received % Xferd  Average Speed   Time    Time     Time  Current\n                                 Dload  Upload   Total   Spent    Left  Speed\n100    57  100    57    0     0    221      0 --:--:-- --:--:-- --:--:--   223\n",
          "name": "stdout"
        }
      ]
    },
    {
      "metadata": {
        "trusted": true
      },
      "cell_type": "code",
      "source": "# [ ] open poem2.txt as poem2_text in read mode\n\npoem2_file = open('poem2.txt', 'r')",
      "execution_count": 33,
      "outputs": []
    },
    {
      "metadata": {
        "trusted": true
      },
      "cell_type": "code",
      "source": "# [ ] create a list of strings, called poem2_lines, from each line of poem2_text\n\npoem2_lines = poem2_file.readlines()\n",
      "execution_count": 34,
      "outputs": []
    },
    {
      "metadata": {
        "trusted": true
      },
      "cell_type": "code",
      "source": "# [ ] remove the newline character for each list item in poem2_lines\n\ncount = 0\n\nfor line in poem2_lines:\n    poem2_lines[count] = line[:-1]\n    count += 1\n\nprint(poem2_lines)",
      "execution_count": 35,
      "outputs": [
        {
          "output_type": "stream",
          "text": "['while True', 'I loop', 'True', 'loop', 'True', 'loop', 'not True', 'False', 'end']\n",
          "name": "stdout"
        }
      ]
    },
    {
      "metadata": {
        "trusted": true
      },
      "cell_type": "code",
      "source": "# [ ] print the poem2 lines in reverse order\npoem2_lines.reverse()\n\nprint(poem2_lines)  ",
      "execution_count": 41,
      "outputs": [
        {
          "output_type": "stream",
          "text": "['end', 'False', 'not True', 'loop', 'True', 'loop', 'True', 'I loop', 'while True']\n",
          "name": "stdout"
        }
      ]
    },
    {
      "metadata": {
        "trusted": true
      },
      "cell_type": "code",
      "source": "# could also reverse list with slicing\n\nprint(poem2_lines[::-1]) #if this cell is executed after the .reverse(), it will be in original order",
      "execution_count": 45,
      "outputs": [
        {
          "output_type": "stream",
          "text": "['while True', 'I loop', 'True', 'loop', 'True', 'loop', 'not True', 'False', 'end']\n",
          "name": "stdout"
        }
      ]
    },
    {
      "metadata": {},
      "cell_type": "markdown",
      "source": "[Terms of use](http://go.microsoft.com/fwlink/?LinkID=206977) &nbsp; [Privacy & cookies](https://go.microsoft.com/fwlink/?LinkId=521839) &nbsp; © 2017 Microsoft"
    }
  ],
  "metadata": {
    "anaconda-cloud": {},
    "kernelspec": {
      "name": "python3",
      "display_name": "Python 3",
      "language": "python"
    },
    "language_info": {
      "mimetype": "text/x-python",
      "nbconvert_exporter": "python",
      "name": "python",
      "pygments_lexer": "ipython3",
      "version": "3.5.4",
      "file_extension": ".py",
      "codemirror_mode": {
        "version": 3,
        "name": "ipython"
      }
    }
  },
  "nbformat": 4,
  "nbformat_minor": 1
}