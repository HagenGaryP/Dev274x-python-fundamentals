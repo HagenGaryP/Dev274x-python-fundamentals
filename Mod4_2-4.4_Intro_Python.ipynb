{
  "cells": [
    {
      "metadata": {},
      "cell_type": "markdown",
      "source": "# 2-4.4 Intro Python\n## Working with Files\n4.1 File import in Jupyter Notebooks  \n4.1 File **`open()`** and **`.read()`**  \n4.2 File Read as a list with **`.readlines()`**  \n4.2 File Closing to free resources with **`.close()`**  \n4.3 File Read a line at a time with **`.readline()`**  \n4.3 Remove characters using **`.strip()`**   \n4.4 **`.write()` data to a new local file**  \n4.4 **File `.write()`**  with **`.seek()`**  \n4.4 **File append**   \n\n----- \n\n><font size=\"5\" color=\"#00A0B2\"  face=\"verdana\"> <B>Student will be able to</B></font>  \n4.1 Import files in Jupyter Notebooks  \n4.1 Open and **`.read()`** local files in memory   \n4.1 **`.read()`** a specific number of characters  \n4.2 Use **`.readlines()`** to read data from file as a **list** of lines  \n4.2 Use **`.readlines()`** to read data from file as a **list** of lines   \n4.3 Use **`.readline()`** to read data from file a line at a time   \n4.3 Use **`.strip()`** to remove new line characters  \n4.4 **`.write()` data to a new local file**  \n4.4 **Use `.seek()` to set file read or write location**  \n4.4 **Use file append mode**  "
    },
    {
      "metadata": {},
      "cell_type": "markdown",
      "source": "# &nbsp;\n<font size=\"6\" color=\"#00A0B2\"  face=\"verdana\"> <B>Concepts</B></font>\n## writing to a file opened in write mode `'w' or 'w+'`\n>```python\npoem_file = open('poem.txt', 'w') \npoem_file.write(\"Hello World!\\n\")\n```  \n\n[![view video](https://iajupyterprodblobs.blob.core.windows.net/imagecontainer/common/play_video.png)]( http://edxinteractivepage.blob.core.windows.net/edxpages/f7cff1a7-5601-48a1-95a6-fd1fdfabd20e.html?details=[{\"src\":\"http://jupyternootbookwams.streaming.mediaservices.windows.net/7d6dfbf1-4af7-4324-bc36-67041c62c8f9/Unit2_Section4.4a-Writing_to_File_in_Write_Mode.ism/manifest\",\"type\":\"application/vnd.ms-sstr+xml\"}],[{\"src\":\"http://jupyternootbookwams.streaming.mediaservices.windows.net/7d6dfbf1-4af7-4324-bc36-67041c62c8f9/Unit2_Section4.4a-Writing_to_File_in_Write_Mode.vtt\",\"srclang\":\"en\",\"kind\":\"subtitles\",\"label\":\"english\"}])\n### write mode:  `'w' `  \n### write mode plus read: `'w+'`  \n#### **`'w'`** and **`'w+'`** modes will create a new file or overwrite existing files  \n**All previous data will be lost**"
    },
    {
      "metadata": {},
      "cell_type": "markdown",
      "source": "# &nbsp;\n<font size=\"6\" color=\"#00A0B2\"  face=\"verdana\"> <B>Examples</B></font>"
    },
    {
      "metadata": {
        "trusted": true
      },
      "cell_type": "code",
      "source": "# [ ] review and run example\n# - creates a new local file or overwrites the local file (makes it blank)\nnew_file = open('new_file.txt', 'w')",
      "execution_count": 1,
      "outputs": []
    },
    {
      "metadata": {
        "trusted": true
      },
      "cell_type": "code",
      "source": "# [ ] review and run example to write some text to the file\nnew_file.write(\"This is line #1 with 'w'\\nThis is line #2 with 'w'\\nThis is line #3 withn 'w'!\\n\")",
      "execution_count": 2,
      "outputs": [
        {
          "output_type": "execute_result",
          "execution_count": 2,
          "data": {
            "text/plain": "77"
          },
          "metadata": {}
        }
      ]
    },
    {
      "metadata": {
        "trusted": true
      },
      "cell_type": "code",
      "source": "# [ ] review and run example\n# - close file and re-open in read mode \n# - head pointer is at start of file\nnew_file.close()\nnew_file = open('new_file.txt', 'r')",
      "execution_count": 3,
      "outputs": []
    },
    {
      "metadata": {
        "scrolled": true,
        "trusted": true
      },
      "cell_type": "code",
      "source": "# [ ] review and run example to see what was written to the file\nnew_text = new_file.read()\nprint(new_text)\n\nnew_file.close()",
      "execution_count": 4,
      "outputs": [
        {
          "output_type": "stream",
          "text": "This is line #1 with 'w'\nThis is line #2 with 'w'\nThis is line #3 withn 'w'!\n\n",
          "name": "stdout"
        }
      ]
    },
    {
      "metadata": {},
      "cell_type": "markdown",
      "source": "#### `'w+'` means the file is in write plus read mode  \n- after any write, the pointer is at the end of text that has been written \n- to read the entire file, the pointer needs to be at the beginning of the file - see **.seek()** below to set the file pointer"
    },
    {
      "metadata": {
        "collapsed": true
      },
      "cell_type": "markdown",
      "source": "# &nbsp;\n<font size=\"6\" color=\"#B24C00\"  face=\"verdana\"> <B>Task 1</B></font>\n\n## create a local file  \n### open in 'w' mode  \n- open inner_planets.txt in write mode **'w'** to create a local file\n- write the first four planets from the sun in earth's solar system (Mercury, Venus, Earth, Mars) on separate lines\n- close the file and re-open in read mode **'r'** \n- use .read() to read the entire file contents\n- print the entire file contents"
    },
    {
      "metadata": {
        "trusted": true
      },
      "cell_type": "code",
      "source": "# [ ] open planets.txt in write mode\ninner_plannets = open('inner_plannets.txt', 'w')\n",
      "execution_count": 25,
      "outputs": []
    },
    {
      "metadata": {
        "trusted": true
      },
      "cell_type": "code",
      "source": "# [ ] write Mercury, Venus, Earth, Mars on separate lines\ninner_plannets.write(\"Mercury\\nVenus\\nEarth\\nMars\")\n",
      "execution_count": 26,
      "outputs": [
        {
          "output_type": "execute_result",
          "execution_count": 26,
          "data": {
            "text/plain": "24"
          },
          "metadata": {}
        }
      ]
    },
    {
      "metadata": {
        "trusted": true
      },
      "cell_type": "code",
      "source": "# [ ] close the file and re-open in read mode\ninner_plannets.close()\n\ninner_plannets = open('inner_plannets.txt', 'r')\n",
      "execution_count": 27,
      "outputs": []
    },
    {
      "metadata": {
        "trusted": true
      },
      "cell_type": "code",
      "source": "# [ ] use .read() to read the entire file contents\ninner_plannets.read()\n",
      "execution_count": 12,
      "outputs": [
        {
          "output_type": "execute_result",
          "execution_count": 12,
          "data": {
            "text/plain": "'Mercury\\nVenus\\nEarth\\nMars'"
          },
          "metadata": {}
        }
      ]
    },
    {
      "metadata": {
        "trusted": true
      },
      "cell_type": "code",
      "source": "# [ ] print the entire file contents and close the file\n\nhalf_plannets = inner_plannets.read()\n\nprint(half_plannets)\n",
      "execution_count": 28,
      "outputs": [
        {
          "output_type": "stream",
          "text": "Mercury\nVenus\nEarth\nMars\n",
          "name": "stdout"
        }
      ]
    },
    {
      "metadata": {},
      "cell_type": "markdown",
      "source": "# &nbsp;\n<font size=\"6\" color=\"#00A0B2\"  face=\"verdana\"> <B>Concepts</B></font>\n## using .seek(0) \n### setting the pointer to beginning of file  \n>```python\nnew_file.seek(0)\nnew_contents = new_file.read()\nprint(new_contents)\n```  \n\n[![view video](https://iajupyterprodblobs.blob.core.windows.net/imagecontainer/common/play_video.png)]( http://edxinteractivepage.blob.core.windows.net/edxpages/f7cff1a7-5601-48a1-95a6-fd1fdfabd20e.html?details=[{\"src\":\"http://jupyternootbookwams.streaming.mediaservices.windows.net/4c62275e-0df8-44f5-91a8-6e16755995aa/Unit2_Section4.4b-Using_Seek.ism/manifest\",\"type\":\"application/vnd.ms-sstr+xml\"}],[{\"src\":\"http://jupyternootbookwams.streaming.mediaservices.windows.net/4c62275e-0df8-44f5-91a8-6e16755995aa/Unit2_Section4.4b-Using_Seek.vtt\",\"srclang\":\"en\",\"kind\":\"subtitles\",\"label\":\"english\"}])\n### using .seek() to set the read/write pointer to beginning of file  \n**`new_file.seek(0)`** moves the file read\\write pointer to the start of the file "
    },
    {
      "metadata": {},
      "cell_type": "markdown",
      "source": "### &nbsp;\n<font size=\"6\" color=\"#00A0B2\"  face=\"verdana\"> <B>Examples</B></font>\n### seek() with `'w+'`"
    },
    {
      "metadata": {
        "trusted": true
      },
      "cell_type": "code",
      "source": "# [ ] review and run example\n# creates a new local file or overwrites the local file (makes it blank)\nnew_file = open('new_file.txt', 'w+')",
      "execution_count": 17,
      "outputs": []
    },
    {
      "metadata": {},
      "cell_type": "markdown",
      "source": "write plus read **`'w+'`**  \n**`'w+'`** overwrites existing files of the same name - **rendering the file blank**  \nthe file is writeable and readable"
    },
    {
      "metadata": {
        "trusted": true
      },
      "cell_type": "code",
      "source": "# [ ] review and run example to see what was written to the file \n# - 'w+' overwrites, we can read, but the file is ***BLANK***\nnew_text = new_file.read()\nprint(new_text)",
      "execution_count": 18,
      "outputs": [
        {
          "output_type": "stream",
          "text": "\n",
          "name": "stdout"
        }
      ]
    },
    {
      "metadata": {
        "trusted": true
      },
      "cell_type": "code",
      "source": "# [ ] review and run - write to the blank file\nnew_file.write(\"This is line #1 with 'w+'\\nThis is line #2 with 'w+'\\n\")",
      "execution_count": 19,
      "outputs": [
        {
          "output_type": "execute_result",
          "execution_count": 19,
          "data": {
            "text/plain": "52"
          },
          "metadata": {}
        }
      ]
    },
    {
      "metadata": {
        "trusted": true
      },
      "cell_type": "code",
      "source": "# [ ] review and run example - read and print (Note: the pointer is at the end of the file - result = empty string)\nnew_text = new_file.read()\n\nprint(new_text)",
      "execution_count": 20,
      "outputs": [
        {
          "output_type": "stream",
          "text": "\n",
          "name": "stdout"
        }
      ]
    },
    {
      "metadata": {},
      "cell_type": "markdown",
      "source": "## Expected: prints empty string above  \npointer was at end of file where there is nothing to read"
    },
    {
      "metadata": {},
      "cell_type": "markdown",
      "source": "### seek(0)  \nsets the pointer to the beginning of the file, enabling read() to input the entire file contents"
    },
    {
      "metadata": {
        "trusted": true
      },
      "cell_type": "code",
      "source": "# [ ] review and run example - sets pointer to beginning of file\nnew_file.seek(0)",
      "execution_count": 21,
      "outputs": [
        {
          "output_type": "execute_result",
          "execution_count": 21,
          "data": {
            "text/plain": "0"
          },
          "metadata": {}
        }
      ]
    },
    {
      "metadata": {
        "trusted": true
      },
      "cell_type": "code",
      "source": "# [ ] review and run example - now read starts from beginning of file\nnew_text = new_file.read()\nprint(new_text)\n",
      "execution_count": 22,
      "outputs": [
        {
          "output_type": "stream",
          "text": "This is line #1 with 'w+'\nThis is line #2 with 'w+'\n\n",
          "name": "stdout"
        }
      ]
    },
    {
      "metadata": {
        "trusted": true
      },
      "cell_type": "code",
      "source": "# # [ ] review and run example - clean up and close file\nnew_file.close()",
      "execution_count": 23,
      "outputs": []
    },
    {
      "metadata": {
        "collapsed": true
      },
      "cell_type": "markdown",
      "source": "# &nbsp;\n<font size=\"6\" color=\"#B24C00\"  face=\"verdana\"> <B>Task 2</B></font>\n\n## using `.seek(0)` on a local file in write plus read mode `'w+'`\n### open outer_planets.txt in 'w+' mode (write plus read) \n- open **outer_planets.txt** in write plus read mode **'w+'** \n- write four outer planets in earth's solar system (Jupiter, Saturn, Uranus, Neptune) on separate lines  \n- use .seek() to move the pointer to the start of the file\n- use .read() to read the entire file contents\n- print the entire file contents and close the file"
    },
    {
      "metadata": {
        "trusted": true
      },
      "cell_type": "code",
      "source": "# [ ] open outer_planets.txt in write mode 'w+' \nouter_plannets = open('inner_plannets.txt', 'w+')\n\n",
      "execution_count": 29,
      "outputs": []
    },
    {
      "metadata": {
        "trusted": true
      },
      "cell_type": "code",
      "source": "# [ ] write four outer planets in earth's solar system (Jupiter, Saturn, Uranus, Neptune) on separate lines\nouter_plannets.write(\"Jupiter\\nSaturn\\nUranus\\nNeptune\")\n",
      "execution_count": 30,
      "outputs": [
        {
          "output_type": "execute_result",
          "execution_count": 30,
          "data": {
            "text/plain": "29"
          },
          "metadata": {}
        }
      ]
    },
    {
      "metadata": {
        "trusted": true
      },
      "cell_type": "code",
      "source": "# [ ] use .seek() to move the pointer to the start of the file\n# [ ] use .read() to read the entire file contents\nouter_plannets.seek(0)\nprint(outer_plannets.read())",
      "execution_count": 31,
      "outputs": [
        {
          "output_type": "stream",
          "text": "Jupiter\nSaturn\nUranus\nNeptune\n",
          "name": "stdout"
        }
      ]
    },
    {
      "metadata": {
        "trusted": true
      },
      "cell_type": "code",
      "source": "# [ ] print the entire file contents and close the file\n\nouter_plannets.close()",
      "execution_count": 32,
      "outputs": []
    },
    {
      "metadata": {},
      "cell_type": "markdown",
      "source": "# &nbsp;\n<font size=\"6\" color=\"#00A0B2\"  face=\"verdana\"> <B>Concepts</B></font>\n## using .seek() *offset* and *whence* \n### setting the pointer in a file with positive *offset* values and *whence* location \n>```python\nnew_file.seek(13)\nnew_contents = new_file.read()\nprint(new_contents)\n```  \n```python\nnew_file.seek(0,2)\n```  \n\n[![view video](https://iajupyterprodblobs.blob.core.windows.net/imagecontainer/common/play_video.png)]( http://edxinteractivepage.blob.core.windows.net/edxpages/f7cff1a7-5601-48a1-95a6-fd1fdfabd20e.html?details=[{\"src\":\"http://jupyternootbookwams.streaming.mediaservices.windows.net/c2b8a760-a39d-45a2-80e1-a2b79264b120/Unit2_Section4.4c-Seek_Variations-Offset_Whence.ism/manifest\",\"type\":\"application/vnd.ms-sstr+xml\"}],[{\"src\":\"http://jupyternootbookwams.streaming.mediaservices.windows.net/c2b8a760-a39d-45a2-80e1-a2b79264b120/Unit2_Section4.4c-Seek_Variations-Offset_Whence.vtt\",\"srclang\":\"en\",\"kind\":\"subtitles\",\"label\":\"english\"}])\n### using .seek() to set the read/write pointer in a file   \n#### *offset* values and *whence* arguments\n.seek() can set the pointer to a desired index from the beginning of the file  \nthe example below moves to the character to offset 10 (the 11th character)  \n```python\nnew_file.seek(10)\n```  \n\nwhich is also written with an optional second argument, know as *whence* (\"from where\")  \n```python\nnew_file.seek(10,0)\n```  \nusing 0 for *whence* starts the *offset* from the beginning of the file\n\n>**Note:** the offset must be a positive integer in Python 3, so we cannot offset backwards from the end of the file  \n\n## `file.seek(offset, whence)`\n| whence mode | description               |  \n|:-----------:|---------------------------|\n| 0 | points to the beginning of the file |   \n| 1 | points to the current location |  \n| 2 | points to the end of the file & offset is always 0|  \n\nusing ** *whence* ** the index can be offset from either the beginning, current location or to the end of the file (where there is no offset applied)  "
    },
    {
      "metadata": {},
      "cell_type": "markdown",
      "source": "# &nbsp;\n<font size=\"6\" color=\"#00A0B2\"  face=\"verdana\"> <B>Examples</B></font>  \n### seek to a specific location"
    },
    {
      "metadata": {
        "trusted": true
      },
      "cell_type": "code",
      "source": "# [ ] review and run - create, write, read and print a file\ntips_file = open('code_tips.txt', 'w+')\ntips_file.write('-use simple function and variable names\\n-comment code\\n-organize code into functions\\n')\ntips_file.seek(0)\ntips_text = tips_file.read()\nprint(tips_text)",
      "execution_count": 33,
      "outputs": [
        {
          "output_type": "stream",
          "text": "-use simple function and variable names\n-comment code\n-organize code into functions\n\n",
          "name": "stdout"
        }
      ]
    },
    {
      "metadata": {
        "trusted": true
      },
      "cell_type": "code",
      "source": "# [ ] review and run example - setting a specific seek() index \ntips_file.seek(13)\n# now read starts from 14th character of file\ntips_text = tips_file.read()\nprint(tips_text)",
      "execution_count": 34,
      "outputs": [
        {
          "output_type": "stream",
          "text": "unction and variable names\n-comment code\n-organize code into functions\n\n",
          "name": "stdout"
        }
      ]
    },
    {
      "metadata": {
        "trusted": true
      },
      "cell_type": "code",
      "source": "# [ ] review and run example - string slicing on a read of an entire file\n# read from the start\ntips_file.seek(0)\ntips_text = tips_file.read()\n\n# slice from the 14th character to end\nprint(tips_text[13:])",
      "execution_count": 35,
      "outputs": [
        {
          "output_type": "stream",
          "text": "unction and variable names\n-comment code\n-organize code into functions\n\n",
          "name": "stdout"
        }
      ]
    },
    {
      "metadata": {},
      "cell_type": "markdown",
      "source": "# &nbsp;\n<font size=\"6\" color=\"#00A0B2\"  face=\"verdana\"> <B>Examples</B></font>  \n### seek() with optional *whence* argument "
    },
    {
      "metadata": {
        "trusted": true
      },
      "cell_type": "code",
      "source": "# [ ] review and run example - setting pointer to end of file with whence value = 2\ntips_file.seek(0,2)\ntips_file.write(\"-use seek(0,2) to set read/write at end of file\\n\")\n\n# read from beginning of file - .seek(0,0) is same as .seek(0)\ntips_file.seek(0,0)\ntips_text = tips_file.read()\nprint(tips_text)",
      "execution_count": 36,
      "outputs": [
        {
          "output_type": "stream",
          "text": "-use simple function and variable names\n-comment code\n-organize code into functions\n-use seek(0,2) to set read/write at end of file\n\n",
          "name": "stdout"
        }
      ]
    },
    {
      "metadata": {
        "trusted": true
      },
      "cell_type": "code",
      "source": "# [ ] review and run example - point to file beginning and overwrite 1st line\ntips_file.seek(0)\ntips_file.write('-use simple function and variable names\\n'.upper())\n",
      "execution_count": 37,
      "outputs": [
        {
          "output_type": "execute_result",
          "execution_count": 37,
          "data": {
            "text/plain": "40"
          },
          "metadata": {}
        }
      ]
    },
    {
      "metadata": {
        "trusted": true
      },
      "cell_type": "code",
      "source": "# [ ] review and run example - show new file contents\ntips_file.seek(0,0)\ntips_text = tips_file.read()\nprint(tips_text)",
      "execution_count": 38,
      "outputs": [
        {
          "output_type": "stream",
          "text": "-USE SIMPLE FUNCTION AND VARIABLE NAMES\n-comment code\n-organize code into functions\n-use seek(0,2) to set read/write at end of file\n\n",
          "name": "stdout"
        }
      ]
    },
    {
      "metadata": {},
      "cell_type": "markdown",
      "source": "# &nbsp;\n<font size=\"6\" color=\"#B24C00\"  face=\"verdana\"> <B>Task 3</B></font>\n## seek() with optional whence argument\n- open a new file **days.txt** in write plus read mode **'w+'** \n- write week days (Monday - Friday) on separate lines  \n- use .seek() to move the pointer to the start of the file\n- use .read() to read the entire file contents\n- print the entire file contents and close the file\n- use .seek() to move the pointer to the end of the file and write the weekend days (Saturday & Sunday)\n- use .seek() to move the pointer to the start of the file\n- use .read() to read the entire file contents\n- print the entire file contents and close the file"
    },
    {
      "metadata": {
        "trusted": true
      },
      "cell_type": "code",
      "source": "# [ ] open a new file days.txt in write plus read mode 'w+' \n# [ ] write week days (Monday - Friday) on separate lines to the file\n\nweekdays = open('days.txt', 'w+')\n\nweekdays.write(\"Monday\\nTuesday\\nWednesday\\nThursday\\nFriday\")",
      "execution_count": 48,
      "outputs": [
        {
          "output_type": "execute_result",
          "execution_count": 48,
          "data": {
            "text/plain": "40"
          },
          "metadata": {}
        }
      ]
    },
    {
      "metadata": {
        "trusted": true
      },
      "cell_type": "code",
      "source": "# [ ] use .seek() to move the pointer to the start of the file\n# [ ] use .read() to read the entire file contents\n# [ ] print the entire file contents and close the file\nweekdays.seek(0)\nprint(weekdays.read())\n\n#weekdays.close()",
      "execution_count": 49,
      "outputs": [
        {
          "output_type": "stream",
          "text": "Monday\nTuesday\nWednesday\nThursday\nFriday\n",
          "name": "stdout"
        }
      ]
    },
    {
      "metadata": {
        "trusted": true
      },
      "cell_type": "code",
      "source": "# [ ] use .seek() to move the pointer to the end of the file\n# [ ] write the weekend days (Saturday & Sunday)\n\n#weekdays = open('days.txt', 'w+')\nweekdays.seek(0,2)\nweekdays.write(\"\\nSaturday\\nSunday\")",
      "execution_count": 50,
      "outputs": [
        {
          "output_type": "execute_result",
          "execution_count": 50,
          "data": {
            "text/plain": "16"
          },
          "metadata": {}
        }
      ]
    },
    {
      "metadata": {
        "trusted": true
      },
      "cell_type": "code",
      "source": "# [ ] use .seek() to move the pointer to the start of the file\n# [ ] use .read() to read the entire file contents\n# [ ] print the entire file contents and close the file\nweekdays.seek(0)\nprint(weekdays.read())\n\nweekdays.close()",
      "execution_count": 51,
      "outputs": [
        {
          "output_type": "stream",
          "text": "Monday\nTuesday\nWednesday\nThursday\nFriday\nSaturday\nSunday\n",
          "name": "stdout"
        }
      ]
    },
    {
      "metadata": {},
      "cell_type": "markdown",
      "source": "# &nbsp;\n<font size=\"6\" color=\"#00A0B2\"  face=\"verdana\"> <B>Concepts</B></font>\n## open a file in a writeable mode\n[![view video](https://iajupyterprodblobs.blob.core.windows.net/imagecontainer/common/play_video.png)]( http://edxinteractivepage.blob.core.windows.net/edxpages/f7cff1a7-5601-48a1-95a6-fd1fdfabd20e.html?details=[{\"src\":\"http://jupyternootbookwams.streaming.mediaservices.windows.net/35b90424-34b0-4c9b-aef6-50966636f0b8/Unit2_Section4.4d-Write_Modes.ism/manifest\",\"type\":\"application/vnd.ms-sstr+xml\"}],[{\"src\":\"http://jupyternootbookwams.streaming.mediaservices.windows.net/35b90424-34b0-4c9b-aef6-50966636f0b8/Unit2_Section4.4d-Write_Modes.vtt\",\"srclang\":\"en\",\"kind\":\"subtitles\",\"label\":\"english\"}])\n### open a file in a writing mode, with: `'w', 'w+', 'r+', 'a', 'a+'` \n| MODE    |  Description  |  \n|:-------:|:--------------|  \n| 'r'  | read only mode |  \n| **'w'** | write - **overwrites** file with same name |  \n| **'w+'** | write and read mode - **overwrites** file with same name|  \n| **'r+'** | read and write mode (**no** overwrite) |  \n| **'a'**  | opens for appending to end of file (**no** overwrite) |  \n| **'a+'** | opens for appending to end of file (**no** overwrite) plus read |  \n\n**warning: `'w'`** and **`'w+'`** modes will create a new file or **overwrite** existing files (deleting all file contents)"
    },
    {
      "metadata": {
        "collapsed": true
      },
      "cell_type": "markdown",
      "source": "# &nbsp;\n<font size=\"6\" color=\"#00A0B2\"  face=\"verdana\"> <B>Concepts</B></font>\n## writing to a file opened in additional write modes:  `'r+', 'a', 'a+'` \nWriting is the same - pointers are different\n>```python\npoem_file = open('poem.txt', 'r+') \npoem_file.write(\"Hello World!\\n\")\n```  \n```python\npoem_file = open('poem.txt', 'a+') \npoem_file.write(\"Goodbye, this is the end of the file\\n\")\n```  \n\n[![view video](https://iajupyterprodblobs.blob.core.windows.net/imagecontainer/common/play_video.png)]( http://edxinteractivepage.blob.core.windows.net/edxpages/f7cff1a7-5601-48a1-95a6-fd1fdfabd20e.html?details=[{\"src\":\"http://jupyternootbookwams.streaming.mediaservices.windows.net/64698d6f-d193-485a-be39-0e9286aca1dc/Unit2_Section4.4e-Read_Write_Append.ism/manifest\",\"type\":\"application/vnd.ms-sstr+xml\"}],[{\"src\":\"http://jupyternootbookwams.streaming.mediaservices.windows.net/64698d6f-d193-485a-be39-0e9286aca1dc/Unit2_Section4.4e-Read_Write_Append.vtt\",\"srclang\":\"en\",\"kind\":\"subtitles\",\"label\":\"english\"}])\n### read mode plus write `'r+'` and append modes `'a', 'a+'`\n#### read plus mode `'r+'` differs from write modes `'w', 'w+'`  \n- read plus doesn't blank out the file contents with an overwrite  \n \n#### append modes `'a', 'a+'` differ from write modes `'w', 'w+'`   \n- append doesn't blank out the file contents with an overwrite  \n- append pointer is set to the end of the file for every write\n- append plus (a+) is append mode, **plus** read mode\n\n|   `'r+', 'a', 'a+'`                        |  \n|:------------------------------------------:|  \n|will **not overwrite** existing file content creating a blank file|   "
    },
    {
      "metadata": {},
      "cell_type": "markdown",
      "source": "### &nbsp;\n<font size=\"6\" color=\"#00A0B2\"  face=\"verdana\"> <B>Examples</B></font>  \n#### append plus mode `a+`"
    },
    {
      "metadata": {
        "trusted": true
      },
      "cell_type": "code",
      "source": "# [ ] review and run example - function writes to the open log argument\n# loads funtion into memory but the funtion is not called\ndef logger(log):\n    log_entry = input(\"enter log item (enter to quit): \")\n    count = 0\n\n    while log_entry:\n        count += 1\n        log.write(str(count) + \": \" + log_entry + \"\\n\")\n        log_entry = input(\"enter log item (enter to quit): \")\n        \n    return count\n    ",
      "execution_count": 52,
      "outputs": []
    },
    {
      "metadata": {
        "trusted": true
      },
      "cell_type": "code",
      "source": "# [ ] review and run example: makes a blank file  (initialize/reset)\n\nlog_file = open('log_file.txt', 'w+')\nlog_file.close()",
      "execution_count": 53,
      "outputs": []
    },
    {
      "metadata": {
        "trusted": true
      },
      "cell_type": "code",
      "source": "# [ ] review and run example - opens the log_file before passing to logger() function call, below\n# allows for calls below to run several times appending to the end of log_file\n\nlog_file = open('log_file.txt', 'a+')",
      "execution_count": 54,
      "outputs": []
    },
    {
      "metadata": {
        "trusted": true
      },
      "cell_type": "code",
      "source": "# [ ] review and run example - calls the above logger() function\n# what happens running the cell above (a+) again before running this cell again? \n# what happens if log_file.seek(0) is run before an append?\n\nlogger(log_file)    \n\nlog_file.seek(0)\nlog_text = log_file.read()\n\nprint()\nprint(log_text)\nlog_file.close()",
      "execution_count": 55,
      "outputs": [
        {
          "output_type": "stream",
          "name": "stdout",
          "text": "enter log item (enter to quit): hi\nenter log item (enter to quit): my\nenter log item (enter to quit): name\nenter log item (enter to quit): is\nenter log item (enter to quit): gary\nenter log item (enter to quit): \n\n1: hi\n2: my\n3: name\n4: is\n5: gary\n\n"
        }
      ]
    },
    {
      "metadata": {},
      "cell_type": "markdown",
      "source": "#### read plus mode `r+`  \n[![view video](https://iajupyterprodblobs.blob.core.windows.net/imagecontainer/common/play_video.png)](http://edxinteractivepage.blob.core.windows.net/edxpages/f7cff1a7-5601-48a1-95a6-fd1fdfabd20e.html?details=[{\"src\":\"http://jupyternootbookwams.streaming.mediaservices.windows.net/64adc0f6-c26b-439f-94f5-e011daded3cf/Unit2_Section4.4f_read_plus.ism/manifest\",\"type\":\"application/vnd.ms-sstr+xml\"}],[{\"src\":\"http://jupyternootbookwams.streaming.mediaservices.windows.net/64adc0f6-c26b-439f-94f5-e011daded3cf/Unit2_Section4.4f_read_plus.vtt\",\"srclang\":\"en\",\"kind\":\"subtitles\",\"label\":\"english\"}])\ncreate a file that has one line: \"Count is: x\"   \noverwrite with new count at the x location (x is an integer)"
    },
    {
      "metadata": {
        "trusted": true
      },
      "cell_type": "code",
      "source": "# [ ] review and run example - create a file with initial count of 0\ncount_file = open(\"count_file.txt\", \"w+\")\n\ncount_file.write(\"Count is: 0\")\ncount_file.seek(0)\nprint(count_file.readline().strip())\n\ncount_file.close()",
      "execution_count": 56,
      "outputs": [
        {
          "output_type": "stream",
          "text": "Count is: 0\n",
          "name": "stdout"
        }
      ]
    },
    {
      "metadata": {
        "trusted": true
      },
      "cell_type": "code",
      "source": "# [ ] review and run example - can rerun this cell\ncount_file = open(\"count_file.txt\", \"r+\")\n\ncount_file.seek(0)\ncount_line = count_file.readline().strip()\nprint(\"BEFORE\\n\" + count_line)\n\n# get the int character(s) after the colon and space, cast and increment\ncount = int(count_line[10:])+1\n\n# write the incremented value to the file - overwrite before value\ncount_file.seek(10)\ncount_file.write(str(count))\n\ncount_file.seek(0)\nprint(\"\\nAFTER\\n\" + count_file.readline().strip())\n\ncount_file.close()",
      "execution_count": 57,
      "outputs": [
        {
          "output_type": "stream",
          "text": "BEFORE\nCount is: 0\n\nAFTER\nCount is: 1\n",
          "name": "stdout"
        }
      ]
    },
    {
      "metadata": {
        "trusted": true
      },
      "cell_type": "code",
      "source": "# [ ]  review funtion code for inc_count() funtion that reads file and updates the count\n# the file always has 1 line that is The count is: N, where N is an integer\ndef inc_count(cnt_file):\n    cnt_file.seek(0,0)\n    cnt_line = cnt_file.readline().strip()\n    cnt = int(cnt_line[10:])+1\n    cnt_file.seek(10,0)\n    cnt_file.write(str(cnt))\n    return cnt",
      "execution_count": 59,
      "outputs": []
    },
    {
      "metadata": {
        "trusted": true
      },
      "cell_type": "code",
      "source": "# [ ] review and run example with call to function: inc_count() - **Run cell multiple times**\n# opens file/prints initial value\ncount_file = open(\"count_file.txt\", \"r+\")\n\ncount_file.seek(0)\ncount_line = count_file.readline().strip()\nprint(\"BEFORE\\n\" + count_line)\n\n# call inc_count() to increase the count 5 times\nfor i in range(5):\n    count = inc_count(count_file)\n    count_file.seek(0)\n    print(\"\\nAFTER inc_count() call\", i+1, \"\\n\" + count_file.readline().strip())\n\ncount_file.close()",
      "execution_count": 60,
      "outputs": [
        {
          "output_type": "stream",
          "text": "BEFORE\nCount is: 1\n\nAFTER inc_count() call 1 \nCount is: 2\n\nAFTER inc_count() call 2 \nCount is: 3\n\nAFTER inc_count() call 3 \nCount is: 4\n\nAFTER inc_count() call 4 \nCount is: 5\n\nAFTER inc_count() call 5 \nCount is: 6\n",
          "name": "stdout"
        }
      ]
    },
    {
      "metadata": {
        "collapsed": true
      },
      "cell_type": "markdown",
      "source": "# &nbsp;\n<font size=\"6\" color=\"#B24C00\"  face=\"verdana\"> <B>Task 4</B></font>  \n## append\n- Open task4_file.txt in append plus mode (\"a+\")  \n- create a `for item in range(5):` loop, for each loop:  \n  - write to the file: \"append #\"+ str(item)+\"\\n\"  \n  - use seek() to set the pointer to the beginning of the file  \n- print the file contents using file .read() method after eiting the loop\n\nin append mode the file should only write to the end of the file regardless of setting seek() location"
    },
    {
      "metadata": {
        "trusted": true
      },
      "cell_type": "code",
      "source": "# [ ] complete the task\n# Provided Code creates and populates task4_file.txt\ntask4_file = open('task4_file.txt', 'w+')\ntask4_file.write(\"Line1\\nLine2\\nLine3\\n\")\ntask4_file.close()\n# [ ] code here\ntask4_file = open('task4_file.txt', 'a+')\n\nfor item in range(5):\n    task4_file.write(\"append #\" + str(item) + \"\\n\")\n    task4_file.seek(0)\n\nprint(task4_file.read())",
      "execution_count": 62,
      "outputs": [
        {
          "output_type": "stream",
          "text": "Line1\nLine2\nLine3\nappend #0\nappend #1\nappend #2\nappend #3\nappend #4\n\n",
          "name": "stdout"
        }
      ]
    },
    {
      "metadata": {
        "collapsed": true
      },
      "cell_type": "markdown",
      "source": "# &nbsp;\n<font size=\"6\" color=\"#B24C00\"  face=\"verdana\"> <B>Task 5</B></font>  \n## read plus (`r+`) mode  \nread the provided code and complete the code as follows:  \n- Run the provided code below to create/open, print and close task5_file.txt \n- Open task5_file.txt in append plus mode (`\"r+\"`)  \n- create a &nbsp; **`for item in range(1,5):`** loop, then, during each loop:  \n  - write to the file: **`\"append#\" + str(item)+ \"\\n\"`**  \n  - use **`.seek(item*18)`** to set the pointer to 18x's the loop count  \n  Note: starting the first loop, `item` is 1 if using range(1,5), seek will be set to 18, 36, 54, 72  \n- print the file contents using file `.read()` method after exiting the loop  \n\n**\"r+\"** mode will write wherever the pointer is set - such as after a read or from using .seek()"
    },
    {
      "metadata": {
        "trusted": true
      },
      "cell_type": "code",
      "source": "# [ ] complete the task\n# Provided Code creates and populates task5_file.txt\ntask5_file = open('task5_file.txt', 'w+')\ntask5_file.write(\"Line---1\\nLine---2\\nLine---3\\nLine---4\\nLine---5\\nLine---6\\nLine---7\\nLine---8\\nLine---9\\nLine--10\\n\")\ntask5_file.seek(0)\nprint(\"Before:\\n\"+ task5_file.read()+\"\\n\")\ntask5_file.close()\n\n# [ ] code here",
      "execution_count": 69,
      "outputs": [
        {
          "output_type": "stream",
          "text": "Before:\nLine---1\nLine---2\nLine---3\nLine---4\nLine---5\nLine---6\nLine---7\nLine---8\nLine---9\nLine--10\n\n\n",
          "name": "stdout"
        }
      ]
    },
    {
      "metadata": {
        "trusted": true
      },
      "cell_type": "code",
      "source": "task5_file = open('task5_file.txt', 'r+') # it says append plus mode (\"r+\") but probably meant read + write mode\nfor item in range(1,5):\n    task5_file.write(\"append #\" + str(item) + \"\\n\")\n    task5_file.seek(item*18)\ntask5_file.seek(0)\nprint(task5_file.read())\n\n# no idea if this is done correctly or what they wanted here.",
      "execution_count": 70,
      "outputs": [
        {
          "output_type": "stream",
          "text": "append #1\nine---2\nappend #2\nine---4\nappend #3\nine---6\nappend #4\nine---8\nLine---9\nLine--10\n\n",
          "name": "stdout"
        }
      ]
    },
    {
      "metadata": {
        "collapsed": true
      },
      "cell_type": "markdown",
      "source": "[Terms of use](http://go.microsoft.com/fwlink/?LinkID=206977) &nbsp; [Privacy & cookies](https://go.microsoft.com/fwlink/?LinkId=521839) &nbsp; © 2017 Microsoft"
    }
  ],
  "metadata": {
    "anaconda-cloud": {},
    "kernelspec": {
      "name": "python3",
      "display_name": "Python 3",
      "language": "python"
    },
    "language_info": {
      "mimetype": "text/x-python",
      "nbconvert_exporter": "python",
      "name": "python",
      "file_extension": ".py",
      "version": "3.5.4",
      "pygments_lexer": "ipython3",
      "codemirror_mode": {
        "version": 3,
        "name": "ipython"
      }
    }
  },
  "nbformat": 4,
  "nbformat_minor": 1
}