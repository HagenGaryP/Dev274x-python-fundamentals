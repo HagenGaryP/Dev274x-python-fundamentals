{
  "cells": [
    {
      "metadata": {},
      "cell_type": "markdown",
      "source": "# 2-4 Intro Python Practice\n## Working with Files\n\n<font size=\"5\" color=\"#00A0B2\"  face=\"verdana\"> <B>Student will be able to</B></font>  \n \n- Import files into Jupyter notebooks  \n- Open and **`.read()`** local files in memory   \n- Use **`.read()`** to read a specific number of characters  \n- Use **`.readlines()`** to read data from file as a **list** of lines  \n- Use **`.readlines()`** to read data from file as a **list** of lines   \n- Use **`.readline()`** to read data from file a line at a time   \n- Use **`.strip()`** to remove new line characters  \n- Use `.write()` to write data to a new local file  \n- Use **`.seek()`** to set file read or write location  \n- Use file append mode  \n"
    },
    {
      "metadata": {
        "collapsed": true
      },
      "cell_type": "markdown",
      "source": "# &nbsp;\n<font size=\"6\" color=\"#B24C00\"  face=\"verdana\"> <B>Task 1</B></font>\n\n## Order the Rainbow\n#### Open the rainbow file then put in a list and print in alphabetical order\nDownload and open the file. \n- Download list of rainbow colors, as `rainbow.txt`, using `curl` \n  https://raw.githubusercontent.com/MicrosoftLearning/intropython/master/rainbow   \n- Open rainbow.txt in read mode using a variable: rainbow_file   \n "
    },
    {
      "metadata": {
        "trusted": true
      },
      "cell_type": "code",
      "source": "# [ ] import https://raw.githubusercontent.com/MicrosoftLearning/intropython/master/rainbow as rainbow.txt\n!curl https://raw.githubusercontent.com/MicrosoftLearning/intropython/master/rainbow -o rainbow.txt\n",
      "execution_count": 1,
      "outputs": [
        {
          "output_type": "stream",
          "text": "  % Total    % Received % Xferd  Average Speed   Time    Time     Time  Current\n                                 Dload  Upload   Total   Spent    Left  Speed\n100    43  100    43    0     0    166      0 --:--:-- --:--:-- --:--:--   167\n",
          "name": "stdout"
        }
      ]
    },
    {
      "metadata": {},
      "cell_type": "markdown",
      "source": "\n- Read rainbow_file as a list variable: rainbow_colors using `.readlines()`    \n"
    },
    {
      "metadata": {
        "trusted": true
      },
      "cell_type": "code",
      "source": "# [ ]  Open rainbow.txt in read mode & read as list with .readlines()\n\nrainbow_file = open('rainbow.txt', 'r')\n\nrainbow_colors = rainbow_file.readlines()\n",
      "execution_count": 6,
      "outputs": []
    },
    {
      "metadata": {},
      "cell_type": "markdown",
      "source": " \n1. Sort the rainbow_lines list alphabetically.  \n2. Print each line of rainbow_lines by iterating the sorted list.  \n3. Close rainbow_file.  "
    },
    {
      "metadata": {
        "trusted": true
      },
      "cell_type": "code",
      "source": "# [ ] sort rainbow_colors list, iterate the list to print each color\nrainbow_colors.sort()\n\nfor line in rainbow_colors:\n    print(line[:-1])\n\nrainbow_file.close()",
      "execution_count": 11,
      "outputs": [
        {
          "output_type": "stream",
          "text": "blue\ngreen\nindigo\norange\nred\nviolet\nyellow\n",
          "name": "stdout"
        }
      ]
    },
    {
      "metadata": {
        "collapsed": true
      },
      "cell_type": "markdown",
      "source": "# &nbsp;\n<font size=\"6\" color=\"#B24C00\"  face=\"verdana\"> <B>Task 2</B></font>\n\n## The Weather\nCreate a program that reads from a file to display city name and average temperature in Celsius.   \n\n&nbsp;  \n- use `!curl` to download https://raw.githubusercontent.com/MicrosoftLearning/intropython/master/world_temp_mean.csv as `mean_temp.txt`  \n  \n"
    },
    {
      "metadata": {
        "trusted": true
      },
      "cell_type": "code",
      "source": "# [ ] The Weather: import world_mean_team.csv as mean_temp.txt\n!curl https://raw.githubusercontent.com/MicrosoftLearning/intropython/master/world_temp_mean.csv -o mean_temp.txt\n",
      "execution_count": 13,
      "outputs": [
        {
          "output_type": "stream",
          "text": "  % Total    % Received % Xferd  Average Speed   Time    Time     Time  Current\n                                 Dload  Upload   Total   Spent    Left  Speed\n100   222  100   222    0     0   2101      0 --:--:-- --:--:-- --:--:--  2176\n",
          "name": "stdout"
        }
      ]
    },
    {
      "metadata": {},
      "cell_type": "markdown",
      "source": "1. Open the file in `'r'` mode.  \n2. Read the first line of text into a variable called: `  headings` and `print()`.  \n3. Convert `headings` to a list using **`.split(',')`** which splits on each comma, `print()` the list.\n"
    },
    {
      "metadata": {
        "trusted": true
      },
      "cell_type": "code",
      "source": "# [ ] The Weather: open file, read/print first line, convert line to list (splitting on comma)\nmean_temp = open('mean_temp.txt', 'r')\n\nheadings = mean_temp.readline().strip()\n\nprint(headings)\n\n",
      "execution_count": 19,
      "outputs": [
        {
          "output_type": "stream",
          "text": "city,country,month ave: highest high,month ave: lowest low\n",
          "name": "stdout"
        }
      ]
    },
    {
      "metadata": {
        "trusted": true
      },
      "cell_type": "code",
      "source": "headings = headings.split(',')\n\nprint(headings)",
      "execution_count": 20,
      "outputs": [
        {
          "output_type": "stream",
          "text": "['city', 'country', 'month ave: highest high', 'month ave: lowest low']\n",
          "name": "stdout"
        }
      ]
    },
    {
      "metadata": {
        "trusted": true
      },
      "cell_type": "code",
      "source": "type(headings)",
      "execution_count": 21,
      "outputs": [
        {
          "output_type": "execute_result",
          "execution_count": 21,
          "data": {
            "text/plain": "list"
          },
          "metadata": {}
        }
      ]
    },
    {
      "metadata": {},
      "cell_type": "markdown",
      "source": "#### use a while loop to read the remaining lines from the file  \n  1. Assign remaining lines to a **`city_temp`** variable.  \n  2. Convert the city_temp to a list using **`.split(',')`** for each **`.readline()`** in the loop.  \n  3. Print each city & the highest monthly average temperature.  \n  4. Close mean_temps.  \n\n>Tips & Hints:   \n- Use the print output of **`headings`** to determine the city_temp indexes to use.  \n- \"month ave: highest high\" for Beijing is 30.9 Celsius.  \n- Convert `city_temp` to lists with `.split(',')`.  "
    },
    {
      "metadata": {
        "trusted": true
      },
      "cell_type": "code",
      "source": "# [ ] The Weather: use while loop to print city and highest monthly average temp in celsius\ncity_temp = mean_temp.readline().strip()\nwhile city_temp:\n    city_temp = city_temp.split(',')\n    print(\"month ave: highest high for\", city_temp[0], \"is\", city_temp[2])\n    city_temp = mean_temp.readline().strip()\n",
      "execution_count": 22,
      "outputs": [
        {
          "output_type": "stream",
          "text": "month ave: highest high for Beijing is 30.9\nmonth ave: highest high for Cairo is 34.7\nmonth ave: highest high for London is 23.5\nmonth ave: highest high for Nairobi is 26.3\nmonth ave: highest high for New York City is 28.9\nmonth ave: highest high for Sydney is 26.5\nmonth ave: highest high for Tokyo is 30.8\n\n",
          "name": "stdout"
        }
      ]
    },
    {
      "metadata": {
        "trusted": true
      },
      "cell_type": "code",
      "source": "mean_temp.close()",
      "execution_count": 24,
      "outputs": []
    },
    {
      "metadata": {
        "collapsed": true
      },
      "cell_type": "markdown",
      "source": "# &nbsp;  \n<font size=\"6\" color=\"#B24C00\"  face=\"verdana\"> <B>Task 3</B></font>  \n\n## Random pi  guessing\nCreate random appearing numbers by reading digits of pi \n*Note: only \"appears\" random*\n\n- Download https://raw.githubusercontent.com/MicrosoftLearning/intropython/master/digits_of_pi  as pi.txt"
    },
    {
      "metadata": {
        "trusted": true
      },
      "cell_type": "code",
      "source": "# [ ] use curl to download https://raw.githubusercontent.com/MicrosoftLearning/intropython/master/digits_of_pi as pi.txt\n\n!curl https://raw.githubusercontent.com/MicrosoftLearning/intropython/master/digits_of_pi -o pi.txt",
      "execution_count": 25,
      "outputs": [
        {
          "output_type": "stream",
          "text": "  % Total    % Received % Xferd  Average Speed   Time    Time     Time  Current\n                                 Dload  Upload   Total   Spent    Left  Speed\n100   303  100   303    0     0   1276      0 --:--:-- --:--:-- --:--:--  1294\n",
          "name": "stdout"
        }
      ]
    },
    {
      "metadata": {},
      "cell_type": "markdown",
      "source": "#### Set up the project files and intitial values  \n1. Open pi.txt in read mode, the file has a single line of text \"3.14....\".  \n2. Get user name as input and say \"hi\".  \n3. Use the length of `name` for variable called `seed`.  \n4. Use `.seek()` with the value of `seed` to set the initial pointer location reading the file.  \n5. Create a variable `digit` and assign it the value of reading one character from the file.  \n6. Get `guess` variable value from users `input`  - \"enter a single digit guess or \"q\" to quit\".  \n7. Initialize `correct` and `wrong` counter variables to **`0`**  (zero).  "
    },
    {
      "metadata": {
        "trusted": true
      },
      "cell_type": "code",
      "source": "# [ ] Set up the project files and initial values\npi = open('pi.txt', 'r')\nuser = input(\"Enter name: \")\nprint(\"Hi,\", user)\n\nseed = len(user)\npi.seek(seed)\ndigit = pi.read(1)\ncorrect = 0\nwrong = 0\n",
      "execution_count": 35,
      "outputs": [
        {
          "output_type": "stream",
          "name": "stdout",
          "text": "Enter name: Garay\nHi, Garay\n"
        }
      ]
    },
    {
      "metadata": {},
      "cell_type": "markdown",
      "source": "#### Create a while loop that tests that `guess` is a *digit* string\nthen in the loop:\n1. if `digit` ( read from pi file) is \"**.**\" read the next character for digit  \n2. else if `digit` is \"\\n\" increment `seed` and use `seed` to set the pointer uing .`seek()`  \n3. else see if `guess` is equal to `digit`   \n  a. if `guess` equals `digit`: print \"correct\" and increment the varible named `correct`  \n  b. if `guess` not equal `digit`: print \"incorrect\" and increment the variable named `wrong`  \n  \n**end the while loop** when user enters any non-digit(s) for `guess`, like \"q\".  \n- Print `correct` and `wrong` values within a message to the user.  \n- Close the pi file.  "
    },
    {
      "metadata": {
        "trusted": true
      },
      "cell_type": "code",
      "source": "pi = open('pi.txt', 'r')\nuser = input(\"Enter name: \")\nprint(\"Hi,\", user)\n\nseed = len(user)\npi.seek(seed)\ndigit = pi.read(1)\ncorrect = 0\nwrong = 0\n\n\nguess = input('Enter a single digit guess or \"q\" to quit: ')    \nwhile guess.isdigit():\n    \n    if digit == '.':\n        pi.seek(seed+1)\n        digit = pi.read(1)\n    elif digit == \"\\n\":\n        seed += 1\n        pi.seek(seed)\n        digit = pi.read(1)\n    else:\n        if  guess.lower().startswith('q'):            \n            break\n        elif guess == digit:\n            print(\"Correct!\")\n            correct += 1\n            seed += 1\n            pi.seek(seed)\n            digit = pi.read(1)\n        else:\n            print(\"Incorrect!\")\n            wrong += 1\n        guess = input('Enter a single digit guess or \"q\" to quit: ')    \n        \nprint(correct, \"correct\")\nprint(wrong, \"wrong\")\n\npi.close()\n",
      "execution_count": 52,
      "outputs": [
        {
          "output_type": "stream",
          "name": "stdout",
          "text": "Enter name: Gary Hagen\nHi, Gary Hagen\nEnter a single digit guess or \"q\" to quit: 1\nIncorrect!\nEnter a single digit guess or \"q\" to quit: 2\nIncorrect!\nEnter a single digit guess or \"q\" to quit: 3\nCorrect!\nEnter a single digit guess or \"q\" to quit: 4\nIncorrect!\nEnter a single digit guess or \"q\" to quit: 5\nCorrect!\nEnter a single digit guess or \"q\" to quit: q\n2 correct\n3 wrong\n"
        }
      ]
    },
    {
      "metadata": {
        "collapsed": true,
        "trusted": false
      },
      "cell_type": "code",
      "source": "",
      "execution_count": null,
      "outputs": []
    },
    {
      "metadata": {
        "collapsed": true
      },
      "cell_type": "markdown",
      "source": "[Terms of use](http://go.microsoft.com/fwlink/?LinkID=206977) &nbsp; [Privacy & cookies](https://go.microsoft.com/fwlink/?LinkId=521839) &nbsp; © 2017 Microsoft"
    }
  ],
  "metadata": {
    "anaconda-cloud": {},
    "kernelspec": {
      "name": "python3",
      "display_name": "Python 3",
      "language": "python"
    },
    "language_info": {
      "mimetype": "text/x-python",
      "nbconvert_exporter": "python",
      "name": "python",
      "pygments_lexer": "ipython3",
      "version": "3.5.4",
      "file_extension": ".py",
      "codemirror_mode": {
        "version": 3,
        "name": "ipython"
      }
    }
  },
  "nbformat": 4,
  "nbformat_minor": 1
}