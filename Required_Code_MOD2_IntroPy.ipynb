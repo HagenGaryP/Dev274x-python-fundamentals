{
  "cells": [
    {
      "metadata": {},
      "cell_type": "markdown",
      "source": "#  Module 2 Required Coding Activity  \nIntroduction to Python (Unit 2) Fundamentals \n\n**This Activity is intended to be completed in the jupyter notebook, Required_Code_MOD2_IntroPy.ipynb, and then pasted into the assessment page that follows.**   \n \nAll course .ipynb Jupyter Notebooks are available from the project files download topic in Module 1, Section 1.\n\nThis is an activity based on code similar to the Jupyter Notebook **`Practice_MOD02_IntroPy.ipynb`** which you may have completed.  \n\n| Important Assignment Requirements |  \n|:-------------------------------|  \n| **NOTE:** This program requires creating a function using **`def`** and **`return`**, using **`print`** output, **`input`**, **`if`**, **`in`** keywords, **`.append()`**, **`.pop()`**, **`.remove()`** list methods.  As well as other standard Python |   \n\n## Program: list-o-matic  \nThis program takes string input and checks if that string is in a list of strings    \n- if string is in the list it removes the first instance from list  \n- if string is not in the list the input gets appended to the list  \n- if the string is empty then the last item is popped from the list \n- if the **list becomes empty** the program ends  \n- if the user enters \"quit\" then the program ends  \n\nprogram has 2 parts  \n- **program flow** which can be modified to ask for a specific type of item.  This is the programmers choice.  Add a list of fish, trees, books, movies, songs.... your choice.  \n- **list-o-matic** Function which takes arguments of a string and a list.  The function modifies the list and returns a message as seen below.  \n\n![TODO: upload image to blob](https://q4tiyg-ch3302.files.1drv.com/y4mkvwrxHSIqinTvp_nNGFiMn_yyJ0dsEtCzPpG_hsFMRdyEED4ExPdsWmbdPIKRpgU25VxFIUAGBdz0yzqumtxw7wy_pAJMJ3MeZ6PJQKyej6UwN6N6zOmnRq6106aqvXJB43RKRJgB2oMmidb9Zl0OBjmvFVowm-XtD2wUW5bJrgd4LS8I5Nso_vXqfpNCANRYcKe4WnjIWds4KoV4sjPIg?width=717&height=603&cropmode=none)\n\n**[ ]** initialize a list with several strings at the beginning of the program flow and follow the flow chart and output examples\n\n *example input/output*  \n ```\nlook at all the animals ['cat', 'goat', 'cat']\nenter the name of an animal: horse\n1 instance of horse appended to list\n\nlook at all the animals ['cat', 'goat', 'cat', 'horse']\nenter the name of an animal: cat\n1 instance of cat removed from list\n\nlook at all the animals ['goat', 'cat', 'horse']\nenter the name of an animal: cat\n1 instance of cat removed from list\n\nlook at all the animals ['goat', 'horse']\nenter the name of an animal:          (<-- entered empty string)\nhorse popped from list\n\nlook at all the animals ['goat']\nenter the name of an animal:          (<-- entered empty string)\ngoat popped from list\n\nGoodbye!\n```  \n\n*example 2*\n```\nlook at all the animals ['cat', 'goat', 'cat']\nenter the name of an animal: Quit\nGoodbye!\n```  \n\n"
    },
    {
      "metadata": {
        "trusted": true
      },
      "cell_type": "code",
      "source": "# [] create list-o-matic\n# [] copy and paste in edX assignment page\n\nanimal_list = ['cat', 'goat', 'cat']\nanimal = \"\"\n\ndef list_o_matic(animal):\n    if animal == \"\":\n        print(animal_list.pop(),\"popped from list\\n\")\n    elif animal in animal_list:\n        animal_list.remove(animal)\n        print(\"1 instance of\", animal, \"removed from list\\n\")\n    else:\n        animal_list.append(animal)\n        print(\"1 instance of\", animal, \"appended to list\\n\")\n\ndef run_list_o_matic():\n    while animal_list:\n        print(\"look at all the animals\", animal_list)\n        animal = input('enter the name of an animal or \"quit\" to exit: ')\n        if animal.lower() == \"quit\":\n            return(\"Goodbye!\")\n            break\n        else:\n            list_o_matic(animal)\n        if animal_list == [ ]:\n            return(\"Goodbye!\")\n\nprint(run_list_o_matic())\n\n",
      "execution_count": 4,
      "outputs": [
        {
          "output_type": "stream",
          "text": "look at all the animals ['cat', 'goat', 'cat']\nenter the name of an animal or \"quit\" to exit: CAT\n1 instance of CAT appended to list\n\nlook at all the animals ['cat', 'goat', 'cat', 'CAT']\nenter the name of an animal or \"quit\" to exit: \nCAT popped from list\n\nlook at all the animals ['cat', 'goat', 'cat']\nenter the name of an animal or \"quit\" to exit: quit\nGoodbye!\n",
          "name": "stdout"
        }
      ]
    },
    {
      "metadata": {
        "trusted": true
      },
      "cell_type": "code",
      "source": "# [] create list-o-matic\n# [] copy and paste in edX assignment page\n\nanimal_list = ['cat', 'goat', 'cat']\nanimal = \"\"\n\ndef list_o_matic(animal):\n    if animal == \"\":\n        print(animal_list.pop(),\"popped from list\\n\")\n    else:\n        remove = False\n        for item in animal_list:\n            if item == animal:\n                remove = True\n        if remove == True:\n            animal_list.remove(animal)\n            print(\"1 instance of\", animal, \"removed from list\\n\")\n        if remove == False:    \n            animal_list.append(animal)\n            print(\"1 instance of\", animal, \"appended to list\\n\")\n\ndef run_list_o_matic():\n    while animal_list:\n        print(\"look at all the animals\", animal_list)\n        animal = input('enter the name of an animal or \"quit\" to exit: ')\n        if animal.lower() == \"quit\":\n            return(\"Goodbye!\")\n            break\n        else:\n            list_o_matic(animal)\n        if animal_list == [ ]:\n            return(\"Goodbye!\")\n\nprint(run_list_o_matic())\n",
      "execution_count": null,
      "outputs": []
    },
    {
      "metadata": {},
      "cell_type": "markdown",
      "source": "### Need assignment tips and clarification? \nSee the video on the \"End of Module coding assignment > Module 2 Required Code Description\" course page on [edX](https://courses.edx.org/courses/course-v1:Microsoft+DEV274x+4T2017/course)    \n\n# Important:  [How to submit code by pasting](https://courses.edx.org/courses/course-v1:Microsoft+DEV274x+2T2017/wiki/Microsoft.DEV274x.2T2017/paste-code-end-module-coding-assignments/)\n"
    },
    {
      "metadata": {},
      "cell_type": "markdown",
      "source": "[Terms of use](http://go.microsoft.com/fwlink/?LinkID=206977) &nbsp; [Privacy & cookies](https://go.microsoft.com/fwlink/?LinkId=521839) &nbsp; © 2017 Microsoft"
    }
  ],
  "metadata": {
    "anaconda-cloud": {},
    "kernelspec": {
      "name": "python3",
      "display_name": "Python 3",
      "language": "python"
    },
    "language_info": {
      "mimetype": "text/x-python",
      "nbconvert_exporter": "python",
      "name": "python",
      "pygments_lexer": "ipython3",
      "version": "3.5.4",
      "file_extension": ".py",
      "codemirror_mode": {
        "version": 3,
        "name": "ipython"
      }
    }
  },
  "nbformat": 4,
  "nbformat_minor": 1
}