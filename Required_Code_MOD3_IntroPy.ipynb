{
  "cells": [
    {
      "metadata": {},
      "cell_type": "markdown",
      "source": "\n#  Module 3 Required Coding Activity  \nIntroduction to Python (Unit 2) Fundamentals  \n\n**This Activity is intended to be completed in the jupyter notebook, Required_Code_MOD3_IntroPy.ipynb, and then pasted into the assessment page that follows.**   \n \nAll course .ipynb Jupyter Notebooks are available from the project files download topic in Module 1, Section 1.\n\nThis is an activity from the Jupyter Notebook **`Practice_MOD03_IntroPy.ipynb`** which you may have already completed.\n\n|  Assignment Requirements |  \n|:-------------------------------|  \n| **NOTE:** This program requires **`print`** output and using code syntax used in module 3: **`if`**, **`input`**, **`def`**, **`return`**, **`for`**/**`in`** keywords, **`.lower()`** and **`.upper()`** method, **`.append`**, **`.pop`**, **`.split`** methods, **`range`** and **`len`** functions  |  \n\n## Program: poem mixer  \nThis program takes string input and then prints out a mixed order version of the string    \n\n\n**Program Parts**  \n- **program flow** gathers the word list, modifies the case and order, and prints      \n  - get string input, input like a poem, verse or saying \n  - split the string into a list of individual words  \n  - determine the length of the list\n  - Loop the length of the list by index number and for each list index:  \n    - if a word is short (3 letters or less) make the word in the list lowercase \n    - if a word is long (7 letters or more) make the word in the list uppercase   \n  - **call the word_mixer** function with the modified list  \n  - print the return value from the word_mixer function  \n\n- **word_mixer** Function has 1 argument: an original list of string words, containing greater than 5 words and the function returns a new list.   \n  - sort the original list  \n  - create a new list  \n  - Loop while the list is longer than 5 words:  \n    - *in each loop pop a word from the sorted original list and append to the new list*  \n    - pop the word 5th from the end of the list and append to the new list  \n    - pop the first word in the list and append to the new list  \n    - pop the last word in the list and append to the new list  \n  - **return** the new list on exiting the loop\n\n\n\n![TODO: upload image to blob](https://qitcyg-ch3302.files.1drv.com/y4mtK8FJlu7bvNCw_NFrJNnMEX05-bGQKZ-ljIB7ofo8jg14zZKLdYrjXQfPcL1PnNKqaBc_v85pd-47J8BBRN3Eg5LXSmxbhZG99zHmQwVTSQBd6n3S1IXgcG0lqjA8PGW1NVMQyPtX-_m_sGry5j1iCJzjiZmUrFmGckPrEYxvjPIHHelgxQ4oVYG32S32otj0cdV8f9aDv3cnvb9AvDKqg?width=727&height=586&cropmode=none)\n\n\n **input example**  *(beginning of William Blake poem, \"The Fly\")*\n\n >enter a saying or poem: `Little fly, Thy summer’s play My thoughtless hand Has brushed away. Am not I A fly like thee? Or art not thou A man like me?`  \n\n\n**output example**   \n>`or BRUSHED thy not Little thou me? SUMMER’S thee? like THOUGHTLESS play i a not hand a my fly am man`\n\n\n**alternative output** in each loop in the function that creates the new list add a \"\\\\n\" to the list   \n```\n or BRUSHED thy \n not Little thou \n me? SUMMER’S thee? \n like THOUGHTLESS play \n i a not \n hand a my \n fly am man\n```\n\n"
    },
    {
      "metadata": {
        "trusted": true
      },
      "cell_type": "code",
      "source": "# [] create poem mixer  \n# [] copy and paste in edX assignment page\n\nsaying = input(\"Enter a saying or poem: \")\nword_list = list(saying.split())\nlength = len(word_list)\n\ndef word_mixer(word_list):\n    word_list.sort()\n    new_list = []    \n    while len(word_list) > 5:\n        new_list.append(word_list.pop(-5))\n        new_list.append(word_list.pop(0))\n        new_list.append(word_list.pop(-1))\n    return new_list\n\nfor index in range(length):\n    if len(word_list[index]) <= 3:\n        word_list[index] = word_list[index].lower()\n    elif len(word_list[index]) >= 7:\n        word_list[index] = word_list[index].upper()\n    else:\n        pass\n\nnew_list = word_mixer(word_list)    \nprint(\"\\n\" + \" \".join(new_list))",
      "execution_count": 29,
      "outputs": [
        {
          "output_type": "stream",
          "name": "stdout",
          "text": "Enter a saying or poem: Little fly, Thy summer’s play My thoughtless hand Has brushed away. Am not I A fly like thee? Or art not thou A man like me?\n\nor BRUSHED thy not Little thou me? SUMMER’S thee? like THOUGHTLESS play i a not hand a my fly am man\n"
        }
      ]
    },
    {
      "metadata": {
        "trusted": true
      },
      "cell_type": "code",
      "source": "# same program, using two functions instead of one\n\ndef convert_saying():\n    saying = input(\"enter a saying or poem: \")\n    word_list = list(saying.split())\n    length = len(word_list)\n    \n    for index in range(length):\n        if len(word_list[index]) <= 3:\n            word_list[index] = word_list[index].lower()\n        elif len(word_list[index]) >= 7:\n            word_list[index] = word_list[index].upper()\n        else:\n            pass\n    new_list = word_mixer(word_list)\n    print(\"\\n\" + \" \".join(new_list))\n    \ndef word_mixer(word_list): \n    word_list.sort()\n    new_list = [ ]\n    while len(word_list) > 5:\n        new_list.append(word_list.pop(-5))\n        new_list.append(word_list.pop(0))\n        new_list.append(word_list.pop(-1))\n    return new_list\n\nconvert_saying()",
      "execution_count": 30,
      "outputs": [
        {
          "output_type": "stream",
          "name": "stdout",
          "text": "enter a saying or poem: Little fly, Thy summer’s play My thoughtless hand Has brushed away. Am not I A fly like thee? Or art not thou A man like me?\n\nor BRUSHED thy not Little thou me? SUMMER’S thee? like THOUGHTLESS play i a not hand a my fly am man\n"
        }
      ]
    },
    {
      "metadata": {},
      "cell_type": "markdown",
      "source": "[Terms of use](http://go.microsoft.com/fwlink/?LinkID=206977) &nbsp; [Privacy & cookies](https://go.microsoft.com/fwlink/?LinkId=521839) &nbsp; © 2017 Microsoft"
    },
    {
      "metadata": {},
      "cell_type": "markdown",
      "source": "<br> </br>\n## Below are my brainstorming steps\n"
    },
    {
      "metadata": {
        "trusted": true
      },
      "cell_type": "code",
      "source": "# get string input\nx = input(\"Enter a saying or poem: \")\n\n# split input to create words_list\n\n# get length of words_list\n\n# loop index , range of words_list length  (loop through and take one word at a time) \n\n# test if word_list[index] is a short word - if it is, make it lowercase.  Then go back to loop and get next index\n\n# if word_list[index] is NOT a short word - elif long word , make uppercase.  then go back to loop and get next index\n\n# when out of words, or when done, call \"word_mixer\" fnx using words_list\n\n# print return from word_mixer,  then END\n\n\n# FUNCTION\n# word_mixer(word_list)    The word_mixer fnx will be passed a list.\n\n# sort word_list using the sort method.\n\n#   WHILE\n# while word_list > 5    -  testing index numbers > 5\n\n# if list > 5 then pop word_list (5th from end)  use word_list.pop(-5), and append to new_words,\n#   then pop 1st word with word_list.pop(0) and append to new_words,\n#   then finally pop last word and append to new_words word_list.pop(-1)\n\n# then check if there's still five in list, *see WHILE*\n\n# while word_list > 5 is FALSE, 5 or less words in list\n#   return new_words\n\n\n# REQUIRED KEYWORDS\n# def, return, print, if, input, for / in loops, .lower & .upper(), .append() , .pop(), .split(), len(), range()",
      "execution_count": null,
      "outputs": []
    }
  ],
  "metadata": {
    "anaconda-cloud": {},
    "kernelspec": {
      "name": "python3",
      "display_name": "Python 3",
      "language": "python"
    },
    "language_info": {
      "mimetype": "text/x-python",
      "nbconvert_exporter": "python",
      "name": "python",
      "pygments_lexer": "ipython3",
      "version": "3.5.4",
      "file_extension": ".py",
      "codemirror_mode": {
        "version": 3,
        "name": "ipython"
      }
    }
  },
  "nbformat": 4,
  "nbformat_minor": 1
}