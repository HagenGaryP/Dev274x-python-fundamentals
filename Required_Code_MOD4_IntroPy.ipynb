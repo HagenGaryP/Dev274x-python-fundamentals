{
  "cells": [
    {
      "metadata": {},
      "cell_type": "markdown",
      "source": "\n#  Module 4 Required Coding Activity  \nIntroduction to Python (Unit 2) Fundamentals  \n\n**This Activity is intended to be completed in the jupyter notebook, Required_Code_MOD4_IntroPy.ipynb, and then pasted into the assessment page that follows.**   \n \nAll course .ipynb Jupyter Notebooks are available from the project files download topic in Module 1, Section 1.\n\nThis is an activity based on code similar to the Jupyter Notebook **`Practice_MOD04_IntroPy.ipynb`** which you may have completed.   \n\n| **Assignment Requirements** |  \n|:-------------------------------|  \n| **NOTE:** This program requires **`print`** output and code syntax used in module 4 such as variable assignment,  **`while`**, **`open`** keywords,  **`.split()`**, **`.readline()`**, **`.seek()`**, **`.write()`**, **`.close()`** methods  |  \n\n## The Weather\n#### Create a program that:  \n- imports and opens a file  \n- appends additional data to a file  \n- reads from the file to displays each city name and month average high temperature in Celsius  \n\n**Output:** The output should resemble the following\n```\nCity of Beijing month ave: highest high is 30.9 Celsius\nCity of Cairo month ave: highest high is 34.7 Celsius\nCity of London month ave: highest high is 23.5 Celsius\nCity of Nairobi month ave: highest high is 26.3 Celsius\nCity of New York City month ave: highest high is 28.9 Celsius\nCity of Sydney month ave: highest high is 26.5 Celsius\nCity of Tokyo month ave: highest high is 30.8 Celsius\nCity of Rio De Janeiro month ave: highest high is 30.0 Celsius\n```  \nall of the above text output is generated from the file  \nthe only strings are *hard coded*:  \n- \"is\"  \n- \"of\"  \n- \"Celsius\"  \n\n\n\n#### import the file into the Jupyter Notebook environment   \n- use `!curl` to download https://raw.githubusercontent.com/MicrosoftLearning/intropython/master/world_temp_mean.csv as `mean_temp.txt`  \n  \n\n```python\n# [ ] The Weather: import world_mean_team.csv as mean_temp.txt into the Jupyter notebook\n\n\n```  \n\n#### Add the weather for Rio  \n1. Open the file in append plus mode (**`'a+'`**)  \n2. Write a new line for Rio de Janeiro `\"Rio de Janeiro,Brazil,30.0,18.0\\n\"`  \n\n\n#### Grab the column headings  \n1. use .seek() to move the pointer to the beginning of the file  \n2. read the first line of text into a variable called: `headings`     \n3. convert `headings` to a list using **`.split(',')`** which splits on each comma  \n\n\n```python\n# [ ] The Weather: open file, read/print first line, convert line to list (splitting on comma)\n\n\n```\n\n#### Read the remaining lines from the file using a while loop\n  1. assign remaining lines to a **`city_temp`** variable  \n  2. convert the city_temp to a list using **`.split(',')`** for each **`.readline()`** in the loop  \n  3. print each city & the highest monthly average temperature   \n  4. close mean_temps\n\n>Tips & Hints:   \n- print **`headings`** to determine indexes to use for the final output (what is in headings[0], [1], [2]..?)  \n- the city_temp data follows the order of the headings (city_temp[0] is described by headings[0]) \n- The output should look like: **`\"month ave: highest high\" for Beijing is 30.9 Celsius`**  \n- convert `city_temp` to lists with `.split(',')`  \n\n\n```python\n# [ ] The Weather: use while loop to print city and highest monthly average temp in celsius\n\n\n```\n\n### Combine All Code into one cell, Copy and Submit on edX\n"
    },
    {
      "metadata": {
        "trusted": true
      },
      "cell_type": "code",
      "source": "# [] create The Weather\n# [] copy and paste in edX assignment page\n!curl https://raw.githubusercontent.com/MicrosoftLearning/intropython/master/world_temp_mean.csv -o mean_temp.txt\n    \nmean_temp = open('mean_temp.txt', 'a+')\nmean_temp.write(\"Rio de Janeiro,Brazil,30.0,18.0\\n\")\nmean_temp.seek(0)\nheadings = mean_temp.readline().strip()\nheadings = headings.split(',')\n\nprint(\"\\n\\n\")\n\ncity_temp = mean_temp.readline().strip()\nwhile city_temp:\n    city_temp = city_temp.split(',')\n    print(headings[0].capitalize(), \"of\", city_temp[0], headings[2], \"is\", city_temp[2], \"Celsius\")\n    city_temp = mean_temp.readline().strip()\n\nmean_temp.close()",
      "execution_count": 8,
      "outputs": [
        {
          "output_type": "stream",
          "text": "  % Total    % Received % Xferd  Average Speed   Time    Time     Time  Current\n                                 Dload  Upload   Total   Spent    Left  Speed\n100   222  100   222    0     0    855      0 --:--:-- --:--:-- --:--:--   867\n\n\n\nCity of Beijing month ave: highest high is 30.9 Celsius\nCity of Cairo month ave: highest high is 34.7 Celsius\nCity of London month ave: highest high is 23.5 Celsius\nCity of Nairobi month ave: highest high is 26.3 Celsius\nCity of New York City month ave: highest high is 28.9 Celsius\nCity of Sydney month ave: highest high is 26.5 Celsius\nCity of Tokyo month ave: highest high is 30.8 Celsius\nCity of Rio de Janeiro month ave: highest high is 30.0 Celsius\n",
          "name": "stdout"
        }
      ]
    },
    {
      "metadata": {
        "trusted": true
      },
      "cell_type": "code",
      "source": "# [] create The Weather\n# [] copy and paste in edX assignment page\n!curl https://raw.githubusercontent.com/MicrosoftLearning/intropython/master/world_temp_mean.csv -o mean_temp.txt\n\n\ndef run_weather():\n        \n    mean_temp = open('mean_temp.txt', 'a+')\n    mean_temp.write(\"Rio de Janeiro,Brazil,30.0,18.0\\n\")\n    mean_temp.seek(0)\n    headings = mean_temp.readline().strip()\n    headings = headings.split(',')\n        \n    city_temp = mean_temp.readline().strip()\n    while city_temp:\n        city_temp = city_temp.split(',')\n        print(headings[0].capitalize(), \"of\", city_temp[0], headings[2], \"is\", city_temp[2], \"Celsius\")\n        city_temp = mean_temp.readline().strip()\n\n    mean_temp.close()\nprint(\"\\n\\n\")\nrun_weather()",
      "execution_count": 26,
      "outputs": [
        {
          "output_type": "stream",
          "text": "  % Total    % Received % Xferd  Average Speed   Time    Time     Time  Current\n                                 Dload  Upload   Total   Spent    Left  Speed\n100   222  100   222    0     0   1968      0 --:--:-- --:--:-- --:--:--  2018\n\n\n\nCity of Beijing month ave: highest high is 30.9 Celsius\nCity of Cairo month ave: highest high is 34.7 Celsius\nCity of London month ave: highest high is 23.5 Celsius\nCity of Nairobi month ave: highest high is 26.3 Celsius\nCity of New York City month ave: highest high is 28.9 Celsius\nCity of Sydney month ave: highest high is 26.5 Celsius\nCity of Tokyo month ave: highest high is 30.8 Celsius\nCity of Rio de Janeiro month ave: highest high is 30.0 Celsius\n",
          "name": "stdout"
        }
      ]
    },
    {
      "metadata": {
        "trusted": true
      },
      "cell_type": "code",
      "source": "run_weather()",
      "execution_count": 27,
      "outputs": [
        {
          "output_type": "stream",
          "text": "City of Beijing month ave: highest high is 30.9 Celsius\nCity of Cairo month ave: highest high is 34.7 Celsius\nCity of London month ave: highest high is 23.5 Celsius\nCity of Nairobi month ave: highest high is 26.3 Celsius\nCity of New York City month ave: highest high is 28.9 Celsius\nCity of Sydney month ave: highest high is 26.5 Celsius\nCity of Tokyo month ave: highest high is 30.8 Celsius\nCity of Rio de Janeiro month ave: highest high is 30.0 Celsius\nCity of Rio de Janeiro month ave: highest high is 30.0 Celsius\n",
          "name": "stdout"
        }
      ]
    },
    {
      "metadata": {},
      "cell_type": "markdown",
      "source": "### Need assignment tips and clarification? \nSee the video on the \"End of Module coding assignment > Module 4 Required Code Description\" course page on [edX](https://courses.edx.org/courses/course-v1:Microsoft+DEV274x+4T2017/course)    \n\n# Important:  [How to submit code by pasting](https://courses.edx.org/courses/course-v1:Microsoft+DEV274x+2T2017/wiki/Microsoft.DEV274x.2T2017/paste-code-end-module-coding-assignments/)\n"
    },
    {
      "metadata": {},
      "cell_type": "markdown",
      "source": "[Terms of use](http://go.microsoft.com/fwlink/?LinkID=206977) &nbsp; [Privacy & cookies](https://go.microsoft.com/fwlink/?LinkId=521839) &nbsp; © 2017 Microsoft"
    }
  ],
  "metadata": {
    "anaconda-cloud": {},
    "kernelspec": {
      "name": "python3",
      "display_name": "Python 3",
      "language": "python"
    },
    "language_info": {
      "mimetype": "text/x-python",
      "nbconvert_exporter": "python",
      "name": "python",
      "pygments_lexer": "ipython3",
      "version": "3.5.4",
      "file_extension": ".py",
      "codemirror_mode": {
        "version": 3,
        "name": "ipython"
      }
    }
  },
  "nbformat": 4,
  "nbformat_minor": 1
}